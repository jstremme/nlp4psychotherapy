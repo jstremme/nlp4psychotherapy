{
 "cells": [
  {
   "cell_type": "markdown",
   "id": "6ea00513",
   "metadata": {},
   "source": [
    "### Fine-Tune Flan T5\n",
    "\n",
    "- Joel Stremmel\n",
    "- 04-17-23\n",
    "\n",
    "##### About\n",
    "\n",
    "Fine-Tune Flan T5 on the formatted data using K-Fold Cross-Validation and save the scores.\n",
    "\n",
    "https://www.philschmid.de/fine-tune-flan-t5"
   ]
  },
  {
   "cell_type": "markdown",
   "id": "9ac2c7a9",
   "metadata": {},
   "source": [
    "##### Imports"
   ]
  },
  {
   "cell_type": "code",
   "execution_count": null,
   "id": "dd145b3a",
   "metadata": {},
   "outputs": [],
   "source": [
    "import os\n",
    "import re\n",
    "import glob\n",
    "import pickle\n",
    "import torch\n",
    "import numpy as np\n",
    "import pandas as pd\n",
    "from datasets import Dataset\n",
    "from transformers import (\n",
    "    AutoTokenizer,\n",
    "    AutoModelForSeq2SeqLM,\n",
    "    Trainer,\n",
    "    Seq2SeqTrainer,\n",
    "    Seq2SeqTrainingArguments\n",
    ")"
   ]
  },
  {
   "cell_type": "markdown",
   "id": "19d89e2d",
   "metadata": {},
   "source": [
    "##### Set Parameters"
   ]
  },
  {
   "cell_type": "code",
   "execution_count": null,
   "id": "ccfa5892",
   "metadata": {},
   "outputs": [],
   "source": [
    "max_seq_len = 1024\n",
    "batch_size = 1\n",
    "accumulation_steps = 32\n",
    "lr = 0.00002\n",
    "weight_decay = 0.01\n",
    "adam_beta1 = 0.9\n",
    "adam_beta2 = 0.999\n",
    "adam_epsilon = 0.00000001\n",
    "warmup_steps = 2\n",
    "logging_steps = 1\n",
    "num_workers = 8\n",
    "seed = 44\n",
    "epochs = 5\n",
    "fp16 = False\n",
    "colab = False\n",
    "gradient_checkpointing = False\n",
    "add_summaries = False\n",
    "input_dir = './data' # \"/content/drive/MyDrive/data/\"\n",
    "model_output_dir = \"model_output\"\n",
    "results_dir = './results/' #\"/content/drive/MyDrive/results/\"\n",
    "model_key = \"flan_t5_small\" \n",
    "lm_path = \"google/flan-t5-small\""
   ]
  },
  {
   "cell_type": "markdown",
   "id": "581181f0",
   "metadata": {},
   "source": [
    "##### Optionally Connect to Google Drive"
   ]
  },
  {
   "cell_type": "code",
   "execution_count": null,
   "id": "0103ee1c",
   "metadata": {},
   "outputs": [],
   "source": [
    "if colab:\n",
    "\n",
    "    from google.colab import drive\n",
    "    drive.mount('/content/drive')"
   ]
  },
  {
   "cell_type": "markdown",
   "id": "fccb2634",
   "metadata": {},
   "source": [
    "##### Disable Tokenizer Parallelism\n",
    "This is mostly to avoid warnings."
   ]
  },
  {
   "cell_type": "code",
   "execution_count": null,
   "id": "e13a3d5f",
   "metadata": {},
   "outputs": [],
   "source": [
    "os.environ[\"TOKENIZERS_PARALLELISM\"] = \"false\""
   ]
  },
  {
   "cell_type": "markdown",
   "id": "2f78b64c",
   "metadata": {},
   "source": [
    "##### Load Formatted Data"
   ]
  },
  {
   "cell_type": "code",
   "execution_count": null,
   "id": "710a85d0",
   "metadata": {},
   "outputs": [],
   "source": [
    "if add_summaries:\n",
    "    \n",
    "    with open('data/Xwsum_folds.pkl', 'rb') as f:\n",
    "        X_folds = pickle.load(f)\n",
    "\n",
    "else:\n",
    "    \n",
    "    with open('data/X_folds.pkl', 'rb') as f:\n",
    "        X_folds = pickle.load(f)\n",
    "\n",
    "with open('data/y_folds.pkl', 'rb') as f:\n",
    "    y_folds = pickle.load(f)"
   ]
  },
  {
   "cell_type": "markdown",
   "id": "5d6b559a",
   "metadata": {},
   "source": [
    "##### Check Data Shape"
   ]
  },
  {
   "cell_type": "code",
   "execution_count": null,
   "id": "bb7c83b6",
   "metadata": {},
   "outputs": [],
   "source": [
    "assert len(X_folds) == len(y_folds), \"Expected the same number of folds in X and y.\"\n",
    "X = list(X_folds.values())\n",
    "y = list(y_folds.values())"
   ]
  },
  {
   "cell_type": "markdown",
   "id": "aac7cd9d",
   "metadata": {},
   "source": [
    "##### Check Target Prevalence"
   ]
  },
  {
   "cell_type": "code",
   "execution_count": null,
   "id": "2164340a",
   "metadata": {},
   "outputs": [],
   "source": [
    "print(f\"Target prevalance: {np.mean(np.concatenate(y))}.\")"
   ]
  },
  {
   "cell_type": "markdown",
   "id": "15ff6576",
   "metadata": {},
   "source": [
    "##### Check that GPU is Available"
   ]
  },
  {
   "cell_type": "code",
   "execution_count": null,
   "id": "617bd083",
   "metadata": {},
   "outputs": [],
   "source": [
    "assert torch.cuda.is_available(), \"Run this script on a GPU.\"\n",
    "print(torch.__version__)"
   ]
  },
  {
   "cell_type": "markdown",
   "id": "edf685ef",
   "metadata": {},
   "source": [
    "##### Tokenize Text and Fit Model to Each Fold"
   ]
  },
  {
   "cell_type": "code",
   "execution_count": null,
   "id": "45cc6d29",
   "metadata": {},
   "outputs": [],
   "source": [
    "y_probs, y_trues = [], []\n",
    "for i in range(len(X)):\n",
    "    \n",
    "    print(f\"Fitting model using fold {i} as out of fold data.\")\n",
    "    \n",
    "    # Identify train folds and shuffle samples\n",
    "    X_train, y_train = np.concatenate(X[0:i] + X[i+1:], axis=0), np.concatenate(y[0:i] + y[i+1:], axis=0)\n",
    "    indices = np.arange(len(y_train))\n",
    "    np.random.shuffle(indices)\n",
    "    X_train, y_train = X_train[indices], y_train[indices]\n",
    "    \n",
    "    # Identify test folds\n",
    "    X_test, y_test = X[i], y[i]\n",
    "    \n",
    "    # Format text and label data as HuggingFace dataset\n",
    "    train_dataset = Dataset.from_dict({\"text\": X_train, \"label\": y_train})\n",
    "    test_dataset = Dataset.from_dict({\"text\": X_test, \"label\": y_test})\n",
    "    \n",
    "    # Load model and tokenizer\n",
    "    # This will reset the model weights with each new iteration\n",
    "    tokenizer = AutoTokenizer.from_pretrained(lm_path)\n",
    "    model = AutoModelForSeq2SeqLM.from_pretrained(lm_path)\n",
    "    \n",
    "    def preprocess_function(sample, padding=\"max_length\", output_max_seq_len=20):\n",
    "    \n",
    "        # Add prefix to the input for t5\n",
    "        inputs = [\"Binary classification: \" + item for item in sample[\"text\"]]\n",
    "\n",
    "        # tokenize inputs\n",
    "        model_inputs = tokenizer(\n",
    "            inputs,\n",
    "            max_length=max_seq_len,\n",
    "            padding=padding,\n",
    "            truncation=True\n",
    "        )\n",
    "\n",
    "        # Tokenize targets with the `text_target` keyword argument\n",
    "        labels = tokenizer(\n",
    "            text_target=sample[\"text\"],\n",
    "            max_length=output_max_seq_len,\n",
    "            padding=padding,\n",
    "            truncation=True\n",
    "        )\n",
    "\n",
    "        # If we are padding here, replace all tokenizer.pad_token_id in the labels by -100 when we want to ignore\n",
    "        # padding in the loss.\n",
    "        if padding == \"max_length\":\n",
    "            labels[\"input_ids\"] = [\n",
    "                [(l if l != tokenizer.pad_token_id else -100) for l in label] for label in labels[\"input_ids\"]\n",
    "            ]\n",
    "\n",
    "        model_inputs[\"labels\"] = labels[\"input_ids\"]\n",
    "\n",
    "        return model_inputs\n",
    "    \n",
    "    # Tokenize train dataset\n",
    "    train_dataset = train_dataset.map(\n",
    "        preprocess_function,\n",
    "        batched=True,\n",
    "        remove_columns=[\"text\"],\n",
    "        batch_size=batch_size\n",
    "    )\n",
    "    train_dataset.set_format(\"pt\")\n",
    "    \n",
    "    # Tokenize test dataset\n",
    "    test_dataset = test_dataset.map(\n",
    "        preprocess_function,\n",
    "        batched=True,\n",
    "        remove_columns=[\"text\"],\n",
    "        batch_size=batch_size\n",
    "    )\n",
    "    test_dataset.set_format(\"pt\")\n",
    "    \n",
    "    # Define training arguments\n",
    "    training_args= Seq2SeqTrainingArguments(\n",
    "        output_dir=model_output_dir,\n",
    "        num_train_epochs=epochs,\n",
    "        per_device_train_batch_size=batch_size,\n",
    "        per_device_eval_batch_size=batch_size,\n",
    "        gradient_accumulation_steps=accumulation_steps,\n",
    "        warmup_steps=warmup_steps,\n",
    "        logging_steps=logging_steps,\n",
    "        weight_decay=weight_decay,\n",
    "        learning_rate=lr,\n",
    "        seed=seed,\n",
    "        adam_beta1=adam_beta1,\n",
    "        adam_beta2=adam_beta2,\n",
    "        adam_epsilon=adam_epsilon,\n",
    "        dataloader_num_workers=num_workers,\n",
    "        fp16=fp16,\n",
    "        logging_strategy=\"steps\",\n",
    "        save_strategy=\"no\",\n",
    "        lr_scheduler_type='linear',\n",
    "        optim=\"adamw_torch\",\n",
    "        run_name=model_key,\n",
    "        gradient_checkpointing=gradient_checkpointing,\n",
    "        predict_with_generate=True,\n",
    "        do_eval=False,\n",
    "        fp16_full_eval=False,\n",
    "        sharded_ddp=False,\n",
    "        load_best_model_at_end=True,\n",
    "        prediction_loss_only=False,\n",
    "        disable_tqdm=True,\n",
    "        logging_dir=None\n",
    "    )\n",
    "    \n",
    "    # Define model training\n",
    "    trainer = Trainer(\n",
    "        model=model,\n",
    "        args=training_args,\n",
    "        train_dataset=train_dataset\n",
    "    )\n",
    "    \n",
    "    # Train model\n",
    "    trainer.train()\n",
    "    \n",
    "    # Predict on test dataset\n",
    "    output = trainer.predict(test_dataset, num_beams=5, max_length=20)\n",
    "    print(output)\n",
    "    print(output.predictions)\n",
    "    print(output.label_ids)\n",
    "    break\n",
    "    \n",
    "#     labels = output.label_ids\n",
    "#     y_prob = torch.sigmoid(torch.tensor(output.predictions).double()).numpy()[:, 1]\n",
    "\n",
    "#     # Save scores and labels\n",
    "#     y_probs.append(y_prob)\n",
    "#     y_trues.append(labels)"
   ]
  },
  {
   "cell_type": "markdown",
   "id": "7da93cef",
   "metadata": {},
   "source": [
    "##### Save Model Probabilities on Test Folds and True Labels"
   ]
  },
  {
   "cell_type": "code",
   "execution_count": null,
   "id": "6bbff8d9",
   "metadata": {},
   "outputs": [],
   "source": [
    "with open(os.path.join(results_dir, f'{model_key}_y_trues.pkl'), 'wb') as f:\n",
    "    pickle.dump(y_trues, f)\n",
    "\n",
    "with open(os.path.join(results_dir, f'{model_key}_y_probs.pkl'), 'wb') as f:\n",
    "    pickle.dump(y_probs, f)"
   ]
  },
  {
   "cell_type": "code",
   "execution_count": null,
   "id": "6e4d8469",
   "metadata": {},
   "outputs": [],
   "source": []
  }
 ],
 "metadata": {
  "kernelspec": {
   "display_name": "transcripts",
   "language": "python",
   "name": "transcripts"
  },
  "language_info": {
   "codemirror_mode": {
    "name": "ipython",
    "version": 3
   },
   "file_extension": ".py",
   "mimetype": "text/x-python",
   "name": "python",
   "nbconvert_exporter": "python",
   "pygments_lexer": "ipython3",
   "version": "3.8.16"
  }
 },
 "nbformat": 4,
 "nbformat_minor": 5
}
