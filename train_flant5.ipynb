{
 "cells": [
  {
   "cell_type": "markdown",
   "id": "6ea00513",
   "metadata": {},
   "source": [
    "### Fine-Tune Flan T5\n",
    "\n",
    "- Joel Stremmel\n",
    "- 04-20-23\n",
    "\n",
    "##### About\n",
    "\n",
    "Fine-Tune Flan T5 on the formatted data using K-Fold Cross-Validation and save the scores.\n",
    "\n",
    "https://www.philschmid.de/fine-tune-flan-t5"
   ]
  },
  {
   "cell_type": "markdown",
   "id": "9ac2c7a9",
   "metadata": {},
   "source": [
    "##### Imports"
   ]
  },
  {
   "cell_type": "code",
   "execution_count": 1,
   "id": "dd145b3a",
   "metadata": {},
   "outputs": [
    {
     "name": "stderr",
     "output_type": "stream",
     "text": [
      "2023-04-20 15:57:51.987708: I tensorflow/tsl/cuda/cudart_stub.cc:28] Could not find cuda drivers on your machine, GPU will not be used.\n",
      "2023-04-20 15:57:52.039619: I tensorflow/tsl/cuda/cudart_stub.cc:28] Could not find cuda drivers on your machine, GPU will not be used.\n",
      "2023-04-20 15:57:52.040213: I tensorflow/core/platform/cpu_feature_guard.cc:182] This TensorFlow binary is optimized to use available CPU instructions in performance-critical operations.\n",
      "To enable the following instructions: AVX2 FMA, in other operations, rebuild TensorFlow with the appropriate compiler flags.\n",
      "2023-04-20 15:57:52.766868: W tensorflow/compiler/tf2tensorrt/utils/py_utils.cc:38] TF-TRT Warning: Could not find TensorRT\n"
     ]
    }
   ],
   "source": [
    "import os\n",
    "import re\n",
    "import glob\n",
    "import pickle\n",
    "import torch\n",
    "import numpy as np\n",
    "import pandas as pd\n",
    "from datasets import Dataset\n",
    "from transformers import (\n",
    "    AutoTokenizer,\n",
    "    AutoModelForSeq2SeqLM,\n",
    "    Trainer,\n",
    "    Seq2SeqTrainer,\n",
    "    Seq2SeqTrainingArguments,\n",
    "    EvalPrediction,\n",
    "    EarlyStoppingCallback\n",
    ")"
   ]
  },
  {
   "cell_type": "markdown",
   "id": "19d89e2d",
   "metadata": {},
   "source": [
    "##### Set Parameters"
   ]
  },
  {
   "cell_type": "code",
   "execution_count": 2,
   "id": "ccfa5892",
   "metadata": {},
   "outputs": [],
   "source": [
    "max_seq_len = 1024\n",
    "output_max_seq_len = 2\n",
    "batch_size = 1\n",
    "accumulation_steps = 32\n",
    "lr = 0.00002\n",
    "weight_decay = 0.01\n",
    "adam_beta1 = 0.9\n",
    "adam_beta2 = 0.999\n",
    "adam_epsilon = 0.00000001\n",
    "warmup_steps = 5\n",
    "logging_steps = 1\n",
    "num_workers = 8\n",
    "seed = 44\n",
    "epochs = 20\n",
    "fp16 = False\n",
    "colab = False\n",
    "gradient_checkpointing = False\n",
    "add_summaries = False\n",
    "input_dir = './data' # \"/content/drive/MyDrive/data/\"\n",
    "model_output_dir = \"model_output\"\n",
    "results_dir = './results/' #\"/content/drive/MyDrive/results/\"\n",
    "model_key = \"flan_t5_small\" \n",
    "lm_path = \"google/flan-t5-small\""
   ]
  },
  {
   "cell_type": "markdown",
   "id": "581181f0",
   "metadata": {},
   "source": [
    "##### Optionally Connect to Google Drive"
   ]
  },
  {
   "cell_type": "code",
   "execution_count": 3,
   "id": "0103ee1c",
   "metadata": {},
   "outputs": [],
   "source": [
    "if colab:\n",
    "\n",
    "    from google.colab import drive\n",
    "    drive.mount('/content/drive')"
   ]
  },
  {
   "cell_type": "markdown",
   "id": "fccb2634",
   "metadata": {},
   "source": [
    "##### Disable Tokenizer Parallelism\n",
    "This is mostly to avoid warnings."
   ]
  },
  {
   "cell_type": "code",
   "execution_count": 4,
   "id": "e13a3d5f",
   "metadata": {},
   "outputs": [],
   "source": [
    "os.environ[\"TOKENIZERS_PARALLELISM\"] = \"false\""
   ]
  },
  {
   "cell_type": "markdown",
   "id": "2f78b64c",
   "metadata": {},
   "source": [
    "##### Load Formatted Data"
   ]
  },
  {
   "cell_type": "code",
   "execution_count": 5,
   "id": "710a85d0",
   "metadata": {},
   "outputs": [],
   "source": [
    "if add_summaries:\n",
    "    \n",
    "    with open('data/Xwsum_folds.pkl', 'rb') as f:\n",
    "        X_folds = pickle.load(f)\n",
    "\n",
    "else:\n",
    "    \n",
    "    with open('data/X_folds.pkl', 'rb') as f:\n",
    "        X_folds = pickle.load(f)\n",
    "\n",
    "with open('data/y_folds.pkl', 'rb') as f:\n",
    "    y_folds = pickle.load(f)"
   ]
  },
  {
   "cell_type": "markdown",
   "id": "5d6b559a",
   "metadata": {},
   "source": [
    "##### Check Data Shape"
   ]
  },
  {
   "cell_type": "code",
   "execution_count": 6,
   "id": "bb7c83b6",
   "metadata": {},
   "outputs": [],
   "source": [
    "assert len(X_folds) == len(y_folds), \"Expected the same number of folds in X and y.\"\n",
    "X = list(X_folds.values())\n",
    "y = list(y_folds.values())"
   ]
  },
  {
   "cell_type": "markdown",
   "id": "aac7cd9d",
   "metadata": {},
   "source": [
    "##### Check Target Prevalence"
   ]
  },
  {
   "cell_type": "code",
   "execution_count": 7,
   "id": "2164340a",
   "metadata": {},
   "outputs": [
    {
     "name": "stdout",
     "output_type": "stream",
     "text": [
      "Target prevalance: 0.5277777777777778.\n"
     ]
    }
   ],
   "source": [
    "print(f\"Target prevalance: {np.mean(np.concatenate(y))}.\")"
   ]
  },
  {
   "cell_type": "markdown",
   "id": "15ff6576",
   "metadata": {},
   "source": [
    "##### Check that GPU is Available"
   ]
  },
  {
   "cell_type": "code",
   "execution_count": 8,
   "id": "617bd083",
   "metadata": {},
   "outputs": [
    {
     "name": "stdout",
     "output_type": "stream",
     "text": [
      "1.8.1+cu101\n"
     ]
    }
   ],
   "source": [
    "assert torch.cuda.is_available(), \"Run this script on a GPU.\"\n",
    "print(torch.__version__)"
   ]
  },
  {
   "cell_type": "markdown",
   "id": "edf685ef",
   "metadata": {},
   "source": [
    "##### Tokenize Text and Fit Model to Each Fold"
   ]
  },
  {
   "cell_type": "code",
   "execution_count": 9,
   "id": "45cc6d29",
   "metadata": {},
   "outputs": [
    {
     "name": "stdout",
     "output_type": "stream",
     "text": [
      "Fitting model using fold 0 as out of fold data.\n"
     ]
    },
    {
     "data": {
      "application/vnd.jupyter.widget-view+json": {
       "model_id": "34bde73d6226412284667fda22d10457",
       "version_major": 2,
       "version_minor": 0
      },
      "text/plain": [
       "Map:   0%|          | 0/55 [00:00<?, ? examples/s]"
      ]
     },
     "metadata": {},
     "output_type": "display_data"
    },
    {
     "data": {
      "application/vnd.jupyter.widget-view+json": {
       "model_id": "0046bf876f9c4edc8ce1c17cc32e0437",
       "version_major": 2,
       "version_minor": 0
      },
      "text/plain": [
       "Map:   0%|          | 0/17 [00:00<?, ? examples/s]"
      ]
     },
     "metadata": {},
     "output_type": "display_data"
    },
    {
     "name": "stdout",
     "output_type": "stream",
     "text": [
      "{'loss': 0.4537, 'learning_rate': 4.000000000000001e-06, 'epoch': 0.58}\n",
      "{'loss': 0.5588, 'learning_rate': 8.000000000000001e-06, 'epoch': 1.16}\n",
      "{'loss': 0.4205, 'learning_rate': 1.2e-05, 'epoch': 1.75}\n",
      "{'loss': 0.3779, 'learning_rate': 1.6000000000000003e-05, 'epoch': 2.33}\n",
      "{'loss': 0.4513, 'learning_rate': 2e-05, 'epoch': 2.91}\n",
      "{'loss': 0.4915, 'learning_rate': 1.866666666666667e-05, 'epoch': 3.49}\n",
      "{'loss': 0.3651, 'learning_rate': 1.7333333333333336e-05, 'epoch': 4.07}\n",
      "{'loss': 0.3747, 'learning_rate': 1.6000000000000003e-05, 'epoch': 4.65}\n",
      "{'loss': 0.3557, 'learning_rate': 1.4666666666666666e-05, 'epoch': 5.24}\n",
      "{'loss': 0.3377, 'learning_rate': 1.3333333333333333e-05, 'epoch': 5.82}\n",
      "{'loss': 0.2841, 'learning_rate': 1.2e-05, 'epoch': 6.4}\n",
      "{'loss': 0.3969, 'learning_rate': 1.0666666666666667e-05, 'epoch': 6.98}\n",
      "{'loss': 0.3101, 'learning_rate': 9.333333333333334e-06, 'epoch': 7.56}\n",
      "{'loss': 0.337, 'learning_rate': 8.000000000000001e-06, 'epoch': 8.15}\n",
      "{'loss': 0.375, 'learning_rate': 6.666666666666667e-06, 'epoch': 8.73}\n",
      "{'loss': 0.3844, 'learning_rate': 5.333333333333334e-06, 'epoch': 9.31}\n",
      "{'loss': 0.3748, 'learning_rate': 4.000000000000001e-06, 'epoch': 9.89}\n",
      "{'loss': 0.3098, 'learning_rate': 2.666666666666667e-06, 'epoch': 10.47}\n",
      "{'loss': 0.3846, 'learning_rate': 1.3333333333333334e-06, 'epoch': 11.05}\n",
      "{'loss': 0.3666, 'learning_rate': 0.0, 'epoch': 11.64}\n",
      "{'train_runtime': 250.9222, 'train_samples_per_second': 4.384, 'train_steps_per_second': 0.08, 'train_loss': 0.3855183333158493, 'epoch': 11.64}\n"
     ]
    },
    {
     "ename": "NameError",
     "evalue": "name 'output_max_seq_len' is not defined",
     "output_type": "error",
     "traceback": [
      "\u001b[0;31m---------------------------------------------------------------------------\u001b[0m",
      "\u001b[0;31mNameError\u001b[0m                                 Traceback (most recent call last)",
      "Cell \u001b[0;32mIn[9], line 125\u001b[0m\n\u001b[1;32m    122\u001b[0m trainer\u001b[38;5;241m.\u001b[39mtrain()\n\u001b[1;32m    124\u001b[0m \u001b[38;5;66;03m# Predict on test dataset with greedy generation\u001b[39;00m\n\u001b[0;32m--> 125\u001b[0m output \u001b[38;5;241m=\u001b[39m trainer\u001b[38;5;241m.\u001b[39mpredict(test_dataset, do_sample\u001b[38;5;241m=\u001b[39m\u001b[38;5;28;01mFalse\u001b[39;00m, max_length\u001b[38;5;241m=\u001b[39m\u001b[43moutput_max_seq_len\u001b[49m, early_stopping\u001b[38;5;241m=\u001b[39m\u001b[38;5;28;01mTrue\u001b[39;00m)\n\u001b[1;32m    126\u001b[0m preds_decoded \u001b[38;5;241m=\u001b[39m tokenizer\u001b[38;5;241m.\u001b[39mbatch_decode(output\u001b[38;5;241m.\u001b[39mpredictions, skip_special_tokens\u001b[38;5;241m=\u001b[39m\u001b[38;5;28;01mTrue\u001b[39;00m)\n\u001b[1;32m    127\u001b[0m labels \u001b[38;5;241m=\u001b[39m np\u001b[38;5;241m.\u001b[39mwhere(output\u001b[38;5;241m.\u001b[39mlabel_ids \u001b[38;5;241m!=\u001b[39m \u001b[38;5;241m-\u001b[39m\u001b[38;5;241m100\u001b[39m, output\u001b[38;5;241m.\u001b[39mlabel_ids, tokenizer\u001b[38;5;241m.\u001b[39mpad_token_id)\n",
      "\u001b[0;31mNameError\u001b[0m: name 'output_max_seq_len' is not defined"
     ]
    }
   ],
   "source": [
    "y_probs, y_trues = [], []\n",
    "for i in range(len(X)):\n",
    "    \n",
    "    print(f\"Fitting model using fold {i} as out of fold data.\")\n",
    "    \n",
    "    # Identify train folds and shuffle samples\n",
    "    X_train, y_train = np.concatenate(X[0:i] + X[i+1:], axis=0), np.concatenate(y[0:i] + y[i+1:], axis=0)\n",
    "    indices = np.arange(len(y_train))\n",
    "    np.random.shuffle(indices)\n",
    "    X_train, y_train = X_train[indices], y_train[indices]\n",
    "    \n",
    "    # Identify test folds\n",
    "    X_test, y_test = X[i], y[i]\n",
    "    \n",
    "    # Format text and label data as HuggingFace dataset\n",
    "    train_dataset = Dataset.from_dict({\"text\": X_train, \"label_ids\": [str(label) for label in y_train]})\n",
    "    test_dataset = Dataset.from_dict({\"text\": X_test, \"label_ids\": [str(label) for label in y_test]})\n",
    "    \n",
    "    # Load model and tokenizer\n",
    "    # This will reset the model weights with each new iteration\n",
    "    tokenizer = AutoTokenizer.from_pretrained(lm_path)\n",
    "    model = AutoModelForSeq2SeqLM.from_pretrained(lm_path)\n",
    "    \n",
    "    def preprocess_function(sample, padding=\"max_length\", output_max_seq_len=20):\n",
    "    \n",
    "        # Add prefix to the input for t5\n",
    "        inputs = [\"Classify this text as either 1 or 0: \" + item for item in sample[\"text\"]]\n",
    "\n",
    "        # tokenize inputs\n",
    "        model_inputs = tokenizer(\n",
    "            inputs,\n",
    "            max_length=max_seq_len,\n",
    "            padding=padding,\n",
    "            truncation=True\n",
    "        )\n",
    "\n",
    "        # Tokenize targets with the `text_target` keyword argument\n",
    "        labels = tokenizer(\n",
    "            text_target=sample[\"label_ids\"],\n",
    "            max_length=output_max_seq_len,\n",
    "            padding=padding,\n",
    "            truncation=True\n",
    "        )\n",
    "\n",
    "        # If we are padding here, replace all tokenizer.pad_token_id in the labels by -100 when we want to ignore\n",
    "        # padding in the loss.\n",
    "        if padding == \"max_length\":\n",
    "            labels[\"input_ids\"] = [\n",
    "                [(l if l != tokenizer.pad_token_id else -100) for l in label] for label in labels[\"input_ids\"]\n",
    "            ]\n",
    "\n",
    "        model_inputs[\"label_ids\"] = labels[\"input_ids\"]\n",
    "\n",
    "        return model_inputs\n",
    "    \n",
    "    # Tokenize train dataset\n",
    "    train_dataset = train_dataset.map(\n",
    "        preprocess_function,\n",
    "        batched=True,\n",
    "        remove_columns=[\"text\"],\n",
    "        batch_size=batch_size\n",
    "    )\n",
    "    train_dataset.set_format(\"pt\")\n",
    "    \n",
    "    # Tokenize test dataset\n",
    "    test_dataset = test_dataset.map(\n",
    "        preprocess_function,\n",
    "        batched=True,\n",
    "        remove_columns=[\"text\"],\n",
    "        batch_size=batch_size\n",
    "    )\n",
    "    test_dataset.set_format(\"pt\")\n",
    "    \n",
    "#     eval_steps=PARAMS[\"eval_steps\"],\n",
    "#     save_steps=PARAMS[\"save_steps\"],\n",
    "#     evaluation_strategy=PARAMS[\"evaluation_strategy\"],\n",
    "#     save_strategy=PARAMS[\"save_strategy\"],\n",
    "#     fp16_full_eval=PARAMS[\"fp16_eval\"],\n",
    "#     eval_accumulation_steps=PARAMS[\"eval_accumulation_steps\"],\n",
    "        \n",
    "    # Define training arguments\n",
    "    training_args= Seq2SeqTrainingArguments(\n",
    "        output_dir=model_output_dir,\n",
    "        num_train_epochs=epochs,\n",
    "        per_device_train_batch_size=batch_size,\n",
    "        per_device_eval_batch_size=batch_size,\n",
    "        gradient_accumulation_steps=accumulation_steps,\n",
    "        warmup_steps=warmup_steps,\n",
    "        logging_steps=logging_steps,\n",
    "        weight_decay=weight_decay,\n",
    "        learning_rate=lr,\n",
    "        seed=seed,\n",
    "        adam_beta1=adam_beta1,\n",
    "        adam_beta2=adam_beta2,\n",
    "        adam_epsilon=adam_epsilon,\n",
    "        dataloader_num_workers=num_workers,\n",
    "        fp16=fp16,\n",
    "        logging_strategy=\"steps\",\n",
    "        save_strategy=\"no\",\n",
    "        lr_scheduler_type='linear',\n",
    "        optim=\"adamw_torch\",\n",
    "        run_name=model_key,\n",
    "        gradient_checkpointing=gradient_checkpointing,\n",
    "        predict_with_generate=True,\n",
    "        generation_max_length=output_max_seq_len,\n",
    "        generation_num_beams=None, # we want do sample false\n",
    "        do_eval=False,\n",
    "        fp16_full_eval=False,\n",
    "        sharded_ddp=False,\n",
    "        load_best_model_at_end=True,\n",
    "        prediction_loss_only=False,\n",
    "        disable_tqdm=True,\n",
    "        logging_dir=None\n",
    "    )\n",
    "    \n",
    "    # Define model training\n",
    "    trainer = Seq2SeqTrainer(\n",
    "        model=model,\n",
    "        args=training_args,\n",
    "        train_dataset=train_dataset\n",
    "    )\n",
    "    \n",
    "    # Train model\n",
    "    trainer.train()\n",
    "    \n",
    "    # Predict on test dataset with greedy generation\n",
    "    output = trainer.predict(test_dataset, do_sample=False, max_length=output_max_seq_len, early_stopping=True)\n",
    "    preds_decoded = tokenizer.batch_decode(output.predictions, skip_special_tokens=True)\n",
    "    labels = np.where(output.label_ids != -100, output.label_ids, tokenizer.pad_token_id)\n",
    "    labels_decoded = tokenizer.batch_decode(labels, skip_special_tokens=True)\n",
    "    print(preds_decoded)\n",
    "    print(labels_decoded)\n",
    "\n",
    "#     labels = output.label_ids\n",
    "#     y_prob = torch.sigmoid(torch.tensor(output.predictions).double()).numpy()[:, 1]\n",
    "\n",
    "#     # Save scores and labels\n",
    "#     y_probs.append(y_prob)\n",
    "#     y_trues.append(labels)"
   ]
  },
  {
   "cell_type": "markdown",
   "id": "7da93cef",
   "metadata": {},
   "source": [
    "##### Save Model Probabilities on Test Folds and True Labels"
   ]
  },
  {
   "cell_type": "code",
   "execution_count": null,
   "id": "6bbff8d9",
   "metadata": {},
   "outputs": [],
   "source": [
    "with open(os.path.join(results_dir, f'{model_key}_y_trues.pkl'), 'wb') as f:\n",
    "    pickle.dump(y_trues, f)\n",
    "\n",
    "with open(os.path.join(results_dir, f'{model_key}_y_probs.pkl'), 'wb') as f:\n",
    "    pickle.dump(y_probs, f)"
   ]
  },
  {
   "cell_type": "code",
   "execution_count": null,
   "id": "6e4d8469",
   "metadata": {},
   "outputs": [],
   "source": []
  }
 ],
 "metadata": {
  "kernelspec": {
   "display_name": "transcripts",
   "language": "python",
   "name": "transcripts"
  },
  "language_info": {
   "codemirror_mode": {
    "name": "ipython",
    "version": 3
   },
   "file_extension": ".py",
   "mimetype": "text/x-python",
   "name": "python",
   "nbconvert_exporter": "python",
   "pygments_lexer": "ipython3",
   "version": "3.8.16"
  }
 },
 "nbformat": 4,
 "nbformat_minor": 5
}
