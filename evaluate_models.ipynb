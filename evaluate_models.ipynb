{
 "cells": [
  {
   "cell_type": "code",
   "execution_count": null,
   "id": "a37333f3",
   "metadata": {},
   "outputs": [],
   "source": []
  },
  {
   "cell_type": "code",
   "execution_count": 1,
   "id": "87dc70f1",
   "metadata": {},
   "outputs": [],
   "source": [
    "import pickle\n",
    "import numpy as np\n",
    "import pandas as pd\n",
    "import matplotlib.pyplot as plt\n",
    "from sklearn import metrics"
   ]
  },
  {
   "cell_type": "code",
   "execution_count": 2,
   "id": "2a1fc80e",
   "metadata": {},
   "outputs": [],
   "source": [
    "threshold = 0.5\n",
    "num_std = 1.96\n",
    "line_width = 2\n",
    "alpha = 0.2\n",
    "font_size = 16\n",
    "x_size = 10\n",
    "y_size = 10"
   ]
  },
  {
   "cell_type": "code",
   "execution_count": 3,
   "id": "7835c83f",
   "metadata": {},
   "outputs": [],
   "source": [
    "all_y_trues = []\n",
    "all_y_probs = []\n",
    "all_model_names = {'lr': 'L2 Regularized Logistic Regression', 'nb': 'Naive Bayes Classifier'}\n",
    "colors = [\"green\", \"orange\"] #, \"orange\", \"navy\"]\n",
    "\n",
    "for key in all_model_names.keys():\n",
    "\n",
    "    with open(f'results/{key}_y_trues.pkl', 'rb') as f:\n",
    "        y_trues = pickle.load(f)\n",
    "\n",
    "    with open(f'results/{key}_y_probs.pkl', 'rb') as f:\n",
    "        y_probs = pickle.load(f)\n",
    "        \n",
    "    all_y_trues.append(y_trues)\n",
    "    all_y_probs.append(y_probs)"
   ]
  },
  {
   "cell_type": "code",
   "execution_count": 4,
   "id": "26a6d07e",
   "metadata": {},
   "outputs": [],
   "source": [
    "def print_mean_ci_of_metric_list(metric_list, metric_name, num_std):\n",
    "    \n",
    "    mean_metric = np.mean(metric_list)\n",
    "    std_metric = np.std(metric_list)\n",
    "    metric_low = np.maximum(mean_metric - std_metric * num_std, 0)\n",
    "    metric_high = np.minimum(mean_metric + std_metric * num_std, 1)\n",
    "    \n",
    "    print(f\"{metric_name}: {round(mean_metric, 3)} [{round(metric_low, 3)} - {round(metric_high, 3)}]\")"
   ]
  },
  {
   "cell_type": "code",
   "execution_count": 5,
   "id": "4d6ff4a8",
   "metadata": {},
   "outputs": [
    {
     "name": "stdout",
     "output_type": "stream",
     "text": [
      "\n",
      "Results for model: L2 Regularized Logistic Regression\n",
      "\n",
      "Accuracy: 0.388 [0.019 - 0.758]\n",
      "Average Precision: 0.827 [0.575 - 1.0]\n",
      "Precision: 1.0 [1.0 - 1.0]\n",
      "Recall: 0.25 [0.25 - 0.25]\n",
      "\n",
      "Results for model: Naive Bayes Classifier\n",
      "\n",
      "Accuracy: 0.76 [0.477 - 1.0]\n",
      "Average Precision: 0.739 [0.367 - 1.0]\n",
      "Precision: 0.8 [0.8 - 0.8]\n",
      "Recall: 1.0 [1.0 - 1.0]\n"
     ]
    },
    {
     "name": "stderr",
     "output_type": "stream",
     "text": [
      "/home/joel_stremmel/anaconda3/envs/transcripts/lib/python3.8/site-packages/sklearn/metrics/_classification.py:1344: UndefinedMetricWarning: Precision is ill-defined and being set to 0.0 due to no predicted samples. Use `zero_division` parameter to control this behavior.\n",
      "  _warn_prf(average, modifier, msg_start, len(result))\n",
      "/home/joel_stremmel/anaconda3/envs/transcripts/lib/python3.8/site-packages/sklearn/metrics/_classification.py:1344: UndefinedMetricWarning: Precision is ill-defined and being set to 0.0 due to no predicted samples. Use `zero_division` parameter to control this behavior.\n",
      "  _warn_prf(average, modifier, msg_start, len(result))\n"
     ]
    }
   ],
   "source": [
    "for y_trues, y_probs, name, color in zip(all_y_trues, all_y_probs, all_model_names.values(), colors):\n",
    "    \n",
    "    accuracies, aps, precisions, recalls = [], [], [], []\n",
    "    for y_true, y_prob in zip(y_trues, y_probs):\n",
    "        \n",
    "        y_pred = [1 if x >= threshold else 0 for x in y_prob]\n",
    "        \n",
    "        accuracy = metrics.accuracy_score(y_true=y_true, y_pred=y_pred)\n",
    "        accuracies.append(accuracy)\n",
    "        \n",
    "        ap = metrics.average_precision_score(y_true=y_true, y_score=y_prob)\n",
    "        aps.append(ap)\n",
    "        \n",
    "        precision = metrics.precision_score(y_true=y_true, y_pred=y_pred)\n",
    "        precisions.append(precision)\n",
    "        \n",
    "        recall = metrics.recall_score(y_true=y_true, y_pred=y_pred)\n",
    "        recalls.append(recall)\n",
    "    \n",
    "    print(f\"\\nResults for model: {name}\\n\")\n",
    "    print_mean_ci_of_metric_list(accuracies, metric_name='Accuracy', num_std=num_std)\n",
    "    print_mean_ci_of_metric_list(aps, metric_name='Average Precision', num_std=num_std)\n",
    "    print_mean_ci_of_metric_list(precision, metric_name='Precision', num_std=num_std)\n",
    "    print_mean_ci_of_metric_list(recall, metric_name='Recall', num_std=num_std)\n",
    "    "
   ]
  },
  {
   "cell_type": "code",
   "execution_count": 6,
   "id": "49330972",
   "metadata": {},
   "outputs": [
    {
     "name": "stderr",
     "output_type": "stream",
     "text": [
      "/home/joel_stremmel/anaconda3/envs/transcripts/lib/python3.8/site-packages/sklearn/metrics/_ranking.py:1020: UndefinedMetricWarning: No negative samples in y_true, false positive value should be meaningless\n",
      "  warnings.warn(\n"
     ]
    },
    {
     "name": "stdout",
     "output_type": "stream",
     "text": [
      "[1, 0, 0, 0, 1, 0, 0, 0, 0, 0] [0.56640955 0.54635666 0.53799924 0.53689349 0.54414952 0.53530853\n",
      " 0.54137223 0.54558548 0.54635666 0.54635666]\n",
      "[1, 0, 0, 1, 1, 0, 0, 0] [0.53069211 0.50763485 0.50504771 0.52439905 0.51181324 0.51558784\n",
      " 0.51558784 0.51135784]\n",
      "[1, 0, 0, 0, 1, 0, 0] [0.53923229 0.50297269 0.50482105 0.52781715 0.52297296 0.52044547\n",
      " 0.52024462]\n",
      "[1, 0, 0, 1, 1, 0, 0, 0] [0.53535278 0.51507025 0.49610442 0.53206574 0.52668066 0.52080602\n",
      " 0.52900999 0.51594177]\n",
      "[1, 0, 0, 1, 1, 1, 1] [0.47818021 0.47310402 0.46497984 0.47310402 0.45211256 0.46208719\n",
      " 0.46922738]\n",
      "[1, 0, 0, 1, 1, 0, 1, 0] [0.50210094 0.46887221 0.48609829 0.49359632 0.49650383 0.50590028\n",
      " 0.49016271 0.4916216 ]\n",
      "[1, 1, 1, 1, 1, 1, 1] [0.4593291  0.44492778 0.44492778 0.45541081 0.44492778 0.42666303\n",
      " 0.44842946]\n"
     ]
    },
    {
     "ename": "ValueError",
     "evalue": "Only one class present in y_true. ROC AUC score is not defined in that case.",
     "output_type": "error",
     "traceback": [
      "\u001b[0;31m---------------------------------------------------------------------------\u001b[0m",
      "\u001b[0;31mValueError\u001b[0m                                Traceback (most recent call last)",
      "Cell \u001b[0;32mIn[6], line 14\u001b[0m\n\u001b[1;32m     11\u001b[0m fpr, tpr, _ \u001b[38;5;241m=\u001b[39m metrics\u001b[38;5;241m.\u001b[39mroc_curve(y_true, y_prob)\n\u001b[1;32m     13\u001b[0m \u001b[38;5;28mprint\u001b[39m(y_true, y_prob)\n\u001b[0;32m---> 14\u001b[0m auc \u001b[38;5;241m=\u001b[39m \u001b[43mmetrics\u001b[49m\u001b[38;5;241;43m.\u001b[39;49m\u001b[43mroc_auc_score\u001b[49m\u001b[43m(\u001b[49m\u001b[43my_true\u001b[49m\u001b[43m,\u001b[49m\u001b[43m \u001b[49m\u001b[43my_prob\u001b[49m\u001b[43m)\u001b[49m\n\u001b[1;32m     15\u001b[0m interp_tpr \u001b[38;5;241m=\u001b[39m np\u001b[38;5;241m.\u001b[39minterp(mean_fpr, fpr, tpr)\n\u001b[1;32m     16\u001b[0m interp_tpr[\u001b[38;5;241m0\u001b[39m] \u001b[38;5;241m=\u001b[39m \u001b[38;5;241m0.0\u001b[39m\n",
      "File \u001b[0;32m~/anaconda3/envs/transcripts/lib/python3.8/site-packages/sklearn/metrics/_ranking.py:572\u001b[0m, in \u001b[0;36mroc_auc_score\u001b[0;34m(y_true, y_score, average, sample_weight, max_fpr, multi_class, labels)\u001b[0m\n\u001b[1;32m    570\u001b[0m     labels \u001b[38;5;241m=\u001b[39m np\u001b[38;5;241m.\u001b[39munique(y_true)\n\u001b[1;32m    571\u001b[0m     y_true \u001b[38;5;241m=\u001b[39m label_binarize(y_true, classes\u001b[38;5;241m=\u001b[39mlabels)[:, \u001b[38;5;241m0\u001b[39m]\n\u001b[0;32m--> 572\u001b[0m     \u001b[38;5;28;01mreturn\u001b[39;00m \u001b[43m_average_binary_score\u001b[49m\u001b[43m(\u001b[49m\n\u001b[1;32m    573\u001b[0m \u001b[43m        \u001b[49m\u001b[43mpartial\u001b[49m\u001b[43m(\u001b[49m\u001b[43m_binary_roc_auc_score\u001b[49m\u001b[43m,\u001b[49m\u001b[43m \u001b[49m\u001b[43mmax_fpr\u001b[49m\u001b[38;5;241;43m=\u001b[39;49m\u001b[43mmax_fpr\u001b[49m\u001b[43m)\u001b[49m\u001b[43m,\u001b[49m\n\u001b[1;32m    574\u001b[0m \u001b[43m        \u001b[49m\u001b[43my_true\u001b[49m\u001b[43m,\u001b[49m\n\u001b[1;32m    575\u001b[0m \u001b[43m        \u001b[49m\u001b[43my_score\u001b[49m\u001b[43m,\u001b[49m\n\u001b[1;32m    576\u001b[0m \u001b[43m        \u001b[49m\u001b[43maverage\u001b[49m\u001b[43m,\u001b[49m\n\u001b[1;32m    577\u001b[0m \u001b[43m        \u001b[49m\u001b[43msample_weight\u001b[49m\u001b[38;5;241;43m=\u001b[39;49m\u001b[43msample_weight\u001b[49m\u001b[43m,\u001b[49m\n\u001b[1;32m    578\u001b[0m \u001b[43m    \u001b[49m\u001b[43m)\u001b[49m\n\u001b[1;32m    579\u001b[0m \u001b[38;5;28;01melse\u001b[39;00m:  \u001b[38;5;66;03m# multilabel-indicator\u001b[39;00m\n\u001b[1;32m    580\u001b[0m     \u001b[38;5;28;01mreturn\u001b[39;00m _average_binary_score(\n\u001b[1;32m    581\u001b[0m         partial(_binary_roc_auc_score, max_fpr\u001b[38;5;241m=\u001b[39mmax_fpr),\n\u001b[1;32m    582\u001b[0m         y_true,\n\u001b[0;32m   (...)\u001b[0m\n\u001b[1;32m    585\u001b[0m         sample_weight\u001b[38;5;241m=\u001b[39msample_weight,\n\u001b[1;32m    586\u001b[0m     )\n",
      "File \u001b[0;32m~/anaconda3/envs/transcripts/lib/python3.8/site-packages/sklearn/metrics/_base.py:75\u001b[0m, in \u001b[0;36m_average_binary_score\u001b[0;34m(binary_metric, y_true, y_score, average, sample_weight)\u001b[0m\n\u001b[1;32m     72\u001b[0m     \u001b[38;5;28;01mraise\u001b[39;00m \u001b[38;5;167;01mValueError\u001b[39;00m(\u001b[38;5;124m\"\u001b[39m\u001b[38;5;132;01m{0}\u001b[39;00m\u001b[38;5;124m format is not supported\u001b[39m\u001b[38;5;124m\"\u001b[39m\u001b[38;5;241m.\u001b[39mformat(y_type))\n\u001b[1;32m     74\u001b[0m \u001b[38;5;28;01mif\u001b[39;00m y_type \u001b[38;5;241m==\u001b[39m \u001b[38;5;124m\"\u001b[39m\u001b[38;5;124mbinary\u001b[39m\u001b[38;5;124m\"\u001b[39m:\n\u001b[0;32m---> 75\u001b[0m     \u001b[38;5;28;01mreturn\u001b[39;00m \u001b[43mbinary_metric\u001b[49m\u001b[43m(\u001b[49m\u001b[43my_true\u001b[49m\u001b[43m,\u001b[49m\u001b[43m \u001b[49m\u001b[43my_score\u001b[49m\u001b[43m,\u001b[49m\u001b[43m \u001b[49m\u001b[43msample_weight\u001b[49m\u001b[38;5;241;43m=\u001b[39;49m\u001b[43msample_weight\u001b[49m\u001b[43m)\u001b[49m\n\u001b[1;32m     77\u001b[0m check_consistent_length(y_true, y_score, sample_weight)\n\u001b[1;32m     78\u001b[0m y_true \u001b[38;5;241m=\u001b[39m check_array(y_true)\n",
      "File \u001b[0;32m~/anaconda3/envs/transcripts/lib/python3.8/site-packages/sklearn/metrics/_ranking.py:339\u001b[0m, in \u001b[0;36m_binary_roc_auc_score\u001b[0;34m(y_true, y_score, sample_weight, max_fpr)\u001b[0m\n\u001b[1;32m    337\u001b[0m \u001b[38;5;250m\u001b[39m\u001b[38;5;124;03m\"\"\"Binary roc auc score.\"\"\"\u001b[39;00m\n\u001b[1;32m    338\u001b[0m \u001b[38;5;28;01mif\u001b[39;00m \u001b[38;5;28mlen\u001b[39m(np\u001b[38;5;241m.\u001b[39munique(y_true)) \u001b[38;5;241m!=\u001b[39m \u001b[38;5;241m2\u001b[39m:\n\u001b[0;32m--> 339\u001b[0m     \u001b[38;5;28;01mraise\u001b[39;00m \u001b[38;5;167;01mValueError\u001b[39;00m(\n\u001b[1;32m    340\u001b[0m         \u001b[38;5;124m\"\u001b[39m\u001b[38;5;124mOnly one class present in y_true. ROC AUC score \u001b[39m\u001b[38;5;124m\"\u001b[39m\n\u001b[1;32m    341\u001b[0m         \u001b[38;5;124m\"\u001b[39m\u001b[38;5;124mis not defined in that case.\u001b[39m\u001b[38;5;124m\"\u001b[39m\n\u001b[1;32m    342\u001b[0m     )\n\u001b[1;32m    344\u001b[0m fpr, tpr, _ \u001b[38;5;241m=\u001b[39m roc_curve(y_true, y_score, sample_weight\u001b[38;5;241m=\u001b[39msample_weight)\n\u001b[1;32m    345\u001b[0m \u001b[38;5;28;01mif\u001b[39;00m max_fpr \u001b[38;5;129;01mis\u001b[39;00m \u001b[38;5;28;01mNone\u001b[39;00m \u001b[38;5;129;01mor\u001b[39;00m max_fpr \u001b[38;5;241m==\u001b[39m \u001b[38;5;241m1\u001b[39m:\n",
      "\u001b[0;31mValueError\u001b[0m: Only one class present in y_true. ROC AUC score is not defined in that case."
     ]
    },
    {
     "data": {
      "text/plain": [
       "<Figure size 640x480 with 0 Axes>"
      ]
     },
     "metadata": {},
     "output_type": "display_data"
    },
    {
     "data": {
      "image/png": "[encoded data removed]",
      "text/plain": [
       "<Figure size 1000x1000 with 1 Axes>"
      ]
     },
     "metadata": {},
     "output_type": "display_data"
    }
   ],
   "source": [
    "plt.clf()\n",
    "fig, ax = plt.subplots(1, 1, figsize=(x_size, y_size))\n",
    "\n",
    "for y_trues, y_probs, name, color in zip(all_y_trues, all_y_probs, all_model_names.values(), colors):\n",
    "\n",
    "    tprs, aucs = [], []\n",
    "    mean_fpr = np.linspace(0, 1, 100)\n",
    "    \n",
    "    for y_true, y_prob in zip(y_trues, y_probs):\n",
    "        \n",
    "        fpr, tpr, _ = metrics.roc_curve(y_true, y_prob)\n",
    "        \n",
    "        print(y_true, y_prob)\n",
    "        auc = metrics.roc_auc_score(y_true, y_prob)\n",
    "        interp_tpr = np.interp(mean_fpr, fpr, tpr)\n",
    "        interp_tpr[0] = 0.0\n",
    "        tprs.append(interp_tpr)\n",
    "        aucs.append(auc)\n",
    "        \n",
    "    mean_tpr = np.mean(tprs, axis=0)\n",
    "    mean_tpr[-1] = 1.0\n",
    "    std_tpr = np.std(tprs, axis=0)\n",
    "    \n",
    "    tprs_high = np.minimum(mean_tpr + num_std * std_tpr, 1)\n",
    "    tprs_low = np.maximum(mean_tpr - num_std * std_tpr, 0)\n",
    "    \n",
    "    mean_auc = np.mean(aucs, axis=0)\n",
    "    std_auc = np.std(aucs, axis=0)\n",
    "    auc_high = np.minimum(mean_auc + num_stdv * std_auc, 1)\n",
    "    auc_low = np.maximum(mean_auc + num_stdv * std_auc, 0)\n",
    "    \n",
    "    ax.plot(\n",
    "        mean_fpr,\n",
    "        mean_tpr,\n",
    "        color=color,\n",
    "        lw=line_width,\n",
    "        label=f\"{round(mean_auc, 3)} [{round(auc_low, 3)} - {round(auc_high, 3)}]\"\n",
    "    )\n",
    "    \n",
    "    ax.fill_between(\n",
    "        mean_fpr,\n",
    "        tprs_low,\n",
    "        tprs_high,\n",
    "        color=color,\n",
    "        alpha=alpha\n",
    "    )\n",
    "    \n",
    "plt.plot([0, 1], [1, 0], color='black', lw=line_width, linestyle='--')\n",
    "plt.xlim([0.0, 1.05])\n",
    "plt.ylim([0.0, 1.05])\n",
    "plt.yticks(np.arange(0, 1.1, 0.1))\n",
    "plt.xticks(np.arange(0, 1.1, 0.1))\n",
    "ax.set_yticks(np.arange(0, 1.1, 0.1), minor=True)\n",
    "ax.set_xticks(np.arange(0, 1.1, 0.1), minor=True)\n",
    "ax.tick_params(direction='out', length=6, width=0.25, colors='black', labelsize=font_size)\n",
    "ax_tick_params(axis=both, which='minor', width=0.25)\n",
    "plt.xlabel('False Positive Rate', fontsize=font_size)\n",
    "plt.ylabel('True Positive Rate', fontsize=font_size)\n",
    "plt.legend(loc='best', fontize=font_size)\n",
    "plt.tight_layout()\n",
    "plt.savefig('results/roc.png')\n",
    "plt.show()\n",
    "plt.close()"
   ]
  },
  {
   "cell_type": "code",
   "execution_count": null,
   "id": "823a7ab3",
   "metadata": {},
   "outputs": [],
   "source": []
  }
 ],
 "metadata": {
  "kernelspec": {
   "display_name": "transcripts",
   "language": "python",
   "name": "transcripts"
  },
  "language_info": {
   "codemirror_mode": {
    "name": "ipython",
    "version": 3
   },
   "file_extension": ".py",
   "mimetype": "text/x-python",
   "name": "python",
   "nbconvert_exporter": "python",
   "pygments_lexer": "ipython3",
   "version": "3.8.16"
  }
 },
 "nbformat": 4,
 "nbformat_minor": 5
}
