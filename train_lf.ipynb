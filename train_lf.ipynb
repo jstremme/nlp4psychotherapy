{
 "cells": [
  {
   "cell_type": "markdown",
   "id": "6ea00513",
   "metadata": {},
   "source": [
    "### Fine-Tune Longformer\n",
    "\n",
    "- Joel Stremmel\n",
    "- 04-11-23\n",
    "\n",
    "##### About\n",
    "\n",
    "Fine-Tune Longformer on the formatted data using K-Fold Cross-Validation and save the scores."
   ]
  },
  {
   "cell_type": "markdown",
   "id": "9ac2c7a9",
   "metadata": {},
   "source": [
    "##### Imports"
   ]
  },
  {
   "cell_type": "code",
   "execution_count": 1,
   "id": "dd145b3a",
   "metadata": {},
   "outputs": [],
   "source": [
    "import os\n",
    "import re\n",
    "import glob\n",
    "import pickle\n",
    "import torch\n",
    "import numpy as np\n",
    "import pandas as pd\n",
    "from datasets import Dataset\n",
    "from transformers import (\n",
    "    AutoTokenizer,\n",
    "    AutoModelForSequenceClassification,\n",
    "    Trainer,\n",
    "    TrainingArguments\n",
    ")"
   ]
  },
  {
   "cell_type": "markdown",
   "id": "19d89e2d",
   "metadata": {},
   "source": [
    "##### Set Parameters"
   ]
  },
  {
   "cell_type": "code",
   "execution_count": 2,
   "id": "ccfa5892",
   "metadata": {},
   "outputs": [],
   "source": [
    "max_seq_len = 1024 # 4096\n",
    "batch_size = 32\n",
    "accumulation_steps = 1\n",
    "lr = 0.00005\n",
    "weight_decay = 0.01\n",
    "adam_beta1 = 0.9\n",
    "adam_beta2 = 0.999\n",
    "adam_epsilon = 0.00000001\n",
    "warmup_steps = 10\n",
    "logging_steps = 1\n",
    "num_workers = 8\n",
    "seed = 42\n",
    "epochs = 10\n",
    "fp16 = True\n",
    "output_dir = \"lf_output\"\n",
    "lm_path = \"kiddothe2b/longformer-mini-1024\" # \"allenai/longformer-base-4096\""
   ]
  },
  {
   "cell_type": "markdown",
   "id": "fccb2634",
   "metadata": {},
   "source": [
    "##### Disable Tokenizer Parallelism\n",
    "This is mostly to avoid warnings."
   ]
  },
  {
   "cell_type": "code",
   "execution_count": 3,
   "id": "e13a3d5f",
   "metadata": {},
   "outputs": [],
   "source": [
    "os.environ[\"TOKENIZERS_PARALLELISM\"] = \"false\""
   ]
  },
  {
   "cell_type": "markdown",
   "id": "2f78b64c",
   "metadata": {},
   "source": [
    "##### Load Formatted Data"
   ]
  },
  {
   "cell_type": "code",
   "execution_count": 4,
   "id": "710a85d0",
   "metadata": {},
   "outputs": [],
   "source": [
    "with open('data/X_folds.pkl', 'rb') as f:\n",
    "    X_folds = pickle.load(f)\n",
    "\n",
    "with open('data/y_folds.pkl', 'rb') as f:\n",
    "    y_folds = pickle.load(f)"
   ]
  },
  {
   "cell_type": "markdown",
   "id": "5d6b559a",
   "metadata": {},
   "source": [
    "##### Check Data Shape"
   ]
  },
  {
   "cell_type": "code",
   "execution_count": 5,
   "id": "bb7c83b6",
   "metadata": {},
   "outputs": [],
   "source": [
    "assert len(X_folds) == len(y_folds), \"Expected the same number of folds in X and y.\"\n",
    "X = list(X_folds.values())\n",
    "y = list(y_folds.values())"
   ]
  },
  {
   "cell_type": "markdown",
   "id": "aac7cd9d",
   "metadata": {},
   "source": [
    "##### Check Target Prevalence"
   ]
  },
  {
   "cell_type": "code",
   "execution_count": 6,
   "id": "2164340a",
   "metadata": {},
   "outputs": [
    {
     "name": "stdout",
     "output_type": "stream",
     "text": [
      "Target prevalance: 0.5.\n"
     ]
    }
   ],
   "source": [
    "print(f\"Target prevalance: {np.mean(np.concatenate(y))}.\")"
   ]
  },
  {
   "cell_type": "markdown",
   "id": "15ff6576",
   "metadata": {},
   "source": [
    "##### Check that GPU is Available"
   ]
  },
  {
   "cell_type": "code",
   "execution_count": 7,
   "id": "617bd083",
   "metadata": {},
   "outputs": [
    {
     "name": "stdout",
     "output_type": "stream",
     "text": [
      "1.8.1+cu101\n"
     ]
    }
   ],
   "source": [
    "assert torch.cuda.is_available(), \"Run this script on a GPU.\"\n",
    "print(torch.__version__)"
   ]
  },
  {
   "cell_type": "markdown",
   "id": "85f2951e",
   "metadata": {},
   "source": [
    "##### Tokenize Text and Fit Model to Each Fold"
   ]
  },
  {
   "cell_type": "code",
   "execution_count": 8,
   "id": "45cc6d29",
   "metadata": {},
   "outputs": [
    {
     "name": "stdout",
     "output_type": "stream",
     "text": [
      "Fitting model using fold 0 as out of fold data.\n"
     ]
    },
    {
     "name": "stderr",
     "output_type": "stream",
     "text": [
      "Some weights of the model checkpoint at kiddothe2b/longformer-mini-1024 were not used when initializing LongformerForSequenceClassification: ['longformer.embeddings.position_ids', 'lm_head.decoder.weight', 'lm_head.dense.bias', 'lm_head.layer_norm.bias', 'lm_head.dense.weight', 'lm_head.layer_norm.weight', 'lm_head.decoder.bias', 'lm_head.bias']\n",
      "- This IS expected if you are initializing LongformerForSequenceClassification from the checkpoint of a model trained on another task or with another architecture (e.g. initializing a BertForSequenceClassification model from a BertForPreTraining model).\n",
      "- This IS NOT expected if you are initializing LongformerForSequenceClassification from the checkpoint of a model that you expect to be exactly identical (initializing a BertForSequenceClassification model from a BertForSequenceClassification model).\n",
      "Some weights of LongformerForSequenceClassification were not initialized from the model checkpoint at kiddothe2b/longformer-mini-1024 and are newly initialized: ['classifier.dense.weight', 'classifier.out_proj.bias', 'classifier.out_proj.weight', 'classifier.dense.bias']\n",
      "You should probably TRAIN this model on a down-stream task to be able to use it for predictions and inference.\n"
     ]
    },
    {
     "data": {
      "application/vnd.jupyter.widget-view+json": {
       "model_id": "341555d7537f40c59f271ad183eee09b",
       "version_major": 2,
       "version_minor": 0
      },
      "text/plain": [
       "Map:   0%|          | 0/54 [00:00<?, ? examples/s]"
      ]
     },
     "metadata": {},
     "output_type": "display_data"
    },
    {
     "data": {
      "application/vnd.jupyter.widget-view+json": {
       "model_id": "455db2f8258b4476aac5dde2334aa03b",
       "version_major": 2,
       "version_minor": 0
      },
      "text/plain": [
       "Map:   0%|          | 0/18 [00:00<?, ? examples/s]"
      ]
     },
     "metadata": {},
     "output_type": "display_data"
    },
    {
     "name": "stdout",
     "output_type": "stream",
     "text": [
      "{'loss': 0.6949, 'learning_rate': 5e-06, 'epoch': 0.5}\n",
      "{'loss': 0.7024, 'learning_rate': 1e-05, 'epoch': 1.0}\n",
      "{'loss': 0.6932, 'learning_rate': 1.5e-05, 'epoch': 1.5}\n",
      "{'loss': 0.717, 'learning_rate': 2e-05, 'epoch': 2.0}\n",
      "{'loss': 0.6932, 'learning_rate': 2.5e-05, 'epoch': 2.5}\n",
      "{'loss': 0.6863, 'learning_rate': 3e-05, 'epoch': 3.0}\n",
      "{'loss': 0.6732, 'learning_rate': 3.5e-05, 'epoch': 3.5}\n",
      "{'loss': 0.6862, 'learning_rate': 4e-05, 'epoch': 4.0}\n",
      "{'loss': 0.6963, 'learning_rate': 4.5e-05, 'epoch': 4.5}\n",
      "{'loss': 0.6021, 'learning_rate': 5e-05, 'epoch': 5.0}\n",
      "{'loss': 0.6579, 'learning_rate': 4.5e-05, 'epoch': 5.5}\n",
      "{'loss': 0.6853, 'learning_rate': 4e-05, 'epoch': 6.0}\n",
      "{'loss': 0.6716, 'learning_rate': 3.5e-05, 'epoch': 6.5}\n",
      "{'loss': 0.6549, 'learning_rate': 3e-05, 'epoch': 7.0}\n",
      "{'loss': 0.6176, 'learning_rate': 2.5e-05, 'epoch': 7.5}\n",
      "{'loss': 0.688, 'learning_rate': 2e-05, 'epoch': 8.0}\n",
      "{'loss': 0.6268, 'learning_rate': 1.5e-05, 'epoch': 8.5}\n",
      "{'loss': 0.6479, 'learning_rate': 1e-05, 'epoch': 9.0}\n",
      "{'loss': 0.6368, 'learning_rate': 5e-06, 'epoch': 9.5}\n",
      "{'loss': 0.6421, 'learning_rate': 0.0, 'epoch': 10.0}\n",
      "{'train_runtime': 91.6839, 'train_samples_per_second': 5.89, 'train_steps_per_second': 0.218, 'train_loss': 0.668687778711319, 'epoch': 10.0}\n",
      "Fitting model using fold 1 as out of fold data.\n"
     ]
    },
    {
     "name": "stderr",
     "output_type": "stream",
     "text": [
      "Some weights of the model checkpoint at kiddothe2b/longformer-mini-1024 were not used when initializing LongformerForSequenceClassification: ['longformer.embeddings.position_ids', 'lm_head.decoder.weight', 'lm_head.dense.bias', 'lm_head.layer_norm.bias', 'lm_head.dense.weight', 'lm_head.layer_norm.weight', 'lm_head.decoder.bias', 'lm_head.bias']\n",
      "- This IS expected if you are initializing LongformerForSequenceClassification from the checkpoint of a model trained on another task or with another architecture (e.g. initializing a BertForSequenceClassification model from a BertForPreTraining model).\n",
      "- This IS NOT expected if you are initializing LongformerForSequenceClassification from the checkpoint of a model that you expect to be exactly identical (initializing a BertForSequenceClassification model from a BertForSequenceClassification model).\n",
      "Some weights of LongformerForSequenceClassification were not initialized from the model checkpoint at kiddothe2b/longformer-mini-1024 and are newly initialized: ['classifier.dense.weight', 'classifier.out_proj.bias', 'classifier.out_proj.weight', 'classifier.dense.bias']\n",
      "You should probably TRAIN this model on a down-stream task to be able to use it for predictions and inference.\n"
     ]
    },
    {
     "data": {
      "application/vnd.jupyter.widget-view+json": {
       "model_id": "5e7ee0eb027c43bf992f14ea86337e5d",
       "version_major": 2,
       "version_minor": 0
      },
      "text/plain": [
       "Map:   0%|          | 0/57 [00:00<?, ? examples/s]"
      ]
     },
     "metadata": {},
     "output_type": "display_data"
    },
    {
     "data": {
      "application/vnd.jupyter.widget-view+json": {
       "model_id": "e92d8ecb459a4db681819ad641589fad",
       "version_major": 2,
       "version_minor": 0
      },
      "text/plain": [
       "Map:   0%|          | 0/15 [00:00<?, ? examples/s]"
      ]
     },
     "metadata": {},
     "output_type": "display_data"
    },
    {
     "name": "stdout",
     "output_type": "stream",
     "text": [
      "{'loss': 0.6935, 'learning_rate': 5e-06, 'epoch': 0.5}\n",
      "{'loss': 0.6936, 'learning_rate': 1e-05, 'epoch': 1.0}\n",
      "{'loss': 0.685, 'learning_rate': 1.5e-05, 'epoch': 1.5}\n",
      "{'loss': 0.6982, 'learning_rate': 2e-05, 'epoch': 2.0}\n",
      "{'loss': 0.6841, 'learning_rate': 2.5e-05, 'epoch': 2.5}\n",
      "{'loss': 0.7039, 'learning_rate': 3e-05, 'epoch': 3.0}\n",
      "{'loss': 0.6698, 'learning_rate': 3.5e-05, 'epoch': 3.5}\n",
      "{'loss': 0.6949, 'learning_rate': 4e-05, 'epoch': 4.0}\n",
      "{'loss': 0.6628, 'learning_rate': 4.5e-05, 'epoch': 4.5}\n",
      "{'loss': 0.6987, 'learning_rate': 5e-05, 'epoch': 5.0}\n",
      "{'loss': 0.6935, 'learning_rate': 4.5e-05, 'epoch': 5.5}\n",
      "{'loss': 0.6164, 'learning_rate': 4e-05, 'epoch': 6.0}\n",
      "{'loss': 0.6631, 'learning_rate': 3.5e-05, 'epoch': 6.5}\n",
      "{'loss': 0.6464, 'learning_rate': 3e-05, 'epoch': 7.0}\n",
      "{'loss': 0.6569, 'learning_rate': 2.5e-05, 'epoch': 7.5}\n",
      "{'loss': 0.6075, 'learning_rate': 2e-05, 'epoch': 8.0}\n",
      "{'loss': 0.6493, 'learning_rate': 1.5e-05, 'epoch': 8.5}\n",
      "{'loss': 0.6127, 'learning_rate': 1e-05, 'epoch': 9.0}\n",
      "{'loss': 0.6505, 'learning_rate': 5e-06, 'epoch': 9.5}\n",
      "{'loss': 0.618, 'learning_rate': 0.0, 'epoch': 10.0}\n",
      "{'train_runtime': 97.4235, 'train_samples_per_second': 5.851, 'train_steps_per_second': 0.205, 'train_loss': 0.6649453699588775, 'epoch': 10.0}\n",
      "Fitting model using fold 2 as out of fold data.\n"
     ]
    },
    {
     "name": "stderr",
     "output_type": "stream",
     "text": [
      "Some weights of the model checkpoint at kiddothe2b/longformer-mini-1024 were not used when initializing LongformerForSequenceClassification: ['longformer.embeddings.position_ids', 'lm_head.decoder.weight', 'lm_head.dense.bias', 'lm_head.layer_norm.bias', 'lm_head.dense.weight', 'lm_head.layer_norm.weight', 'lm_head.decoder.bias', 'lm_head.bias']\n",
      "- This IS expected if you are initializing LongformerForSequenceClassification from the checkpoint of a model trained on another task or with another architecture (e.g. initializing a BertForSequenceClassification model from a BertForPreTraining model).\n",
      "- This IS NOT expected if you are initializing LongformerForSequenceClassification from the checkpoint of a model that you expect to be exactly identical (initializing a BertForSequenceClassification model from a BertForSequenceClassification model).\n",
      "Some weights of LongformerForSequenceClassification were not initialized from the model checkpoint at kiddothe2b/longformer-mini-1024 and are newly initialized: ['classifier.dense.weight', 'classifier.out_proj.bias', 'classifier.out_proj.weight', 'classifier.dense.bias']\n",
      "You should probably TRAIN this model on a down-stream task to be able to use it for predictions and inference.\n"
     ]
    },
    {
     "data": {
      "application/vnd.jupyter.widget-view+json": {
       "model_id": "0b8cdd71209a459ca602387e02364ca1",
       "version_major": 2,
       "version_minor": 0
      },
      "text/plain": [
       "Map:   0%|          | 0/57 [00:00<?, ? examples/s]"
      ]
     },
     "metadata": {},
     "output_type": "display_data"
    },
    {
     "data": {
      "application/vnd.jupyter.widget-view+json": {
       "model_id": "de9b025b9b2f4f658071ad1a4e626070",
       "version_major": 2,
       "version_minor": 0
      },
      "text/plain": [
       "Map:   0%|          | 0/15 [00:00<?, ? examples/s]"
      ]
     },
     "metadata": {},
     "output_type": "display_data"
    },
    {
     "name": "stdout",
     "output_type": "stream",
     "text": [
      "{'loss': 0.6905, 'learning_rate': 5e-06, 'epoch': 0.5}\n",
      "{'loss': 0.6875, 'learning_rate': 1e-05, 'epoch': 1.0}\n",
      "{'loss': 0.6859, 'learning_rate': 1.5e-05, 'epoch': 1.5}\n",
      "{'loss': 0.6986, 'learning_rate': 2e-05, 'epoch': 2.0}\n",
      "{'loss': 0.6793, 'learning_rate': 2.5e-05, 'epoch': 2.5}\n",
      "{'loss': 0.7032, 'learning_rate': 3e-05, 'epoch': 3.0}\n",
      "{'loss': 0.6794, 'learning_rate': 3.5e-05, 'epoch': 3.5}\n",
      "{'loss': 0.6871, 'learning_rate': 4e-05, 'epoch': 4.0}\n",
      "{'loss': 0.6873, 'learning_rate': 4.5e-05, 'epoch': 4.5}\n",
      "{'loss': 0.6699, 'learning_rate': 5e-05, 'epoch': 5.0}\n",
      "{'loss': 0.678, 'learning_rate': 4.5e-05, 'epoch': 5.5}\n",
      "{'loss': 0.6371, 'learning_rate': 4e-05, 'epoch': 6.0}\n",
      "{'loss': 0.6618, 'learning_rate': 3.5e-05, 'epoch': 6.5}\n",
      "{'loss': 0.6319, 'learning_rate': 3e-05, 'epoch': 7.0}\n",
      "{'loss': 0.6367, 'learning_rate': 2.5e-05, 'epoch': 7.5}\n",
      "{'loss': 0.6375, 'learning_rate': 2e-05, 'epoch': 8.0}\n",
      "{'loss': 0.6398, 'learning_rate': 1.5e-05, 'epoch': 8.5}\n",
      "{'loss': 0.6252, 'learning_rate': 1e-05, 'epoch': 9.0}\n",
      "{'loss': 0.5978, 'learning_rate': 5e-06, 'epoch': 9.5}\n",
      "{'loss': 0.6605, 'learning_rate': 0.0, 'epoch': 10.0}\n",
      "{'train_runtime': 103.594, 'train_samples_per_second': 5.502, 'train_steps_per_second': 0.193, 'train_loss': 0.6637465864419937, 'epoch': 10.0}\n",
      "Fitting model using fold 3 as out of fold data.\n"
     ]
    },
    {
     "name": "stderr",
     "output_type": "stream",
     "text": [
      "Some weights of the model checkpoint at kiddothe2b/longformer-mini-1024 were not used when initializing LongformerForSequenceClassification: ['longformer.embeddings.position_ids', 'lm_head.decoder.weight', 'lm_head.dense.bias', 'lm_head.layer_norm.bias', 'lm_head.dense.weight', 'lm_head.layer_norm.weight', 'lm_head.decoder.bias', 'lm_head.bias']\n",
      "- This IS expected if you are initializing LongformerForSequenceClassification from the checkpoint of a model trained on another task or with another architecture (e.g. initializing a BertForSequenceClassification model from a BertForPreTraining model).\n",
      "- This IS NOT expected if you are initializing LongformerForSequenceClassification from the checkpoint of a model that you expect to be exactly identical (initializing a BertForSequenceClassification model from a BertForSequenceClassification model).\n",
      "Some weights of LongformerForSequenceClassification were not initialized from the model checkpoint at kiddothe2b/longformer-mini-1024 and are newly initialized: ['classifier.dense.weight', 'classifier.out_proj.bias', 'classifier.out_proj.weight', 'classifier.dense.bias']\n",
      "You should probably TRAIN this model on a down-stream task to be able to use it for predictions and inference.\n"
     ]
    },
    {
     "data": {
      "application/vnd.jupyter.widget-view+json": {
       "model_id": "6a60df3c31814296b0d161ecc2840a0b",
       "version_major": 2,
       "version_minor": 0
      },
      "text/plain": [
       "Map:   0%|          | 0/61 [00:00<?, ? examples/s]"
      ]
     },
     "metadata": {},
     "output_type": "display_data"
    },
    {
     "data": {
      "application/vnd.jupyter.widget-view+json": {
       "model_id": "51f69eb149cf43fcbbb0fa5a3e30534d",
       "version_major": 2,
       "version_minor": 0
      },
      "text/plain": [
       "Map:   0%|          | 0/11 [00:00<?, ? examples/s]"
      ]
     },
     "metadata": {},
     "output_type": "display_data"
    },
    {
     "name": "stdout",
     "output_type": "stream",
     "text": [
      "{'loss': 0.7017, 'learning_rate': 5e-06, 'epoch': 0.5}\n",
      "{'loss': 0.7031, 'learning_rate': 1e-05, 'epoch': 1.0}\n",
      "{'loss': 0.6949, 'learning_rate': 1.5e-05, 'epoch': 1.5}\n",
      "{'loss': 0.7042, 'learning_rate': 2e-05, 'epoch': 2.0}\n",
      "{'loss': 0.6904, 'learning_rate': 2.5e-05, 'epoch': 2.5}\n",
      "{'loss': 0.6825, 'learning_rate': 3e-05, 'epoch': 3.0}\n",
      "{'loss': 0.6951, 'learning_rate': 3.5e-05, 'epoch': 3.5}\n",
      "{'loss': 0.6621, 'learning_rate': 4e-05, 'epoch': 4.0}\n",
      "{'loss': 0.6671, 'learning_rate': 4.5e-05, 'epoch': 4.5}\n",
      "{'loss': 0.6713, 'learning_rate': 5e-05, 'epoch': 5.0}\n",
      "{'loss': 0.6707, 'learning_rate': 4.5e-05, 'epoch': 5.5}\n",
      "{'loss': 0.6466, 'learning_rate': 4e-05, 'epoch': 6.0}\n",
      "{'loss': 0.6391, 'learning_rate': 3.5e-05, 'epoch': 6.5}\n",
      "{'loss': 0.6848, 'learning_rate': 3e-05, 'epoch': 7.0}\n",
      "{'loss': 0.6322, 'learning_rate': 2.5e-05, 'epoch': 7.5}\n",
      "{'loss': 0.655, 'learning_rate': 2e-05, 'epoch': 8.0}\n",
      "{'loss': 0.6655, 'learning_rate': 1.5e-05, 'epoch': 8.5}\n",
      "{'loss': 0.6192, 'learning_rate': 1e-05, 'epoch': 9.0}\n",
      "{'loss': 0.5878, 'learning_rate': 5e-06, 'epoch': 9.5}\n",
      "{'loss': 0.6915, 'learning_rate': 0.0, 'epoch': 10.0}\n",
      "{'train_runtime': 103.7883, 'train_samples_per_second': 5.877, 'train_steps_per_second': 0.193, 'train_loss': 0.6682377398014069, 'epoch': 10.0}\n",
      "Fitting model using fold 4 as out of fold data.\n"
     ]
    },
    {
     "name": "stderr",
     "output_type": "stream",
     "text": [
      "Some weights of the model checkpoint at kiddothe2b/longformer-mini-1024 were not used when initializing LongformerForSequenceClassification: ['longformer.embeddings.position_ids', 'lm_head.decoder.weight', 'lm_head.dense.bias', 'lm_head.layer_norm.bias', 'lm_head.dense.weight', 'lm_head.layer_norm.weight', 'lm_head.decoder.bias', 'lm_head.bias']\n",
      "- This IS expected if you are initializing LongformerForSequenceClassification from the checkpoint of a model trained on another task or with another architecture (e.g. initializing a BertForSequenceClassification model from a BertForPreTraining model).\n",
      "- This IS NOT expected if you are initializing LongformerForSequenceClassification from the checkpoint of a model that you expect to be exactly identical (initializing a BertForSequenceClassification model from a BertForSequenceClassification model).\n",
      "Some weights of LongformerForSequenceClassification were not initialized from the model checkpoint at kiddothe2b/longformer-mini-1024 and are newly initialized: ['classifier.dense.weight', 'classifier.out_proj.bias', 'classifier.out_proj.weight', 'classifier.dense.bias']\n",
      "You should probably TRAIN this model on a down-stream task to be able to use it for predictions and inference.\n"
     ]
    },
    {
     "data": {
      "application/vnd.jupyter.widget-view+json": {
       "model_id": "a2fafa613f444a2587fbcf4b00f0c535",
       "version_major": 2,
       "version_minor": 0
      },
      "text/plain": [
       "Map:   0%|          | 0/59 [00:00<?, ? examples/s]"
      ]
     },
     "metadata": {},
     "output_type": "display_data"
    },
    {
     "data": {
      "application/vnd.jupyter.widget-view+json": {
       "model_id": "067b6fe1ca9e46a680d2daae4824dfa2",
       "version_major": 2,
       "version_minor": 0
      },
      "text/plain": [
       "Map:   0%|          | 0/13 [00:00<?, ? examples/s]"
      ]
     },
     "metadata": {},
     "output_type": "display_data"
    },
    {
     "name": "stdout",
     "output_type": "stream",
     "text": [
      "{'loss': 0.6968, 'learning_rate': 5e-06, 'epoch': 0.5}\n",
      "{'loss': 0.6787, 'learning_rate': 1e-05, 'epoch': 1.0}\n",
      "{'loss': 0.7022, 'learning_rate': 1.5e-05, 'epoch': 1.5}\n",
      "{'loss': 0.6977, 'learning_rate': 2e-05, 'epoch': 2.0}\n",
      "{'loss': 0.6963, 'learning_rate': 2.5e-05, 'epoch': 2.5}\n",
      "{'loss': 0.7004, 'learning_rate': 3e-05, 'epoch': 3.0}\n",
      "{'loss': 0.6844, 'learning_rate': 3.5e-05, 'epoch': 3.5}\n",
      "{'loss': 0.6855, 'learning_rate': 4e-05, 'epoch': 4.0}\n",
      "{'loss': 0.6859, 'learning_rate': 4.5e-05, 'epoch': 4.5}\n",
      "{'loss': 0.6849, 'learning_rate': 5e-05, 'epoch': 5.0}\n",
      "{'loss': 0.6685, 'learning_rate': 4.5e-05, 'epoch': 5.5}\n",
      "{'loss': 0.6564, 'learning_rate': 4e-05, 'epoch': 6.0}\n",
      "{'loss': 0.6449, 'learning_rate': 3.5e-05, 'epoch': 6.5}\n",
      "{'loss': 0.6714, 'learning_rate': 3e-05, 'epoch': 7.0}\n",
      "{'loss': 0.6642, 'learning_rate': 2.5e-05, 'epoch': 7.5}\n",
      "{'loss': 0.6294, 'learning_rate': 2e-05, 'epoch': 8.0}\n",
      "{'loss': 0.6174, 'learning_rate': 1.5e-05, 'epoch': 8.5}\n",
      "{'loss': 0.634, 'learning_rate': 1e-05, 'epoch': 9.0}\n",
      "{'loss': 0.6535, 'learning_rate': 5e-06, 'epoch': 9.5}\n",
      "{'loss': 0.6059, 'learning_rate': 0.0, 'epoch': 10.0}\n",
      "{'train_runtime': 99.2135, 'train_samples_per_second': 5.947, 'train_steps_per_second': 0.202, 'train_loss': 0.6679265916347503, 'epoch': 10.0}\n"
     ]
    }
   ],
   "source": [
    "y_probs, y_trues = [], []\n",
    "for i in range(len(X)):\n",
    "    \n",
    "    print(f\"Fitting model using fold {i} as out of fold data.\")\n",
    "    \n",
    "    # Identify train folds and shuffle samples\n",
    "    X_train, y_train = np.concatenate(X[0:i] + X[i+1:], axis=0), np.concatenate(y[0:i] + y[i+1:], axis=0)\n",
    "    indices = np.arange(len(y_train))\n",
    "    np.random.shuffle(indices)\n",
    "    X_train, y_train = X_train[indices], y_train[indices]\n",
    "    \n",
    "    # Identify test folds\n",
    "    X_test, y_test = X[i], y[i]\n",
    "    \n",
    "    # Format text and label data as HuggingFace dataset\n",
    "    train_dataset = Dataset.from_dict({\"text\": X_train, \"label\": y_train})\n",
    "    test_dataset = Dataset.from_dict({\"text\": X_test, \"label\": y_test})\n",
    "    \n",
    "    # Load model and tokenizer\n",
    "    # This will reset the model weights with each new iteration\n",
    "    tokenizer = AutoTokenizer.from_pretrained(lm_path)\n",
    "    model = AutoModelForSequenceClassification.from_pretrained(\n",
    "        lm_path,\n",
    "        num_labels=2,\n",
    "        return_dict=True,\n",
    "        problem_type=\"single_label_classification\"\n",
    "    )\n",
    "    \n",
    "    # Define function to tokenize text\n",
    "    def tokenize_function(batch):\n",
    "        \n",
    "        return tokenizer(\n",
    "            batch[\"text\"],\n",
    "            padding=\"max_length\",\n",
    "            truncation=True,\n",
    "            max_length=max_seq_len\n",
    "        )\n",
    "    \n",
    "    # Tokenize train dataset\n",
    "    train_dataset = train_dataset.map(\n",
    "        tokenize_function,\n",
    "        batched=True,\n",
    "        remove_columns=[\"text\"],\n",
    "        batch_size=batch_size\n",
    "    )\n",
    "    train_dataset.set_format(\"pt\")\n",
    "    \n",
    "    # Tokenize test dataset\n",
    "    test_dataset = test_dataset.map(\n",
    "        tokenize_function,\n",
    "        batched=True,\n",
    "        remove_columns=[\"text\"],\n",
    "        batch_size=batch_size\n",
    "    )\n",
    "    test_dataset.set_format(\"pt\")\n",
    "    \n",
    "    # Define training arguments\n",
    "    training_args= TrainingArguments(\n",
    "        output_dir=output_dir,\n",
    "        num_train_epochs=epochs,\n",
    "        per_device_train_batch_size=batch_size,\n",
    "        gradient_accumulation_steps=accumulation_steps,\n",
    "        warmup_steps=warmup_steps,\n",
    "        logging_steps=logging_steps,\n",
    "        weight_decay=weight_decay,\n",
    "        learning_rate=lr,\n",
    "        seed=seed,\n",
    "        adam_beta1=adam_beta1,\n",
    "        adam_beta2=adam_beta2,\n",
    "        adam_epsilon=adam_epsilon,\n",
    "        dataloader_num_workers=num_workers,\n",
    "        fp16=fp16,\n",
    "        logging_strategy=\"steps\",\n",
    "        save_strategy=\"no\",\n",
    "        lr_scheduler_type='linear',\n",
    "        optim=\"adamw_torch\",\n",
    "        run_name='lf',\n",
    "        do_eval=False,\n",
    "        fp16_full_eval=False,\n",
    "        sharded_ddp=False,\n",
    "        gradient_checkpointing=True,\n",
    "        load_best_model_at_end=True,\n",
    "        prediction_loss_only=False,\n",
    "        disable_tqdm=True,\n",
    "        logging_dir=None,\n",
    "    )\n",
    "    \n",
    "    # Define model training\n",
    "    trainer = Trainer(\n",
    "        model=model,\n",
    "        args=training_args,\n",
    "        train_dataset=train_dataset\n",
    "    )\n",
    "    \n",
    "    # Train model\n",
    "    trainer.train()\n",
    "    \n",
    "    # Predict on test dataset\n",
    "    output = trainer.predict(test_dataset)\n",
    "    labels = output.label_ids\n",
    "    y_prob = torch.sigmoid(torch.tensor(output.predictions).double()).numpy()[:, 1]\n",
    "\n",
    "    # Save scores and labels\n",
    "    y_probs.append(y_prob)\n",
    "    y_trues.append(labels)"
   ]
  },
  {
   "cell_type": "markdown",
   "id": "7da93cef",
   "metadata": {},
   "source": [
    "##### Save Model Probabilities on Test Folds and True Labels"
   ]
  },
  {
   "cell_type": "code",
   "execution_count": 9,
   "id": "6bbff8d9",
   "metadata": {},
   "outputs": [],
   "source": [
    "with open('results/lf_y_trues.pkl', 'wb') as f:\n",
    "    pickle.dump(y_trues, f)\n",
    "\n",
    "with open('results/lf_y_probs.pkl', 'wb') as f:\n",
    "    pickle.dump(y_probs, f)"
   ]
  },
  {
   "cell_type": "code",
   "execution_count": null,
   "id": "6e4d8469",
   "metadata": {},
   "outputs": [],
   "source": []
  }
 ],
 "metadata": {
  "kernelspec": {
   "display_name": "transcripts",
   "language": "python",
   "name": "transcripts"
  },
  "language_info": {
   "codemirror_mode": {
    "name": "ipython",
    "version": 3
   },
   "file_extension": ".py",
   "mimetype": "text/x-python",
   "name": "python",
   "nbconvert_exporter": "python",
   "pygments_lexer": "ipython3",
   "version": "3.8.16"
  }
 },
 "nbformat": 4,
 "nbformat_minor": 5
}
