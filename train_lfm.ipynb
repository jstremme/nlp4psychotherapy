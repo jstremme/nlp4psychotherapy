{
 "cells": [
  {
   "cell_type": "markdown",
   "id": "6ea00513",
   "metadata": {},
   "source": [
    "### Fine-Tune Longformer Mini\n",
    "\n",
    "- Joel Stremmel\n",
    "- 04-17-23\n",
    "\n",
    "##### About\n",
    "\n",
    "Fine-Tune Longformer Mini on the formatted data using K-Fold Cross-Validation and save the scores."
   ]
  },
  {
   "cell_type": "markdown",
   "id": "9ac2c7a9",
   "metadata": {},
   "source": [
    "##### Imports"
   ]
  },
  {
   "cell_type": "code",
   "execution_count": 1,
   "id": "dd145b3a",
   "metadata": {},
   "outputs": [
    {
     "name": "stderr",
     "output_type": "stream",
     "text": [
      "2023-04-21 10:29:27.283074: I tensorflow/tsl/cuda/cudart_stub.cc:28] Could not find cuda drivers on your machine, GPU will not be used.\n",
      "2023-04-21 10:29:27.329291: I tensorflow/tsl/cuda/cudart_stub.cc:28] Could not find cuda drivers on your machine, GPU will not be used.\n",
      "2023-04-21 10:29:27.330009: I tensorflow/core/platform/cpu_feature_guard.cc:182] This TensorFlow binary is optimized to use available CPU instructions in performance-critical operations.\n",
      "To enable the following instructions: AVX2 FMA, in other operations, rebuild TensorFlow with the appropriate compiler flags.\n",
      "2023-04-21 10:29:28.051395: W tensorflow/compiler/tf2tensorrt/utils/py_utils.cc:38] TF-TRT Warning: Could not find TensorRT\n"
     ]
    }
   ],
   "source": [
    "import os\n",
    "import re\n",
    "import glob\n",
    "import pickle\n",
    "import torch\n",
    "import numpy as np\n",
    "import pandas as pd\n",
    "from datasets import Dataset\n",
    "from transformers import (\n",
    "    AutoTokenizer,\n",
    "    AutoModelForSequenceClassification,\n",
    "    Trainer,\n",
    "    TrainingArguments\n",
    ")"
   ]
  },
  {
   "cell_type": "markdown",
   "id": "19d89e2d",
   "metadata": {},
   "source": [
    "##### Set Parameters"
   ]
  },
  {
   "cell_type": "code",
   "execution_count": 2,
   "id": "ccfa5892",
   "metadata": {},
   "outputs": [],
   "source": [
    "max_seq_len = 1024\n",
    "batch_size = 32\n",
    "accumulation_steps = 1\n",
    "lr = 0.00002\n",
    "weight_decay = 0.01\n",
    "adam_beta1 = 0.9\n",
    "adam_beta2 = 0.999\n",
    "adam_epsilon = 0.00000001\n",
    "warmup_steps = 4\n",
    "logging_steps = 1\n",
    "num_workers = 8\n",
    "seed = 44\n",
    "epochs = 5\n",
    "fp16 = True\n",
    "output_dir = \"lf_output\"\n",
    "lm_path = \"kiddothe2b/longformer-mini-1024\""
   ]
  },
  {
   "cell_type": "markdown",
   "id": "fccb2634",
   "metadata": {},
   "source": [
    "##### Disable Tokenizer Parallelism\n",
    "This is mostly to avoid warnings."
   ]
  },
  {
   "cell_type": "code",
   "execution_count": 3,
   "id": "e13a3d5f",
   "metadata": {},
   "outputs": [],
   "source": [
    "os.environ[\"TOKENIZERS_PARALLELISM\"] = \"false\""
   ]
  },
  {
   "cell_type": "markdown",
   "id": "2f78b64c",
   "metadata": {},
   "source": [
    "##### Load Formatted Data"
   ]
  },
  {
   "cell_type": "code",
   "execution_count": 4,
   "id": "710a85d0",
   "metadata": {},
   "outputs": [],
   "source": [
    "with open('data/X_folds.pkl', 'rb') as f:\n",
    "    X_folds = pickle.load(f)\n",
    "\n",
    "with open('data/y_folds.pkl', 'rb') as f:\n",
    "    y_folds = pickle.load(f)"
   ]
  },
  {
   "cell_type": "markdown",
   "id": "5d6b559a",
   "metadata": {},
   "source": [
    "##### Check Data Shape"
   ]
  },
  {
   "cell_type": "code",
   "execution_count": 5,
   "id": "bb7c83b6",
   "metadata": {},
   "outputs": [],
   "source": [
    "assert len(X_folds) == len(y_folds), \"Expected the same number of folds in X and y.\"\n",
    "X = list(X_folds.values())\n",
    "y = list(y_folds.values())"
   ]
  },
  {
   "cell_type": "markdown",
   "id": "aac7cd9d",
   "metadata": {},
   "source": [
    "##### Check Target Prevalence"
   ]
  },
  {
   "cell_type": "code",
   "execution_count": 6,
   "id": "2164340a",
   "metadata": {},
   "outputs": [
    {
     "name": "stdout",
     "output_type": "stream",
     "text": [
      "Target prevalance: 0.5166666666666667.\n"
     ]
    }
   ],
   "source": [
    "print(f\"Target prevalance: {np.mean(np.concatenate(y))}.\")"
   ]
  },
  {
   "cell_type": "markdown",
   "id": "15ff6576",
   "metadata": {},
   "source": [
    "##### Check that GPU is Available"
   ]
  },
  {
   "cell_type": "code",
   "execution_count": 7,
   "id": "617bd083",
   "metadata": {},
   "outputs": [
    {
     "name": "stdout",
     "output_type": "stream",
     "text": [
      "1.8.1+cu101\n"
     ]
    }
   ],
   "source": [
    "assert torch.cuda.is_available(), \"Run this script on a GPU.\"\n",
    "print(torch.__version__)"
   ]
  },
  {
   "cell_type": "markdown",
   "id": "85f2951e",
   "metadata": {},
   "source": [
    "##### Tokenize Text and Fit Model to Each Fold"
   ]
  },
  {
   "cell_type": "code",
   "execution_count": 8,
   "id": "45cc6d29",
   "metadata": {},
   "outputs": [
    {
     "name": "stdout",
     "output_type": "stream",
     "text": [
      "Fitting model using fold 0 as out of fold data.\n"
     ]
    },
    {
     "name": "stderr",
     "output_type": "stream",
     "text": [
      "Some weights of the model checkpoint at kiddothe2b/longformer-mini-1024 were not used when initializing LongformerForSequenceClassification: ['lm_head.layer_norm.bias', 'longformer.embeddings.position_ids', 'lm_head.layer_norm.weight', 'lm_head.bias', 'lm_head.decoder.weight', 'lm_head.decoder.bias', 'lm_head.dense.bias', 'lm_head.dense.weight']\n",
      "- This IS expected if you are initializing LongformerForSequenceClassification from the checkpoint of a model trained on another task or with another architecture (e.g. initializing a BertForSequenceClassification model from a BertForPreTraining model).\n",
      "- This IS NOT expected if you are initializing LongformerForSequenceClassification from the checkpoint of a model that you expect to be exactly identical (initializing a BertForSequenceClassification model from a BertForSequenceClassification model).\n",
      "Some weights of LongformerForSequenceClassification were not initialized from the model checkpoint at kiddothe2b/longformer-mini-1024 and are newly initialized: ['classifier.out_proj.bias', 'classifier.out_proj.weight', 'classifier.dense.bias', 'classifier.dense.weight']\n",
      "You should probably TRAIN this model on a down-stream task to be able to use it for predictions and inference.\n"
     ]
    },
    {
     "data": {
      "application/vnd.jupyter.widget-view+json": {
       "model_id": "fdd9acf6bedc4b9782e7e173f7b5d979",
       "version_major": 2,
       "version_minor": 0
      },
      "text/plain": [
       "Map:   0%|          | 0/47 [00:00<?, ? examples/s]"
      ]
     },
     "metadata": {},
     "output_type": "display_data"
    },
    {
     "data": {
      "application/vnd.jupyter.widget-view+json": {
       "model_id": "6b8b7d220d52462cb08a08a788de66a5",
       "version_major": 2,
       "version_minor": 0
      },
      "text/plain": [
       "Map:   0%|          | 0/13 [00:00<?, ? examples/s]"
      ]
     },
     "metadata": {},
     "output_type": "display_data"
    },
    {
     "name": "stdout",
     "output_type": "stream",
     "text": [
      "{'loss': 0.6757, 'learning_rate': 5e-06, 'epoch': 0.5}\n",
      "{'loss': 0.7063, 'learning_rate': 1e-05, 'epoch': 1.0}\n",
      "{'loss': 0.6913, 'learning_rate': 1.5000000000000002e-05, 'epoch': 1.5}\n",
      "{'loss': 0.6875, 'learning_rate': 2e-05, 'epoch': 2.0}\n",
      "{'loss': 0.684, 'learning_rate': 1.6666666666666667e-05, 'epoch': 2.5}\n",
      "{'loss': 0.7136, 'learning_rate': 1.3333333333333333e-05, 'epoch': 3.0}\n",
      "{'loss': 0.6915, 'learning_rate': 1e-05, 'epoch': 3.5}\n",
      "{'loss': 0.6863, 'learning_rate': 6.666666666666667e-06, 'epoch': 4.0}\n",
      "{'loss': 0.6749, 'learning_rate': 3.3333333333333333e-06, 'epoch': 4.5}\n",
      "{'loss': 0.7101, 'learning_rate': 0.0, 'epoch': 5.0}\n",
      "{'train_runtime': 40.617, 'train_samples_per_second': 5.786, 'train_steps_per_second': 0.246, 'train_loss': 0.6921216487884522, 'epoch': 5.0}\n",
      "Fitting model using fold 1 as out of fold data.\n"
     ]
    },
    {
     "name": "stderr",
     "output_type": "stream",
     "text": [
      "Some weights of the model checkpoint at kiddothe2b/longformer-mini-1024 were not used when initializing LongformerForSequenceClassification: ['lm_head.layer_norm.bias', 'longformer.embeddings.position_ids', 'lm_head.layer_norm.weight', 'lm_head.bias', 'lm_head.decoder.weight', 'lm_head.decoder.bias', 'lm_head.dense.bias', 'lm_head.dense.weight']\n",
      "- This IS expected if you are initializing LongformerForSequenceClassification from the checkpoint of a model trained on another task or with another architecture (e.g. initializing a BertForSequenceClassification model from a BertForPreTraining model).\n",
      "- This IS NOT expected if you are initializing LongformerForSequenceClassification from the checkpoint of a model that you expect to be exactly identical (initializing a BertForSequenceClassification model from a BertForSequenceClassification model).\n",
      "Some weights of LongformerForSequenceClassification were not initialized from the model checkpoint at kiddothe2b/longformer-mini-1024 and are newly initialized: ['classifier.out_proj.bias', 'classifier.out_proj.weight', 'classifier.dense.bias', 'classifier.dense.weight']\n",
      "You should probably TRAIN this model on a down-stream task to be able to use it for predictions and inference.\n"
     ]
    },
    {
     "data": {
      "application/vnd.jupyter.widget-view+json": {
       "model_id": "08b1bf2fa51e450d9521979026eb003a",
       "version_major": 2,
       "version_minor": 0
      },
      "text/plain": [
       "Map:   0%|          | 0/47 [00:00<?, ? examples/s]"
      ]
     },
     "metadata": {},
     "output_type": "display_data"
    },
    {
     "data": {
      "application/vnd.jupyter.widget-view+json": {
       "model_id": "03f30281f2a1433cb929a8c7e7fdaa38",
       "version_major": 2,
       "version_minor": 0
      },
      "text/plain": [
       "Map:   0%|          | 0/13 [00:00<?, ? examples/s]"
      ]
     },
     "metadata": {},
     "output_type": "display_data"
    },
    {
     "name": "stdout",
     "output_type": "stream",
     "text": [
      "{'loss': 0.6962, 'learning_rate': 5e-06, 'epoch': 0.5}\n",
      "{'loss': 0.693, 'learning_rate': 1e-05, 'epoch': 1.0}\n",
      "{'loss': 0.6949, 'learning_rate': 1.5000000000000002e-05, 'epoch': 1.5}\n",
      "{'loss': 0.6931, 'learning_rate': 2e-05, 'epoch': 2.0}\n",
      "{'loss': 0.6859, 'learning_rate': 1.6666666666666667e-05, 'epoch': 2.5}\n",
      "{'loss': 0.6758, 'learning_rate': 1.3333333333333333e-05, 'epoch': 3.0}\n",
      "{'loss': 0.6848, 'learning_rate': 1e-05, 'epoch': 3.5}\n",
      "{'loss': 0.6944, 'learning_rate': 6.666666666666667e-06, 'epoch': 4.0}\n",
      "{'loss': 0.6956, 'learning_rate': 3.3333333333333333e-06, 'epoch': 4.5}\n",
      "{'loss': 0.6399, 'learning_rate': 0.0, 'epoch': 5.0}\n",
      "{'train_runtime': 40.8509, 'train_samples_per_second': 5.753, 'train_steps_per_second': 0.245, 'train_loss': 0.6853655338287353, 'epoch': 5.0}\n",
      "Fitting model using fold 2 as out of fold data.\n"
     ]
    },
    {
     "name": "stderr",
     "output_type": "stream",
     "text": [
      "Some weights of the model checkpoint at kiddothe2b/longformer-mini-1024 were not used when initializing LongformerForSequenceClassification: ['lm_head.layer_norm.bias', 'longformer.embeddings.position_ids', 'lm_head.layer_norm.weight', 'lm_head.bias', 'lm_head.decoder.weight', 'lm_head.decoder.bias', 'lm_head.dense.bias', 'lm_head.dense.weight']\n",
      "- This IS expected if you are initializing LongformerForSequenceClassification from the checkpoint of a model trained on another task or with another architecture (e.g. initializing a BertForSequenceClassification model from a BertForPreTraining model).\n",
      "- This IS NOT expected if you are initializing LongformerForSequenceClassification from the checkpoint of a model that you expect to be exactly identical (initializing a BertForSequenceClassification model from a BertForSequenceClassification model).\n",
      "Some weights of LongformerForSequenceClassification were not initialized from the model checkpoint at kiddothe2b/longformer-mini-1024 and are newly initialized: ['classifier.out_proj.bias', 'classifier.out_proj.weight', 'classifier.dense.bias', 'classifier.dense.weight']\n",
      "You should probably TRAIN this model on a down-stream task to be able to use it for predictions and inference.\n"
     ]
    },
    {
     "data": {
      "application/vnd.jupyter.widget-view+json": {
       "model_id": "69e1952ff01749d1aa5afda3c79fd359",
       "version_major": 2,
       "version_minor": 0
      },
      "text/plain": [
       "Map:   0%|          | 0/48 [00:00<?, ? examples/s]"
      ]
     },
     "metadata": {},
     "output_type": "display_data"
    },
    {
     "data": {
      "application/vnd.jupyter.widget-view+json": {
       "model_id": "0e624038c5a84671aabcff273a236374",
       "version_major": 2,
       "version_minor": 0
      },
      "text/plain": [
       "Map:   0%|          | 0/12 [00:00<?, ? examples/s]"
      ]
     },
     "metadata": {},
     "output_type": "display_data"
    },
    {
     "name": "stdout",
     "output_type": "stream",
     "text": [
      "{'loss': 0.697, 'learning_rate': 5e-06, 'epoch': 0.5}\n",
      "{'loss': 0.7057, 'learning_rate': 1e-05, 'epoch': 1.0}\n",
      "{'loss': 0.6929, 'learning_rate': 1.5000000000000002e-05, 'epoch': 1.5}\n",
      "{'loss': 0.6954, 'learning_rate': 2e-05, 'epoch': 2.0}\n",
      "{'loss': 0.692, 'learning_rate': 1.6666666666666667e-05, 'epoch': 2.5}\n",
      "{'loss': 0.695, 'learning_rate': 1.3333333333333333e-05, 'epoch': 3.0}\n",
      "{'loss': 0.6861, 'learning_rate': 1e-05, 'epoch': 3.5}\n",
      "{'loss': 0.7015, 'learning_rate': 6.666666666666667e-06, 'epoch': 4.0}\n",
      "{'loss': 0.6781, 'learning_rate': 3.3333333333333333e-06, 'epoch': 4.5}\n",
      "{'loss': 0.6803, 'learning_rate': 0.0, 'epoch': 5.0}\n",
      "{'train_runtime': 40.5848, 'train_samples_per_second': 5.914, 'train_steps_per_second': 0.246, 'train_loss': 0.6924056112766266, 'epoch': 5.0}\n",
      "Fitting model using fold 3 as out of fold data.\n"
     ]
    },
    {
     "name": "stderr",
     "output_type": "stream",
     "text": [
      "Some weights of the model checkpoint at kiddothe2b/longformer-mini-1024 were not used when initializing LongformerForSequenceClassification: ['lm_head.layer_norm.bias', 'longformer.embeddings.position_ids', 'lm_head.layer_norm.weight', 'lm_head.bias', 'lm_head.decoder.weight', 'lm_head.decoder.bias', 'lm_head.dense.bias', 'lm_head.dense.weight']\n",
      "- This IS expected if you are initializing LongformerForSequenceClassification from the checkpoint of a model trained on another task or with another architecture (e.g. initializing a BertForSequenceClassification model from a BertForPreTraining model).\n",
      "- This IS NOT expected if you are initializing LongformerForSequenceClassification from the checkpoint of a model that you expect to be exactly identical (initializing a BertForSequenceClassification model from a BertForSequenceClassification model).\n",
      "Some weights of LongformerForSequenceClassification were not initialized from the model checkpoint at kiddothe2b/longformer-mini-1024 and are newly initialized: ['classifier.out_proj.bias', 'classifier.out_proj.weight', 'classifier.dense.bias', 'classifier.dense.weight']\n",
      "You should probably TRAIN this model on a down-stream task to be able to use it for predictions and inference.\n"
     ]
    },
    {
     "data": {
      "application/vnd.jupyter.widget-view+json": {
       "model_id": "8ae5464cd8ae47849ee8b0e16ff14efd",
       "version_major": 2,
       "version_minor": 0
      },
      "text/plain": [
       "Map:   0%|          | 0/51 [00:00<?, ? examples/s]"
      ]
     },
     "metadata": {},
     "output_type": "display_data"
    },
    {
     "data": {
      "application/vnd.jupyter.widget-view+json": {
       "model_id": "3bc7c09bc3c442bcbd1586bd8bf50c28",
       "version_major": 2,
       "version_minor": 0
      },
      "text/plain": [
       "Map:   0%|          | 0/9 [00:00<?, ? examples/s]"
      ]
     },
     "metadata": {},
     "output_type": "display_data"
    },
    {
     "name": "stdout",
     "output_type": "stream",
     "text": [
      "{'loss': 0.706, 'learning_rate': 5e-06, 'epoch': 0.5}\n",
      "{'loss': 0.6944, 'learning_rate': 1e-05, 'epoch': 1.0}\n",
      "{'loss': 0.6827, 'learning_rate': 1.5000000000000002e-05, 'epoch': 1.5}\n",
      "{'loss': 0.7183, 'learning_rate': 2e-05, 'epoch': 2.0}\n",
      "{'loss': 0.6881, 'learning_rate': 1.6666666666666667e-05, 'epoch': 2.5}\n",
      "{'loss': 0.6967, 'learning_rate': 1.3333333333333333e-05, 'epoch': 3.0}\n",
      "{'loss': 0.6798, 'learning_rate': 1e-05, 'epoch': 3.5}\n",
      "{'loss': 0.6792, 'learning_rate': 6.666666666666667e-06, 'epoch': 4.0}\n",
      "{'loss': 0.6835, 'learning_rate': 3.3333333333333333e-06, 'epoch': 4.5}\n",
      "{'loss': 0.6981, 'learning_rate': 0.0, 'epoch': 5.0}\n",
      "{'train_runtime': 43.6451, 'train_samples_per_second': 5.843, 'train_steps_per_second': 0.229, 'train_loss': 0.6926895558834076, 'epoch': 5.0}\n",
      "Fitting model using fold 4 as out of fold data.\n"
     ]
    },
    {
     "name": "stderr",
     "output_type": "stream",
     "text": [
      "Some weights of the model checkpoint at kiddothe2b/longformer-mini-1024 were not used when initializing LongformerForSequenceClassification: ['lm_head.layer_norm.bias', 'longformer.embeddings.position_ids', 'lm_head.layer_norm.weight', 'lm_head.bias', 'lm_head.decoder.weight', 'lm_head.decoder.bias', 'lm_head.dense.bias', 'lm_head.dense.weight']\n",
      "- This IS expected if you are initializing LongformerForSequenceClassification from the checkpoint of a model trained on another task or with another architecture (e.g. initializing a BertForSequenceClassification model from a BertForPreTraining model).\n",
      "- This IS NOT expected if you are initializing LongformerForSequenceClassification from the checkpoint of a model that you expect to be exactly identical (initializing a BertForSequenceClassification model from a BertForSequenceClassification model).\n",
      "Some weights of LongformerForSequenceClassification were not initialized from the model checkpoint at kiddothe2b/longformer-mini-1024 and are newly initialized: ['classifier.out_proj.bias', 'classifier.out_proj.weight', 'classifier.dense.bias', 'classifier.dense.weight']\n",
      "You should probably TRAIN this model on a down-stream task to be able to use it for predictions and inference.\n"
     ]
    },
    {
     "data": {
      "application/vnd.jupyter.widget-view+json": {
       "model_id": "3b671e9acd7f40baa72fb641f90a0b96",
       "version_major": 2,
       "version_minor": 0
      },
      "text/plain": [
       "Map:   0%|          | 0/47 [00:00<?, ? examples/s]"
      ]
     },
     "metadata": {},
     "output_type": "display_data"
    },
    {
     "data": {
      "application/vnd.jupyter.widget-view+json": {
       "model_id": "95417f7fed6b470681c78343d355bc9a",
       "version_major": 2,
       "version_minor": 0
      },
      "text/plain": [
       "Map:   0%|          | 0/13 [00:00<?, ? examples/s]"
      ]
     },
     "metadata": {},
     "output_type": "display_data"
    },
    {
     "name": "stdout",
     "output_type": "stream",
     "text": [
      "{'loss': 0.6812, 'learning_rate': 5e-06, 'epoch': 0.5}\n",
      "{'loss': 0.7045, 'learning_rate': 1e-05, 'epoch': 1.0}\n",
      "{'loss': 0.6971, 'learning_rate': 1.5000000000000002e-05, 'epoch': 1.5}\n",
      "{'loss': 0.6834, 'learning_rate': 2e-05, 'epoch': 2.0}\n",
      "{'loss': 0.6834, 'learning_rate': 1.6666666666666667e-05, 'epoch': 2.5}\n",
      "{'loss': 0.6903, 'learning_rate': 1.3333333333333333e-05, 'epoch': 3.0}\n",
      "{'loss': 0.6911, 'learning_rate': 1e-05, 'epoch': 3.5}\n",
      "{'loss': 0.6946, 'learning_rate': 6.666666666666667e-06, 'epoch': 4.0}\n",
      "{'loss': 0.6806, 'learning_rate': 3.3333333333333333e-06, 'epoch': 4.5}\n",
      "{'loss': 0.6898, 'learning_rate': 0.0, 'epoch': 5.0}\n",
      "{'train_runtime': 39.5052, 'train_samples_per_second': 5.949, 'train_steps_per_second': 0.253, 'train_loss': 0.6896116018295289, 'epoch': 5.0}\n"
     ]
    }
   ],
   "source": [
    "y_probs, y_trues = [], []\n",
    "for i in range(len(X)):\n",
    "    \n",
    "    print(f\"Fitting model using fold {i} as out of fold data.\")\n",
    "    \n",
    "    # Identify train folds and shuffle samples\n",
    "    X_train, y_train = np.concatenate(X[0:i] + X[i+1:], axis=0), np.concatenate(y[0:i] + y[i+1:], axis=0)\n",
    "    indices = np.arange(len(y_train))\n",
    "    np.random.shuffle(indices)\n",
    "    X_train, y_train = X_train[indices], y_train[indices]\n",
    "    \n",
    "    # Identify test folds\n",
    "    X_test, y_test = X[i], y[i]\n",
    "    \n",
    "    # Format text and label data as HuggingFace dataset\n",
    "    train_dataset = Dataset.from_dict({\"text\": X_train, \"label\": y_train})\n",
    "    test_dataset = Dataset.from_dict({\"text\": X_test, \"label\": y_test})\n",
    "    \n",
    "    # Load model and tokenizer\n",
    "    # This will reset the model weights with each new iteration\n",
    "    tokenizer = AutoTokenizer.from_pretrained(lm_path)\n",
    "    model = AutoModelForSequenceClassification.from_pretrained(\n",
    "        lm_path,\n",
    "        num_labels=2,\n",
    "        return_dict=True,\n",
    "        problem_type=\"single_label_classification\"\n",
    "    )\n",
    "    \n",
    "    # Define function to tokenize text\n",
    "    def tokenize_function(batch):\n",
    "        \n",
    "        return tokenizer(\n",
    "            batch[\"text\"],\n",
    "            padding=\"max_length\",\n",
    "            truncation=True,\n",
    "            max_length=max_seq_len\n",
    "        )\n",
    "    \n",
    "    # Tokenize train dataset\n",
    "    train_dataset = train_dataset.map(\n",
    "        tokenize_function,\n",
    "        batched=True,\n",
    "        remove_columns=[\"text\"],\n",
    "        batch_size=batch_size\n",
    "    )\n",
    "    train_dataset.set_format(\"pt\")\n",
    "    \n",
    "    # Tokenize test dataset\n",
    "    test_dataset = test_dataset.map(\n",
    "        tokenize_function,\n",
    "        batched=True,\n",
    "        remove_columns=[\"text\"],\n",
    "        batch_size=batch_size\n",
    "    )\n",
    "    test_dataset.set_format(\"pt\")\n",
    "    \n",
    "    # Define training arguments\n",
    "    training_args= TrainingArguments(\n",
    "        output_dir=output_dir,\n",
    "        num_train_epochs=epochs,\n",
    "        per_device_train_batch_size=batch_size,\n",
    "        gradient_accumulation_steps=accumulation_steps,\n",
    "        warmup_steps=warmup_steps,\n",
    "        logging_steps=logging_steps,\n",
    "        weight_decay=weight_decay,\n",
    "        learning_rate=lr,\n",
    "        seed=seed,\n",
    "        adam_beta1=adam_beta1,\n",
    "        adam_beta2=adam_beta2,\n",
    "        adam_epsilon=adam_epsilon,\n",
    "        dataloader_num_workers=num_workers,\n",
    "        fp16=fp16,\n",
    "        logging_strategy=\"steps\",\n",
    "        save_strategy=\"no\",\n",
    "        lr_scheduler_type='linear',\n",
    "        optim=\"adamw_torch\",\n",
    "        run_name='lf',\n",
    "        do_eval=False,\n",
    "        fp16_full_eval=False,\n",
    "        sharded_ddp=False,\n",
    "        gradient_checkpointing=True,\n",
    "        load_best_model_at_end=True,\n",
    "        prediction_loss_only=False,\n",
    "        disable_tqdm=True,\n",
    "        logging_dir=None,\n",
    "    )\n",
    "    \n",
    "    # Define model training\n",
    "    trainer = Trainer(\n",
    "        model=model,\n",
    "        args=training_args,\n",
    "        train_dataset=train_dataset\n",
    "    )\n",
    "    \n",
    "    # Train model\n",
    "    trainer.train()\n",
    "    \n",
    "    # Predict on test dataset\n",
    "    output = trainer.predict(test_dataset)\n",
    "    labels = output.label_ids\n",
    "    y_prob = torch.sigmoid(torch.tensor(output.predictions).double()).numpy()[:, 1]\n",
    "\n",
    "    # Save scores and labels\n",
    "    y_probs.append(y_prob)\n",
    "    y_trues.append(labels)"
   ]
  },
  {
   "cell_type": "markdown",
   "id": "7da93cef",
   "metadata": {},
   "source": [
    "##### Save Model Probabilities on Test Folds and True Labels"
   ]
  },
  {
   "cell_type": "code",
   "execution_count": 9,
   "id": "6bbff8d9",
   "metadata": {},
   "outputs": [],
   "source": [
    "with open('results/lfm_y_trues.pkl', 'wb') as f:\n",
    "    pickle.dump(y_trues, f)\n",
    "\n",
    "with open('results/lfm_y_probs.pkl', 'wb') as f:\n",
    "    pickle.dump(y_probs, f)"
   ]
  },
  {
   "cell_type": "code",
   "execution_count": null,
   "id": "6e4d8469",
   "metadata": {},
   "outputs": [],
   "source": []
  }
 ],
 "metadata": {
  "kernelspec": {
   "display_name": "transcripts",
   "language": "python",
   "name": "transcripts"
  },
  "language_info": {
   "codemirror_mode": {
    "name": "ipython",
    "version": 3
   },
   "file_extension": ".py",
   "mimetype": "text/x-python",
   "name": "python",
   "nbconvert_exporter": "python",
   "pygments_lexer": "ipython3",
   "version": "3.8.16"
  }
 },
 "nbformat": 4,
 "nbformat_minor": 5
}
