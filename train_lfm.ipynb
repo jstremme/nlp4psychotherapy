{
 "cells": [
  {
   "cell_type": "markdown",
   "id": "6ea00513",
   "metadata": {},
   "source": [
    "### Fine-Tune Longformer Mini\n",
    "\n",
    "- Joel Stremmel\n",
    "- 04-11-23\n",
    "\n",
    "##### About\n",
    "\n",
    "Fine-Tune Longformer Mini on the formatted data using K-Fold Cross-Validation and save the scores."
   ]
  },
  {
   "cell_type": "markdown",
   "id": "9ac2c7a9",
   "metadata": {},
   "source": [
    "##### Imports"
   ]
  },
  {
   "cell_type": "code",
   "execution_count": 1,
   "id": "dd145b3a",
   "metadata": {},
   "outputs": [],
   "source": [
    "import os\n",
    "import re\n",
    "import glob\n",
    "import pickle\n",
    "import torch\n",
    "import numpy as np\n",
    "import pandas as pd\n",
    "from datasets import Dataset\n",
    "from transformers import (\n",
    "    AutoTokenizer,\n",
    "    AutoModelForSequenceClassification,\n",
    "    Trainer,\n",
    "    TrainingArguments\n",
    ")"
   ]
  },
  {
   "cell_type": "markdown",
   "id": "19d89e2d",
   "metadata": {},
   "source": [
    "##### Set Parameters"
   ]
  },
  {
   "cell_type": "code",
   "execution_count": 2,
   "id": "ccfa5892",
   "metadata": {},
   "outputs": [],
   "source": [
    "max_seq_len = 1024\n",
    "batch_size = 32\n",
    "accumulation_steps = 1\n",
    "lr = 0.00002\n",
    "weight_decay = 0.01\n",
    "adam_beta1 = 0.9\n",
    "adam_beta2 = 0.999\n",
    "adam_epsilon = 0.00000001\n",
    "warmup_steps = 5\n",
    "logging_steps = 1\n",
    "num_workers = 8\n",
    "seed = 44\n",
    "epochs = 10\n",
    "fp16 = True\n",
    "output_dir = \"lf_output\"\n",
    "lm_path = \"kiddothe2b/longformer-mini-1024\""
   ]
  },
  {
   "cell_type": "markdown",
   "id": "fccb2634",
   "metadata": {},
   "source": [
    "##### Disable Tokenizer Parallelism\n",
    "This is mostly to avoid warnings."
   ]
  },
  {
   "cell_type": "code",
   "execution_count": 3,
   "id": "e13a3d5f",
   "metadata": {},
   "outputs": [],
   "source": [
    "os.environ[\"TOKENIZERS_PARALLELISM\"] = \"false\""
   ]
  },
  {
   "cell_type": "markdown",
   "id": "2f78b64c",
   "metadata": {},
   "source": [
    "##### Load Formatted Data"
   ]
  },
  {
   "cell_type": "code",
   "execution_count": 4,
   "id": "710a85d0",
   "metadata": {},
   "outputs": [],
   "source": [
    "with open('data/X_folds.pkl', 'rb') as f:\n",
    "    X_folds = pickle.load(f)\n",
    "\n",
    "with open('data/y_folds.pkl', 'rb') as f:\n",
    "    y_folds = pickle.load(f)"
   ]
  },
  {
   "cell_type": "markdown",
   "id": "5d6b559a",
   "metadata": {},
   "source": [
    "##### Check Data Shape"
   ]
  },
  {
   "cell_type": "code",
   "execution_count": 5,
   "id": "bb7c83b6",
   "metadata": {},
   "outputs": [],
   "source": [
    "assert len(X_folds) == len(y_folds), \"Expected the same number of folds in X and y.\"\n",
    "X = list(X_folds.values())\n",
    "y = list(y_folds.values())"
   ]
  },
  {
   "cell_type": "markdown",
   "id": "aac7cd9d",
   "metadata": {},
   "source": [
    "##### Check Target Prevalence"
   ]
  },
  {
   "cell_type": "code",
   "execution_count": 6,
   "id": "2164340a",
   "metadata": {},
   "outputs": [
    {
     "name": "stdout",
     "output_type": "stream",
     "text": [
      "Target prevalance: 0.5.\n"
     ]
    }
   ],
   "source": [
    "print(f\"Target prevalance: {np.mean(np.concatenate(y))}.\")"
   ]
  },
  {
   "cell_type": "markdown",
   "id": "15ff6576",
   "metadata": {},
   "source": [
    "##### Check that GPU is Available"
   ]
  },
  {
   "cell_type": "code",
   "execution_count": 7,
   "id": "617bd083",
   "metadata": {},
   "outputs": [
    {
     "name": "stdout",
     "output_type": "stream",
     "text": [
      "1.8.1+cu101\n"
     ]
    }
   ],
   "source": [
    "assert torch.cuda.is_available(), \"Run this script on a GPU.\"\n",
    "print(torch.__version__)"
   ]
  },
  {
   "cell_type": "markdown",
   "id": "85f2951e",
   "metadata": {},
   "source": [
    "##### Tokenize Text and Fit Model to Each Fold"
   ]
  },
  {
   "cell_type": "code",
   "execution_count": 8,
   "id": "45cc6d29",
   "metadata": {},
   "outputs": [
    {
     "name": "stdout",
     "output_type": "stream",
     "text": [
      "Fitting model using fold 0 as out of fold data.\n"
     ]
    },
    {
     "name": "stderr",
     "output_type": "stream",
     "text": [
      "Some weights of the model checkpoint at kiddothe2b/longformer-mini-1024 were not used when initializing LongformerForSequenceClassification: ['longformer.embeddings.position_ids', 'lm_head.layer_norm.bias', 'lm_head.bias', 'lm_head.layer_norm.weight', 'lm_head.dense.weight', 'lm_head.decoder.weight', 'lm_head.decoder.bias', 'lm_head.dense.bias']\n",
      "- This IS expected if you are initializing LongformerForSequenceClassification from the checkpoint of a model trained on another task or with another architecture (e.g. initializing a BertForSequenceClassification model from a BertForPreTraining model).\n",
      "- This IS NOT expected if you are initializing LongformerForSequenceClassification from the checkpoint of a model that you expect to be exactly identical (initializing a BertForSequenceClassification model from a BertForSequenceClassification model).\n",
      "Some weights of LongformerForSequenceClassification were not initialized from the model checkpoint at kiddothe2b/longformer-mini-1024 and are newly initialized: ['classifier.dense.weight', 'classifier.out_proj.bias', 'classifier.dense.bias', 'classifier.out_proj.weight']\n",
      "You should probably TRAIN this model on a down-stream task to be able to use it for predictions and inference.\n"
     ]
    },
    {
     "data": {
      "application/vnd.jupyter.widget-view+json": {
       "model_id": "6e9dc6bf8cd945ef828d7bbd7805a27c",
       "version_major": 2,
       "version_minor": 0
      },
      "text/plain": [
       "Map:   0%|          | 0/54 [00:00<?, ? examples/s]"
      ]
     },
     "metadata": {},
     "output_type": "display_data"
    },
    {
     "data": {
      "application/vnd.jupyter.widget-view+json": {
       "model_id": "c4dcebc03aef4e17af4703038fbdd291",
       "version_major": 2,
       "version_minor": 0
      },
      "text/plain": [
       "Map:   0%|          | 0/18 [00:00<?, ? examples/s]"
      ]
     },
     "metadata": {},
     "output_type": "display_data"
    },
    {
     "name": "stdout",
     "output_type": "stream",
     "text": [
      "{'loss': 0.7185, 'learning_rate': 4.000000000000001e-06, 'epoch': 0.5}\n",
      "{'loss': 0.7272, 'learning_rate': 8.000000000000001e-06, 'epoch': 1.0}\n",
      "{'loss': 0.7257, 'learning_rate': 1.2e-05, 'epoch': 1.5}\n",
      "{'loss': 0.7202, 'learning_rate': 1.6000000000000003e-05, 'epoch': 2.0}\n",
      "{'loss': 0.6853, 'learning_rate': 2e-05, 'epoch': 2.5}\n",
      "{'loss': 0.7008, 'learning_rate': 1.866666666666667e-05, 'epoch': 3.0}\n",
      "{'loss': 0.687, 'learning_rate': 1.7333333333333336e-05, 'epoch': 3.5}\n",
      "{'loss': 0.656, 'learning_rate': 1.6000000000000003e-05, 'epoch': 4.0}\n",
      "{'loss': 0.6813, 'learning_rate': 1.4666666666666666e-05, 'epoch': 4.5}\n",
      "{'loss': 0.6775, 'learning_rate': 1.3333333333333333e-05, 'epoch': 5.0}\n",
      "{'loss': 0.6478, 'learning_rate': 1.2e-05, 'epoch': 5.5}\n",
      "{'loss': 0.7279, 'learning_rate': 1.0666666666666667e-05, 'epoch': 6.0}\n",
      "{'loss': 0.6782, 'learning_rate': 9.333333333333334e-06, 'epoch': 6.5}\n",
      "{'loss': 0.6832, 'learning_rate': 8.000000000000001e-06, 'epoch': 7.0}\n",
      "{'loss': 0.6921, 'learning_rate': 6.666666666666667e-06, 'epoch': 7.5}\n",
      "{'loss': 0.6705, 'learning_rate': 5.333333333333334e-06, 'epoch': 8.0}\n",
      "{'loss': 0.6834, 'learning_rate': 4.000000000000001e-06, 'epoch': 8.5}\n",
      "{'loss': 0.6407, 'learning_rate': 2.666666666666667e-06, 'epoch': 9.0}\n",
      "{'loss': 0.6639, 'learning_rate': 1.3333333333333334e-06, 'epoch': 9.5}\n",
      "{'loss': 0.6406, 'learning_rate': 0.0, 'epoch': 10.0}\n",
      "{'train_runtime': 91.2582, 'train_samples_per_second': 5.917, 'train_steps_per_second': 0.219, 'train_loss': 0.6853886991739273, 'epoch': 10.0}\n",
      "Fitting model using fold 1 as out of fold data.\n"
     ]
    },
    {
     "name": "stderr",
     "output_type": "stream",
     "text": [
      "Some weights of the model checkpoint at kiddothe2b/longformer-mini-1024 were not used when initializing LongformerForSequenceClassification: ['longformer.embeddings.position_ids', 'lm_head.layer_norm.bias', 'lm_head.bias', 'lm_head.layer_norm.weight', 'lm_head.dense.weight', 'lm_head.decoder.weight', 'lm_head.decoder.bias', 'lm_head.dense.bias']\n",
      "- This IS expected if you are initializing LongformerForSequenceClassification from the checkpoint of a model trained on another task or with another architecture (e.g. initializing a BertForSequenceClassification model from a BertForPreTraining model).\n",
      "- This IS NOT expected if you are initializing LongformerForSequenceClassification from the checkpoint of a model that you expect to be exactly identical (initializing a BertForSequenceClassification model from a BertForSequenceClassification model).\n",
      "Some weights of LongformerForSequenceClassification were not initialized from the model checkpoint at kiddothe2b/longformer-mini-1024 and are newly initialized: ['classifier.dense.weight', 'classifier.out_proj.bias', 'classifier.dense.bias', 'classifier.out_proj.weight']\n",
      "You should probably TRAIN this model on a down-stream task to be able to use it for predictions and inference.\n"
     ]
    },
    {
     "data": {
      "application/vnd.jupyter.widget-view+json": {
       "model_id": "7771cdae9e17417d916c1ad20ec90415",
       "version_major": 2,
       "version_minor": 0
      },
      "text/plain": [
       "Map:   0%|          | 0/57 [00:00<?, ? examples/s]"
      ]
     },
     "metadata": {},
     "output_type": "display_data"
    },
    {
     "data": {
      "application/vnd.jupyter.widget-view+json": {
       "model_id": "a5e31f2ba6494c38bea75652b85b0444",
       "version_major": 2,
       "version_minor": 0
      },
      "text/plain": [
       "Map:   0%|          | 0/15 [00:00<?, ? examples/s]"
      ]
     },
     "metadata": {},
     "output_type": "display_data"
    },
    {
     "name": "stdout",
     "output_type": "stream",
     "text": [
      "{'loss': 0.6865, 'learning_rate': 4.000000000000001e-06, 'epoch': 0.5}\n",
      "{'loss': 0.6992, 'learning_rate': 8.000000000000001e-06, 'epoch': 1.0}\n",
      "{'loss': 0.6985, 'learning_rate': 1.2e-05, 'epoch': 1.5}\n",
      "{'loss': 0.6889, 'learning_rate': 1.6000000000000003e-05, 'epoch': 2.0}\n",
      "{'loss': 0.6874, 'learning_rate': 2e-05, 'epoch': 2.5}\n",
      "{'loss': 0.6784, 'learning_rate': 1.866666666666667e-05, 'epoch': 3.0}\n",
      "{'loss': 0.6824, 'learning_rate': 1.7333333333333336e-05, 'epoch': 3.5}\n",
      "{'loss': 0.6894, 'learning_rate': 1.6000000000000003e-05, 'epoch': 4.0}\n",
      "{'loss': 0.6624, 'learning_rate': 1.4666666666666666e-05, 'epoch': 4.5}\n",
      "{'loss': 0.6845, 'learning_rate': 1.3333333333333333e-05, 'epoch': 5.0}\n",
      "{'loss': 0.687, 'learning_rate': 1.2e-05, 'epoch': 5.5}\n",
      "{'loss': 0.6492, 'learning_rate': 1.0666666666666667e-05, 'epoch': 6.0}\n",
      "{'loss': 0.6815, 'learning_rate': 9.333333333333334e-06, 'epoch': 6.5}\n",
      "{'loss': 0.6728, 'learning_rate': 8.000000000000001e-06, 'epoch': 7.0}\n",
      "{'loss': 0.6783, 'learning_rate': 6.666666666666667e-06, 'epoch': 7.5}\n",
      "{'loss': 0.6696, 'learning_rate': 5.333333333333334e-06, 'epoch': 8.0}\n",
      "{'loss': 0.6574, 'learning_rate': 4.000000000000001e-06, 'epoch': 8.5}\n",
      "{'loss': 0.6658, 'learning_rate': 2.666666666666667e-06, 'epoch': 9.0}\n",
      "{'loss': 0.6814, 'learning_rate': 1.3333333333333334e-06, 'epoch': 9.5}\n",
      "{'loss': 0.6556, 'learning_rate': 0.0, 'epoch': 10.0}\n",
      "{'train_runtime': 97.101, 'train_samples_per_second': 5.87, 'train_steps_per_second': 0.206, 'train_loss': 0.6778175175189972, 'epoch': 10.0}\n",
      "Fitting model using fold 2 as out of fold data.\n"
     ]
    },
    {
     "name": "stderr",
     "output_type": "stream",
     "text": [
      "Some weights of the model checkpoint at kiddothe2b/longformer-mini-1024 were not used when initializing LongformerForSequenceClassification: ['longformer.embeddings.position_ids', 'lm_head.layer_norm.bias', 'lm_head.bias', 'lm_head.layer_norm.weight', 'lm_head.dense.weight', 'lm_head.decoder.weight', 'lm_head.decoder.bias', 'lm_head.dense.bias']\n",
      "- This IS expected if you are initializing LongformerForSequenceClassification from the checkpoint of a model trained on another task or with another architecture (e.g. initializing a BertForSequenceClassification model from a BertForPreTraining model).\n",
      "- This IS NOT expected if you are initializing LongformerForSequenceClassification from the checkpoint of a model that you expect to be exactly identical (initializing a BertForSequenceClassification model from a BertForSequenceClassification model).\n",
      "Some weights of LongformerForSequenceClassification were not initialized from the model checkpoint at kiddothe2b/longformer-mini-1024 and are newly initialized: ['classifier.dense.weight', 'classifier.out_proj.bias', 'classifier.dense.bias', 'classifier.out_proj.weight']\n",
      "You should probably TRAIN this model on a down-stream task to be able to use it for predictions and inference.\n"
     ]
    },
    {
     "data": {
      "application/vnd.jupyter.widget-view+json": {
       "model_id": "05206ae26bbb4e84a935a0f61a0d9d87",
       "version_major": 2,
       "version_minor": 0
      },
      "text/plain": [
       "Map:   0%|          | 0/57 [00:00<?, ? examples/s]"
      ]
     },
     "metadata": {},
     "output_type": "display_data"
    },
    {
     "data": {
      "application/vnd.jupyter.widget-view+json": {
       "model_id": "e72124290f8b4e83a7eca5c22c8cb332",
       "version_major": 2,
       "version_minor": 0
      },
      "text/plain": [
       "Map:   0%|          | 0/15 [00:00<?, ? examples/s]"
      ]
     },
     "metadata": {},
     "output_type": "display_data"
    },
    {
     "name": "stdout",
     "output_type": "stream",
     "text": [
      "{'loss': 0.6905, 'learning_rate': 4.000000000000001e-06, 'epoch': 0.5}\n",
      "{'loss': 0.6955, 'learning_rate': 8.000000000000001e-06, 'epoch': 1.0}\n",
      "{'loss': 0.7054, 'learning_rate': 1.2e-05, 'epoch': 1.5}\n",
      "{'loss': 0.687, 'learning_rate': 1.6000000000000003e-05, 'epoch': 2.0}\n",
      "{'loss': 0.688, 'learning_rate': 2e-05, 'epoch': 2.5}\n",
      "{'loss': 0.6863, 'learning_rate': 1.866666666666667e-05, 'epoch': 3.0}\n",
      "{'loss': 0.6884, 'learning_rate': 1.7333333333333336e-05, 'epoch': 3.5}\n",
      "{'loss': 0.6818, 'learning_rate': 1.6000000000000003e-05, 'epoch': 4.0}\n",
      "{'loss': 0.6735, 'learning_rate': 1.4666666666666666e-05, 'epoch': 4.5}\n",
      "{'loss': 0.6716, 'learning_rate': 1.3333333333333333e-05, 'epoch': 5.0}\n",
      "{'loss': 0.6611, 'learning_rate': 1.2e-05, 'epoch': 5.5}\n",
      "{'loss': 0.6799, 'learning_rate': 1.0666666666666667e-05, 'epoch': 6.0}\n",
      "{'loss': 0.667, 'learning_rate': 9.333333333333334e-06, 'epoch': 6.5}\n",
      "{'loss': 0.6873, 'learning_rate': 8.000000000000001e-06, 'epoch': 7.0}\n",
      "{'loss': 0.6874, 'learning_rate': 6.666666666666667e-06, 'epoch': 7.5}\n",
      "{'loss': 0.6596, 'learning_rate': 5.333333333333334e-06, 'epoch': 8.0}\n",
      "{'loss': 0.6607, 'learning_rate': 4.000000000000001e-06, 'epoch': 8.5}\n",
      "{'loss': 0.6776, 'learning_rate': 2.666666666666667e-06, 'epoch': 9.0}\n",
      "{'loss': 0.6759, 'learning_rate': 1.3333333333333334e-06, 'epoch': 9.5}\n",
      "{'loss': 0.6741, 'learning_rate': 0.0, 'epoch': 10.0}\n",
      "{'train_runtime': 97.6556, 'train_samples_per_second': 5.837, 'train_steps_per_second': 0.205, 'train_loss': 0.6799318730831146, 'epoch': 10.0}\n",
      "Fitting model using fold 3 as out of fold data.\n"
     ]
    },
    {
     "name": "stderr",
     "output_type": "stream",
     "text": [
      "Some weights of the model checkpoint at kiddothe2b/longformer-mini-1024 were not used when initializing LongformerForSequenceClassification: ['longformer.embeddings.position_ids', 'lm_head.layer_norm.bias', 'lm_head.bias', 'lm_head.layer_norm.weight', 'lm_head.dense.weight', 'lm_head.decoder.weight', 'lm_head.decoder.bias', 'lm_head.dense.bias']\n",
      "- This IS expected if you are initializing LongformerForSequenceClassification from the checkpoint of a model trained on another task or with another architecture (e.g. initializing a BertForSequenceClassification model from a BertForPreTraining model).\n",
      "- This IS NOT expected if you are initializing LongformerForSequenceClassification from the checkpoint of a model that you expect to be exactly identical (initializing a BertForSequenceClassification model from a BertForSequenceClassification model).\n",
      "Some weights of LongformerForSequenceClassification were not initialized from the model checkpoint at kiddothe2b/longformer-mini-1024 and are newly initialized: ['classifier.dense.weight', 'classifier.out_proj.bias', 'classifier.dense.bias', 'classifier.out_proj.weight']\n",
      "You should probably TRAIN this model on a down-stream task to be able to use it for predictions and inference.\n"
     ]
    },
    {
     "data": {
      "application/vnd.jupyter.widget-view+json": {
       "model_id": "48806fc0b3c44d8da84e134452afe7ce",
       "version_major": 2,
       "version_minor": 0
      },
      "text/plain": [
       "Map:   0%|          | 0/61 [00:00<?, ? examples/s]"
      ]
     },
     "metadata": {},
     "output_type": "display_data"
    },
    {
     "data": {
      "application/vnd.jupyter.widget-view+json": {
       "model_id": "fd7b3dd57cac437984cb48fc61bb462d",
       "version_major": 2,
       "version_minor": 0
      },
      "text/plain": [
       "Map:   0%|          | 0/11 [00:00<?, ? examples/s]"
      ]
     },
     "metadata": {},
     "output_type": "display_data"
    },
    {
     "name": "stdout",
     "output_type": "stream",
     "text": [
      "{'loss': 0.6945, 'learning_rate': 4.000000000000001e-06, 'epoch': 0.5}\n",
      "{'loss': 0.7112, 'learning_rate': 8.000000000000001e-06, 'epoch': 1.0}\n",
      "{'loss': 0.6985, 'learning_rate': 1.2e-05, 'epoch': 1.5}\n",
      "{'loss': 0.6969, 'learning_rate': 1.6000000000000003e-05, 'epoch': 2.0}\n",
      "{'loss': 0.6809, 'learning_rate': 2e-05, 'epoch': 2.5}\n",
      "{'loss': 0.6785, 'learning_rate': 1.866666666666667e-05, 'epoch': 3.0}\n",
      "{'loss': 0.6655, 'learning_rate': 1.7333333333333336e-05, 'epoch': 3.5}\n",
      "{'loss': 0.6711, 'learning_rate': 1.6000000000000003e-05, 'epoch': 4.0}\n",
      "{'loss': 0.6561, 'learning_rate': 1.4666666666666666e-05, 'epoch': 4.5}\n",
      "{'loss': 0.6941, 'learning_rate': 1.3333333333333333e-05, 'epoch': 5.0}\n",
      "{'loss': 0.6577, 'learning_rate': 1.2e-05, 'epoch': 5.5}\n",
      "{'loss': 0.6932, 'learning_rate': 1.0666666666666667e-05, 'epoch': 6.0}\n",
      "{'loss': 0.6842, 'learning_rate': 9.333333333333334e-06, 'epoch': 6.5}\n",
      "{'loss': 0.6696, 'learning_rate': 8.000000000000001e-06, 'epoch': 7.0}\n",
      "{'loss': 0.6878, 'learning_rate': 6.666666666666667e-06, 'epoch': 7.5}\n",
      "{'loss': 0.6574, 'learning_rate': 5.333333333333334e-06, 'epoch': 8.0}\n",
      "{'loss': 0.6518, 'learning_rate': 4.000000000000001e-06, 'epoch': 8.5}\n",
      "{'loss': 0.6954, 'learning_rate': 2.666666666666667e-06, 'epoch': 9.0}\n",
      "{'loss': 0.6849, 'learning_rate': 1.3333333333333334e-06, 'epoch': 9.5}\n",
      "{'loss': 0.6523, 'learning_rate': 0.0, 'epoch': 10.0}\n",
      "{'train_runtime': 100.7281, 'train_samples_per_second': 6.056, 'train_steps_per_second': 0.199, 'train_loss': 0.6790812999010086, 'epoch': 10.0}\n",
      "Fitting model using fold 4 as out of fold data.\n"
     ]
    },
    {
     "name": "stderr",
     "output_type": "stream",
     "text": [
      "Some weights of the model checkpoint at kiddothe2b/longformer-mini-1024 were not used when initializing LongformerForSequenceClassification: ['longformer.embeddings.position_ids', 'lm_head.layer_norm.bias', 'lm_head.bias', 'lm_head.layer_norm.weight', 'lm_head.dense.weight', 'lm_head.decoder.weight', 'lm_head.decoder.bias', 'lm_head.dense.bias']\n",
      "- This IS expected if you are initializing LongformerForSequenceClassification from the checkpoint of a model trained on another task or with another architecture (e.g. initializing a BertForSequenceClassification model from a BertForPreTraining model).\n",
      "- This IS NOT expected if you are initializing LongformerForSequenceClassification from the checkpoint of a model that you expect to be exactly identical (initializing a BertForSequenceClassification model from a BertForSequenceClassification model).\n",
      "Some weights of LongformerForSequenceClassification were not initialized from the model checkpoint at kiddothe2b/longformer-mini-1024 and are newly initialized: ['classifier.dense.weight', 'classifier.out_proj.bias', 'classifier.dense.bias', 'classifier.out_proj.weight']\n",
      "You should probably TRAIN this model on a down-stream task to be able to use it for predictions and inference.\n"
     ]
    },
    {
     "data": {
      "application/vnd.jupyter.widget-view+json": {
       "model_id": "2636d6baff5842928a294855e93e50a6",
       "version_major": 2,
       "version_minor": 0
      },
      "text/plain": [
       "Map:   0%|          | 0/59 [00:00<?, ? examples/s]"
      ]
     },
     "metadata": {},
     "output_type": "display_data"
    },
    {
     "data": {
      "application/vnd.jupyter.widget-view+json": {
       "model_id": "f97337e5fae649ddb918cab5eec0b719",
       "version_major": 2,
       "version_minor": 0
      },
      "text/plain": [
       "Map:   0%|          | 0/13 [00:00<?, ? examples/s]"
      ]
     },
     "metadata": {},
     "output_type": "display_data"
    },
    {
     "name": "stdout",
     "output_type": "stream",
     "text": [
      "{'loss': 0.6961, 'learning_rate': 4.000000000000001e-06, 'epoch': 0.5}\n",
      "{'loss': 0.697, 'learning_rate': 8.000000000000001e-06, 'epoch': 1.0}\n",
      "{'loss': 0.7051, 'learning_rate': 1.2e-05, 'epoch': 1.5}\n",
      "{'loss': 0.6913, 'learning_rate': 1.6000000000000003e-05, 'epoch': 2.0}\n",
      "{'loss': 0.6955, 'learning_rate': 2e-05, 'epoch': 2.5}\n",
      "{'loss': 0.6919, 'learning_rate': 1.866666666666667e-05, 'epoch': 3.0}\n",
      "{'loss': 0.6848, 'learning_rate': 1.7333333333333336e-05, 'epoch': 3.5}\n",
      "{'loss': 0.6923, 'learning_rate': 1.6000000000000003e-05, 'epoch': 4.0}\n",
      "{'loss': 0.6787, 'learning_rate': 1.4666666666666666e-05, 'epoch': 4.5}\n",
      "{'loss': 0.6753, 'learning_rate': 1.3333333333333333e-05, 'epoch': 5.0}\n",
      "{'loss': 0.6857, 'learning_rate': 1.2e-05, 'epoch': 5.5}\n",
      "{'loss': 0.6707, 'learning_rate': 1.0666666666666667e-05, 'epoch': 6.0}\n",
      "{'loss': 0.6931, 'learning_rate': 9.333333333333334e-06, 'epoch': 6.5}\n",
      "{'loss': 0.6561, 'learning_rate': 8.000000000000001e-06, 'epoch': 7.0}\n",
      "{'loss': 0.6816, 'learning_rate': 6.666666666666667e-06, 'epoch': 7.5}\n",
      "{'loss': 0.6785, 'learning_rate': 5.333333333333334e-06, 'epoch': 8.0}\n",
      "{'loss': 0.6786, 'learning_rate': 4.000000000000001e-06, 'epoch': 8.5}\n",
      "{'loss': 0.6838, 'learning_rate': 2.666666666666667e-06, 'epoch': 9.0}\n",
      "{'loss': 0.6813, 'learning_rate': 1.3333333333333334e-06, 'epoch': 9.5}\n",
      "{'loss': 0.6671, 'learning_rate': 0.0, 'epoch': 10.0}\n",
      "{'train_runtime': 97.4403, 'train_samples_per_second': 6.055, 'train_steps_per_second': 0.205, 'train_loss': 0.6842266589403152, 'epoch': 10.0}\n"
     ]
    }
   ],
   "source": [
    "y_probs, y_trues = [], []\n",
    "for i in range(len(X)):\n",
    "    \n",
    "    print(f\"Fitting model using fold {i} as out of fold data.\")\n",
    "    \n",
    "    # Identify train folds and shuffle samples\n",
    "    X_train, y_train = np.concatenate(X[0:i] + X[i+1:], axis=0), np.concatenate(y[0:i] + y[i+1:], axis=0)\n",
    "    indices = np.arange(len(y_train))\n",
    "    np.random.shuffle(indices)\n",
    "    X_train, y_train = X_train[indices], y_train[indices]\n",
    "    \n",
    "    # Identify test folds\n",
    "    X_test, y_test = X[i], y[i]\n",
    "    \n",
    "    # Format text and label data as HuggingFace dataset\n",
    "    train_dataset = Dataset.from_dict({\"text\": X_train, \"label\": y_train})\n",
    "    test_dataset = Dataset.from_dict({\"text\": X_test, \"label\": y_test})\n",
    "    \n",
    "    # Load model and tokenizer\n",
    "    # This will reset the model weights with each new iteration\n",
    "    tokenizer = AutoTokenizer.from_pretrained(lm_path)\n",
    "    model = AutoModelForSequenceClassification.from_pretrained(\n",
    "        lm_path,\n",
    "        num_labels=2,\n",
    "        return_dict=True,\n",
    "        problem_type=\"single_label_classification\"\n",
    "    )\n",
    "    \n",
    "    # Define function to tokenize text\n",
    "    def tokenize_function(batch):\n",
    "        \n",
    "        return tokenizer(\n",
    "            batch[\"text\"],\n",
    "            padding=\"max_length\",\n",
    "            truncation=True,\n",
    "            max_length=max_seq_len\n",
    "        )\n",
    "    \n",
    "    # Tokenize train dataset\n",
    "    train_dataset = train_dataset.map(\n",
    "        tokenize_function,\n",
    "        batched=True,\n",
    "        remove_columns=[\"text\"],\n",
    "        batch_size=batch_size\n",
    "    )\n",
    "    train_dataset.set_format(\"pt\")\n",
    "    \n",
    "    # Tokenize test dataset\n",
    "    test_dataset = test_dataset.map(\n",
    "        tokenize_function,\n",
    "        batched=True,\n",
    "        remove_columns=[\"text\"],\n",
    "        batch_size=batch_size\n",
    "    )\n",
    "    test_dataset.set_format(\"pt\")\n",
    "    \n",
    "    # Define training arguments\n",
    "    training_args= TrainingArguments(\n",
    "        output_dir=output_dir,\n",
    "        num_train_epochs=epochs,\n",
    "        per_device_train_batch_size=batch_size,\n",
    "        gradient_accumulation_steps=accumulation_steps,\n",
    "        warmup_steps=warmup_steps,\n",
    "        logging_steps=logging_steps,\n",
    "        weight_decay=weight_decay,\n",
    "        learning_rate=lr,\n",
    "        seed=seed,\n",
    "        adam_beta1=adam_beta1,\n",
    "        adam_beta2=adam_beta2,\n",
    "        adam_epsilon=adam_epsilon,\n",
    "        dataloader_num_workers=num_workers,\n",
    "        fp16=fp16,\n",
    "        logging_strategy=\"steps\",\n",
    "        save_strategy=\"no\",\n",
    "        lr_scheduler_type='linear',\n",
    "        optim=\"adamw_torch\",\n",
    "        run_name='lf',\n",
    "        do_eval=False,\n",
    "        fp16_full_eval=False,\n",
    "        sharded_ddp=False,\n",
    "        gradient_checkpointing=True,\n",
    "        load_best_model_at_end=True,\n",
    "        prediction_loss_only=False,\n",
    "        disable_tqdm=True,\n",
    "        logging_dir=None,\n",
    "    )\n",
    "    \n",
    "    # Define model training\n",
    "    trainer = Trainer(\n",
    "        model=model,\n",
    "        args=training_args,\n",
    "        train_dataset=train_dataset\n",
    "    )\n",
    "    \n",
    "    # Train model\n",
    "    trainer.train()\n",
    "    \n",
    "    # Predict on test dataset\n",
    "    output = trainer.predict(test_dataset)\n",
    "    labels = output.label_ids\n",
    "    y_prob = torch.sigmoid(torch.tensor(output.predictions).double()).numpy()[:, 1]\n",
    "\n",
    "    # Save scores and labels\n",
    "    y_probs.append(y_prob)\n",
    "    y_trues.append(labels)"
   ]
  },
  {
   "cell_type": "markdown",
   "id": "7da93cef",
   "metadata": {},
   "source": [
    "##### Save Model Probabilities on Test Folds and True Labels"
   ]
  },
  {
   "cell_type": "code",
   "execution_count": 9,
   "id": "6bbff8d9",
   "metadata": {},
   "outputs": [],
   "source": [
    "with open('results/lfm_y_trues.pkl', 'wb') as f:\n",
    "    pickle.dump(y_trues, f)\n",
    "\n",
    "with open('results/lfm_y_probs.pkl', 'wb') as f:\n",
    "    pickle.dump(y_probs, f)"
   ]
  },
  {
   "cell_type": "code",
   "execution_count": null,
   "id": "6e4d8469",
   "metadata": {},
   "outputs": [],
   "source": []
  }
 ],
 "metadata": {
  "kernelspec": {
   "display_name": "transcripts",
   "language": "python",
   "name": "transcripts"
  },
  "language_info": {
   "codemirror_mode": {
    "name": "ipython",
    "version": 3
   },
   "file_extension": ".py",
   "mimetype": "text/x-python",
   "name": "python",
   "nbconvert_exporter": "python",
   "pygments_lexer": "ipython3",
   "version": "3.8.16"
  }
 },
 "nbformat": 4,
 "nbformat_minor": 5
}
