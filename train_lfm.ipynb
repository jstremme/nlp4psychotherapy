{
 "cells": [
  {
   "cell_type": "markdown",
   "id": "6ea00513",
   "metadata": {},
   "source": [
    "### Fine-Tune Longformer Mini\n",
    "\n",
    "- Joel Stremmel\n",
    "- 04-11-23\n",
    "\n",
    "##### About\n",
    "\n",
    "Fine-Tune Longformer Mini on the formatted data using K-Fold Cross-Validation and save the scores."
   ]
  },
  {
   "cell_type": "markdown",
   "id": "9ac2c7a9",
   "metadata": {},
   "source": [
    "##### Imports"
   ]
  },
  {
   "cell_type": "code",
   "execution_count": 1,
   "id": "dd145b3a",
   "metadata": {},
   "outputs": [],
   "source": [
    "import os\n",
    "import re\n",
    "import glob\n",
    "import pickle\n",
    "import torch\n",
    "import numpy as np\n",
    "import pandas as pd\n",
    "from datasets import Dataset\n",
    "from transformers import (\n",
    "    AutoTokenizer,\n",
    "    AutoModelForSequenceClassification,\n",
    "    Trainer,\n",
    "    TrainingArguments\n",
    ")"
   ]
  },
  {
   "cell_type": "markdown",
   "id": "19d89e2d",
   "metadata": {},
   "source": [
    "##### Set Parameters"
   ]
  },
  {
   "cell_type": "code",
   "execution_count": 2,
   "id": "ccfa5892",
   "metadata": {},
   "outputs": [],
   "source": [
    "max_seq_len = 1024\n",
    "batch_size = 32\n",
    "accumulation_steps = 1\n",
    "lr = 0.00005\n",
    "weight_decay = 0.01\n",
    "adam_beta1 = 0.9\n",
    "adam_beta2 = 0.999\n",
    "adam_epsilon = 0.00000001\n",
    "warmup_steps = 25\n",
    "logging_steps = 1\n",
    "num_workers = 8\n",
    "seed = 44\n",
    "epochs = 40\n",
    "fp16 = True\n",
    "output_dir = \"lf_output\"\n",
    "lm_path = \"kiddothe2b/longformer-mini-1024\""
   ]
  },
  {
   "cell_type": "markdown",
   "id": "fccb2634",
   "metadata": {},
   "source": [
    "##### Disable Tokenizer Parallelism\n",
    "This is mostly to avoid warnings."
   ]
  },
  {
   "cell_type": "code",
   "execution_count": 3,
   "id": "e13a3d5f",
   "metadata": {},
   "outputs": [],
   "source": [
    "os.environ[\"TOKENIZERS_PARALLELISM\"] = \"false\""
   ]
  },
  {
   "cell_type": "markdown",
   "id": "2f78b64c",
   "metadata": {},
   "source": [
    "##### Load Formatted Data"
   ]
  },
  {
   "cell_type": "code",
   "execution_count": 4,
   "id": "710a85d0",
   "metadata": {},
   "outputs": [],
   "source": [
    "with open('data/X_folds.pkl', 'rb') as f:\n",
    "    X_folds = pickle.load(f)\n",
    "\n",
    "with open('data/y_folds.pkl', 'rb') as f:\n",
    "    y_folds = pickle.load(f)"
   ]
  },
  {
   "cell_type": "markdown",
   "id": "5d6b559a",
   "metadata": {},
   "source": [
    "##### Check Data Shape"
   ]
  },
  {
   "cell_type": "code",
   "execution_count": 5,
   "id": "bb7c83b6",
   "metadata": {},
   "outputs": [],
   "source": [
    "assert len(X_folds) == len(y_folds), \"Expected the same number of folds in X and y.\"\n",
    "X = list(X_folds.values())\n",
    "y = list(y_folds.values())"
   ]
  },
  {
   "cell_type": "markdown",
   "id": "aac7cd9d",
   "metadata": {},
   "source": [
    "##### Check Target Prevalence"
   ]
  },
  {
   "cell_type": "code",
   "execution_count": 6,
   "id": "2164340a",
   "metadata": {},
   "outputs": [
    {
     "name": "stdout",
     "output_type": "stream",
     "text": [
      "Target prevalance: 0.5.\n"
     ]
    }
   ],
   "source": [
    "print(f\"Target prevalance: {np.mean(np.concatenate(y))}.\")"
   ]
  },
  {
   "cell_type": "markdown",
   "id": "15ff6576",
   "metadata": {},
   "source": [
    "##### Check that GPU is Available"
   ]
  },
  {
   "cell_type": "code",
   "execution_count": 7,
   "id": "617bd083",
   "metadata": {},
   "outputs": [
    {
     "name": "stdout",
     "output_type": "stream",
     "text": [
      "1.8.1+cu101\n"
     ]
    }
   ],
   "source": [
    "assert torch.cuda.is_available(), \"Run this script on a GPU.\"\n",
    "print(torch.__version__)"
   ]
  },
  {
   "cell_type": "markdown",
   "id": "85f2951e",
   "metadata": {},
   "source": [
    "##### Tokenize Text and Fit Model to Each Fold"
   ]
  },
  {
   "cell_type": "code",
   "execution_count": 8,
   "id": "45cc6d29",
   "metadata": {},
   "outputs": [
    {
     "name": "stdout",
     "output_type": "stream",
     "text": [
      "Fitting model using fold 0 as out of fold data.\n"
     ]
    },
    {
     "name": "stderr",
     "output_type": "stream",
     "text": [
      "Some weights of the model checkpoint at kiddothe2b/longformer-mini-1024 were not used when initializing LongformerForSequenceClassification: ['lm_head.layer_norm.weight', 'lm_head.dense.bias', 'lm_head.layer_norm.bias', 'lm_head.decoder.weight', 'lm_head.bias', 'longformer.embeddings.position_ids', 'lm_head.dense.weight', 'lm_head.decoder.bias']\n",
      "- This IS expected if you are initializing LongformerForSequenceClassification from the checkpoint of a model trained on another task or with another architecture (e.g. initializing a BertForSequenceClassification model from a BertForPreTraining model).\n",
      "- This IS NOT expected if you are initializing LongformerForSequenceClassification from the checkpoint of a model that you expect to be exactly identical (initializing a BertForSequenceClassification model from a BertForSequenceClassification model).\n",
      "Some weights of LongformerForSequenceClassification were not initialized from the model checkpoint at kiddothe2b/longformer-mini-1024 and are newly initialized: ['classifier.dense.weight', 'classifier.dense.bias', 'classifier.out_proj.weight', 'classifier.out_proj.bias']\n",
      "You should probably TRAIN this model on a down-stream task to be able to use it for predictions and inference.\n"
     ]
    },
    {
     "data": {
      "application/vnd.jupyter.widget-view+json": {
       "model_id": "",
       "version_major": 2,
       "version_minor": 0
      },
      "text/plain": [
       "Map:   0%|          | 0/54 [00:00<?, ? examples/s]"
      ]
     },
     "metadata": {},
     "output_type": "display_data"
    },
    {
     "data": {
      "application/vnd.jupyter.widget-view+json": {
       "model_id": "",
       "version_major": 2,
       "version_minor": 0
      },
      "text/plain": [
       "Map:   0%|          | 0/18 [00:00<?, ? examples/s]"
      ]
     },
     "metadata": {},
     "output_type": "display_data"
    },
    {
     "name": "stdout",
     "output_type": "stream",
     "text": [
      "{'loss': 0.688, 'learning_rate': 2.0000000000000003e-06, 'epoch': 0.5}\n",
      "{'loss': 0.6962, 'learning_rate': 4.000000000000001e-06, 'epoch': 1.0}\n",
      "{'loss': 0.7027, 'learning_rate': 6e-06, 'epoch': 1.5}\n",
      "{'loss': 0.692, 'learning_rate': 8.000000000000001e-06, 'epoch': 2.0}\n",
      "{'loss': 0.7105, 'learning_rate': 1e-05, 'epoch': 2.5}\n",
      "{'loss': 0.6878, 'learning_rate': 1.2e-05, 'epoch': 3.0}\n",
      "{'loss': 0.699, 'learning_rate': 1.4000000000000001e-05, 'epoch': 3.5}\n",
      "{'loss': 0.6682, 'learning_rate': 1.6000000000000003e-05, 'epoch': 4.0}\n",
      "{'loss': 0.6797, 'learning_rate': 1.8e-05, 'epoch': 4.5}\n",
      "{'loss': 0.6774, 'learning_rate': 2e-05, 'epoch': 5.0}\n",
      "{'loss': 0.6775, 'learning_rate': 2.2000000000000003e-05, 'epoch': 5.5}\n",
      "{'loss': 0.6685, 'learning_rate': 2.4e-05, 'epoch': 6.0}\n",
      "{'loss': 0.6434, 'learning_rate': 2.6000000000000002e-05, 'epoch': 6.5}\n",
      "{'loss': 0.7179, 'learning_rate': 2.8000000000000003e-05, 'epoch': 7.0}\n",
      "{'loss': 0.6512, 'learning_rate': 3e-05, 'epoch': 7.5}\n",
      "{'loss': 0.672, 'learning_rate': 3.2000000000000005e-05, 'epoch': 8.0}\n",
      "{'loss': 0.6725, 'learning_rate': 3.4000000000000007e-05, 'epoch': 8.5}\n",
      "{'loss': 0.6506, 'learning_rate': 3.6e-05, 'epoch': 9.0}\n",
      "{'loss': 0.6656, 'learning_rate': 3.8e-05, 'epoch': 9.5}\n",
      "{'loss': 0.6369, 'learning_rate': 4e-05, 'epoch': 10.0}\n",
      "{'loss': 0.5997, 'learning_rate': 4.2e-05, 'epoch': 10.5}\n",
      "{'loss': 0.7084, 'learning_rate': 4.4000000000000006e-05, 'epoch': 11.0}\n",
      "{'loss': 0.635, 'learning_rate': 4.600000000000001e-05, 'epoch': 11.5}\n",
      "{'loss': 0.6329, 'learning_rate': 4.8e-05, 'epoch': 12.0}\n",
      "{'loss': 0.646, 'learning_rate': 5e-05, 'epoch': 12.5}\n",
      "{'loss': 0.5742, 'learning_rate': 4.909090909090909e-05, 'epoch': 13.0}\n",
      "{'loss': 0.6072, 'learning_rate': 4.8181818181818186e-05, 'epoch': 13.5}\n",
      "{'loss': 0.5938, 'learning_rate': 4.7272727272727275e-05, 'epoch': 14.0}\n",
      "{'loss': 0.5923, 'learning_rate': 4.636363636363636e-05, 'epoch': 14.5}\n",
      "{'loss': 0.5934, 'learning_rate': 4.545454545454546e-05, 'epoch': 15.0}\n",
      "{'loss': 0.5431, 'learning_rate': 4.454545454545455e-05, 'epoch': 15.5}\n",
      "{'loss': 0.5744, 'learning_rate': 4.3636363636363636e-05, 'epoch': 16.0}\n",
      "{'loss': 0.5239, 'learning_rate': 4.2727272727272724e-05, 'epoch': 16.5}\n",
      "{'loss': 0.562, 'learning_rate': 4.181818181818182e-05, 'epoch': 17.0}\n",
      "{'loss': 0.5197, 'learning_rate': 4.0909090909090915e-05, 'epoch': 17.5}\n",
      "{'loss': 0.4951, 'learning_rate': 4e-05, 'epoch': 18.0}\n",
      "{'loss': 0.5019, 'learning_rate': 3.909090909090909e-05, 'epoch': 18.5}\n",
      "{'loss': 0.4655, 'learning_rate': 3.818181818181819e-05, 'epoch': 19.0}\n",
      "{'loss': 0.444, 'learning_rate': 3.7272727272727276e-05, 'epoch': 19.5}\n",
      "{'loss': 0.4533, 'learning_rate': 3.6363636363636364e-05, 'epoch': 20.0}\n",
      "{'loss': 0.451, 'learning_rate': 3.545454545454546e-05, 'epoch': 20.5}\n",
      "{'loss': 0.3862, 'learning_rate': 3.454545454545455e-05, 'epoch': 21.0}\n",
      "{'loss': 0.3984, 'learning_rate': 3.3636363636363636e-05, 'epoch': 21.5}\n",
      "{'loss': 0.3553, 'learning_rate': 3.272727272727273e-05, 'epoch': 22.0}\n",
      "{'loss': 0.3857, 'learning_rate': 3.181818181818182e-05, 'epoch': 22.5}\n",
      "{'loss': 0.3401, 'learning_rate': 3.090909090909091e-05, 'epoch': 23.0}\n",
      "{'loss': 0.2915, 'learning_rate': 3e-05, 'epoch': 23.5}\n",
      "{'loss': 0.4165, 'learning_rate': 2.909090909090909e-05, 'epoch': 24.0}\n",
      "{'loss': 0.3403, 'learning_rate': 2.818181818181818e-05, 'epoch': 24.5}\n",
      "{'loss': 0.3009, 'learning_rate': 2.7272727272727273e-05, 'epoch': 25.0}\n",
      "{'loss': 0.325, 'learning_rate': 2.636363636363636e-05, 'epoch': 25.5}\n",
      "{'loss': 0.2667, 'learning_rate': 2.5454545454545454e-05, 'epoch': 26.0}\n",
      "{'loss': 0.2979, 'learning_rate': 2.4545454545454545e-05, 'epoch': 26.5}\n",
      "{'loss': 0.251, 'learning_rate': 2.3636363636363637e-05, 'epoch': 27.0}\n",
      "{'loss': 0.2739, 'learning_rate': 2.272727272727273e-05, 'epoch': 27.5}\n",
      "{'loss': 0.262, 'learning_rate': 2.1818181818181818e-05, 'epoch': 28.0}\n",
      "{'loss': 0.2879, 'learning_rate': 2.090909090909091e-05, 'epoch': 28.5}\n",
      "{'loss': 0.2063, 'learning_rate': 2e-05, 'epoch': 29.0}\n",
      "{'loss': 0.2365, 'learning_rate': 1.9090909090909094e-05, 'epoch': 29.5}\n",
      "{'loss': 0.2582, 'learning_rate': 1.8181818181818182e-05, 'epoch': 30.0}\n",
      "{'loss': 0.27, 'learning_rate': 1.7272727272727274e-05, 'epoch': 30.5}\n",
      "{'loss': 0.1852, 'learning_rate': 1.6363636363636366e-05, 'epoch': 31.0}\n",
      "{'loss': 0.2121, 'learning_rate': 1.5454545454545454e-05, 'epoch': 31.5}\n",
      "{'loss': 0.2678, 'learning_rate': 1.4545454545454545e-05, 'epoch': 32.0}\n",
      "{'loss': 0.2152, 'learning_rate': 1.3636363636363637e-05, 'epoch': 32.5}\n",
      "{'loss': 0.2448, 'learning_rate': 1.2727272727272727e-05, 'epoch': 33.0}\n",
      "{'loss': 0.1968, 'learning_rate': 1.1818181818181819e-05, 'epoch': 33.5}\n",
      "{'loss': 0.2666, 'learning_rate': 1.0909090909090909e-05, 'epoch': 34.0}\n",
      "{'loss': 0.2579, 'learning_rate': 1e-05, 'epoch': 34.5}\n",
      "{'loss': 0.1691, 'learning_rate': 9.090909090909091e-06, 'epoch': 35.0}\n",
      "{'loss': 0.1906, 'learning_rate': 8.181818181818183e-06, 'epoch': 35.5}\n",
      "{'loss': 0.2433, 'learning_rate': 7.272727272727272e-06, 'epoch': 36.0}\n",
      "{'loss': 0.2062, 'learning_rate': 6.363636363636363e-06, 'epoch': 36.5}\n",
      "{'loss': 0.2132, 'learning_rate': 5.4545454545454545e-06, 'epoch': 37.0}\n",
      "{'loss': 0.1649, 'learning_rate': 4.5454545454545455e-06, 'epoch': 37.5}\n",
      "{'loss': 0.2787, 'learning_rate': 3.636363636363636e-06, 'epoch': 38.0}\n",
      "{'loss': 0.177, 'learning_rate': 2.7272727272727272e-06, 'epoch': 38.5}\n",
      "{'loss': 0.2547, 'learning_rate': 1.818181818181818e-06, 'epoch': 39.0}\n",
      "{'loss': 0.2293, 'learning_rate': 9.09090909090909e-07, 'epoch': 39.5}\n",
      "{'loss': 0.1896, 'learning_rate': 0.0, 'epoch': 40.0}\n",
      "{'train_runtime': 424.1859, 'train_samples_per_second': 5.092, 'train_steps_per_second': 0.189, 'train_loss': 0.4448458241298795, 'epoch': 40.0}\n",
      "Fitting model using fold 1 as out of fold data.\n"
     ]
    },
    {
     "name": "stderr",
     "output_type": "stream",
     "text": [
      "Some weights of the model checkpoint at kiddothe2b/longformer-mini-1024 were not used when initializing LongformerForSequenceClassification: ['lm_head.layer_norm.weight', 'lm_head.dense.bias', 'lm_head.layer_norm.bias', 'lm_head.decoder.weight', 'lm_head.bias', 'longformer.embeddings.position_ids', 'lm_head.dense.weight', 'lm_head.decoder.bias']\n",
      "- This IS expected if you are initializing LongformerForSequenceClassification from the checkpoint of a model trained on another task or with another architecture (e.g. initializing a BertForSequenceClassification model from a BertForPreTraining model).\n",
      "- This IS NOT expected if you are initializing LongformerForSequenceClassification from the checkpoint of a model that you expect to be exactly identical (initializing a BertForSequenceClassification model from a BertForSequenceClassification model).\n",
      "Some weights of LongformerForSequenceClassification were not initialized from the model checkpoint at kiddothe2b/longformer-mini-1024 and are newly initialized: ['classifier.dense.weight', 'classifier.dense.bias', 'classifier.out_proj.weight', 'classifier.out_proj.bias']\n",
      "You should probably TRAIN this model on a down-stream task to be able to use it for predictions and inference.\n"
     ]
    },
    {
     "data": {
      "application/vnd.jupyter.widget-view+json": {
       "model_id": "",
       "version_major": 2,
       "version_minor": 0
      },
      "text/plain": [
       "Map:   0%|          | 0/57 [00:00<?, ? examples/s]"
      ]
     },
     "metadata": {},
     "output_type": "display_data"
    },
    {
     "data": {
      "application/vnd.jupyter.widget-view+json": {
       "model_id": "",
       "version_major": 2,
       "version_minor": 0
      },
      "text/plain": [
       "Map:   0%|          | 0/15 [00:00<?, ? examples/s]"
      ]
     },
     "metadata": {},
     "output_type": "display_data"
    },
    {
     "name": "stdout",
     "output_type": "stream",
     "text": [
      "{'loss': 0.6958, 'learning_rate': 2.0000000000000003e-06, 'epoch': 0.5}\n",
      "{'loss': 0.7031, 'learning_rate': 4.000000000000001e-06, 'epoch': 1.0}\n",
      "{'loss': 0.6968, 'learning_rate': 6e-06, 'epoch': 1.5}\n",
      "{'loss': 0.7046, 'learning_rate': 8.000000000000001e-06, 'epoch': 2.0}\n",
      "{'loss': 0.7075, 'learning_rate': 1e-05, 'epoch': 2.5}\n",
      "{'loss': 0.6998, 'learning_rate': 1.2e-05, 'epoch': 3.0}\n",
      "{'loss': 0.7046, 'learning_rate': 1.4000000000000001e-05, 'epoch': 3.5}\n",
      "{'loss': 0.6938, 'learning_rate': 1.6000000000000003e-05, 'epoch': 4.0}\n",
      "{'loss': 0.696, 'learning_rate': 1.8e-05, 'epoch': 4.5}\n",
      "{'loss': 0.6923, 'learning_rate': 2e-05, 'epoch': 5.0}\n",
      "{'loss': 0.7027, 'learning_rate': 2.2000000000000003e-05, 'epoch': 5.5}\n",
      "{'loss': 0.6676, 'learning_rate': 2.4e-05, 'epoch': 6.0}\n",
      "{'loss': 0.7053, 'learning_rate': 2.6000000000000002e-05, 'epoch': 6.5}\n",
      "{'loss': 0.6668, 'learning_rate': 2.8000000000000003e-05, 'epoch': 7.0}\n",
      "{'loss': 0.6817, 'learning_rate': 3e-05, 'epoch': 7.5}\n",
      "{'loss': 0.6797, 'learning_rate': 3.2000000000000005e-05, 'epoch': 8.0}\n",
      "{'loss': 0.6903, 'learning_rate': 3.4000000000000007e-05, 'epoch': 8.5}\n",
      "{'loss': 0.6572, 'learning_rate': 3.6e-05, 'epoch': 9.0}\n",
      "{'loss': 0.6696, 'learning_rate': 3.8e-05, 'epoch': 9.5}\n",
      "{'loss': 0.6432, 'learning_rate': 4e-05, 'epoch': 10.0}\n",
      "{'loss': 0.6635, 'learning_rate': 4.2e-05, 'epoch': 10.5}\n",
      "{'loss': 0.6674, 'learning_rate': 4.4000000000000006e-05, 'epoch': 11.0}\n",
      "{'loss': 0.6496, 'learning_rate': 4.600000000000001e-05, 'epoch': 11.5}\n",
      "{'loss': 0.653, 'learning_rate': 4.8e-05, 'epoch': 12.0}\n",
      "{'loss': 0.659, 'learning_rate': 5e-05, 'epoch': 12.5}\n",
      "{'loss': 0.6286, 'learning_rate': 4.909090909090909e-05, 'epoch': 13.0}\n",
      "{'loss': 0.6422, 'learning_rate': 4.8181818181818186e-05, 'epoch': 13.5}\n",
      "{'loss': 0.6217, 'learning_rate': 4.7272727272727275e-05, 'epoch': 14.0}\n",
      "{'loss': 0.612, 'learning_rate': 4.636363636363636e-05, 'epoch': 14.5}\n",
      "{'loss': 0.6086, 'learning_rate': 4.545454545454546e-05, 'epoch': 15.0}\n",
      "{'loss': 0.6014, 'learning_rate': 4.454545454545455e-05, 'epoch': 15.5}\n",
      "{'loss': 0.5575, 'learning_rate': 4.3636363636363636e-05, 'epoch': 16.0}\n",
      "{'loss': 0.5756, 'learning_rate': 4.2727272727272724e-05, 'epoch': 16.5}\n",
      "{'loss': 0.538, 'learning_rate': 4.181818181818182e-05, 'epoch': 17.0}\n",
      "{'loss': 0.5484, 'learning_rate': 4.0909090909090915e-05, 'epoch': 17.5}\n",
      "{'loss': 0.5343, 'learning_rate': 4e-05, 'epoch': 18.0}\n",
      "{'loss': 0.5199, 'learning_rate': 3.909090909090909e-05, 'epoch': 18.5}\n",
      "{'loss': 0.4831, 'learning_rate': 3.818181818181819e-05, 'epoch': 19.0}\n",
      "{'loss': 0.4695, 'learning_rate': 3.7272727272727276e-05, 'epoch': 19.5}\n",
      "{'loss': 0.4715, 'learning_rate': 3.6363636363636364e-05, 'epoch': 20.0}\n",
      "{'loss': 0.4853, 'learning_rate': 3.545454545454546e-05, 'epoch': 20.5}\n",
      "{'loss': 0.3725, 'learning_rate': 3.454545454545455e-05, 'epoch': 21.0}\n",
      "{'loss': 0.4566, 'learning_rate': 3.3636363636363636e-05, 'epoch': 21.5}\n",
      "{'loss': 0.3857, 'learning_rate': 3.272727272727273e-05, 'epoch': 22.0}\n",
      "{'loss': 0.3792, 'learning_rate': 3.181818181818182e-05, 'epoch': 22.5}\n",
      "{'loss': 0.3831, 'learning_rate': 3.090909090909091e-05, 'epoch': 23.0}\n",
      "{'loss': 0.3662, 'learning_rate': 3e-05, 'epoch': 23.5}\n",
      "{'loss': 0.349, 'learning_rate': 2.909090909090909e-05, 'epoch': 24.0}\n",
      "{'loss': 0.3346, 'learning_rate': 2.818181818181818e-05, 'epoch': 24.5}\n",
      "{'loss': 0.3254, 'learning_rate': 2.7272727272727273e-05, 'epoch': 25.0}\n",
      "{'loss': 0.3066, 'learning_rate': 2.636363636363636e-05, 'epoch': 25.5}\n",
      "{'loss': 0.3301, 'learning_rate': 2.5454545454545454e-05, 'epoch': 26.0}\n",
      "{'loss': 0.2824, 'learning_rate': 2.4545454545454545e-05, 'epoch': 26.5}\n",
      "{'loss': 0.3197, 'learning_rate': 2.3636363636363637e-05, 'epoch': 27.0}\n",
      "{'loss': 0.2564, 'learning_rate': 2.272727272727273e-05, 'epoch': 27.5}\n",
      "{'loss': 0.3038, 'learning_rate': 2.1818181818181818e-05, 'epoch': 28.0}\n",
      "{'loss': 0.2756, 'learning_rate': 2.090909090909091e-05, 'epoch': 28.5}\n",
      "{'loss': 0.2688, 'learning_rate': 2e-05, 'epoch': 29.0}\n",
      "{'loss': 0.2319, 'learning_rate': 1.9090909090909094e-05, 'epoch': 29.5}\n",
      "{'loss': 0.2925, 'learning_rate': 1.8181818181818182e-05, 'epoch': 30.0}\n",
      "{'loss': 0.2975, 'learning_rate': 1.7272727272727274e-05, 'epoch': 30.5}\n",
      "{'loss': 0.2374, 'learning_rate': 1.6363636363636366e-05, 'epoch': 31.0}\n",
      "{'loss': 0.2224, 'learning_rate': 1.5454545454545454e-05, 'epoch': 31.5}\n",
      "{'loss': 0.2831, 'learning_rate': 1.4545454545454545e-05, 'epoch': 32.0}\n",
      "{'loss': 0.2461, 'learning_rate': 1.3636363636363637e-05, 'epoch': 32.5}\n",
      "{'loss': 0.2614, 'learning_rate': 1.2727272727272727e-05, 'epoch': 33.0}\n",
      "{'loss': 0.242, 'learning_rate': 1.1818181818181819e-05, 'epoch': 33.5}\n",
      "{'loss': 0.2446, 'learning_rate': 1.0909090909090909e-05, 'epoch': 34.0}\n",
      "{'loss': 0.257, 'learning_rate': 1e-05, 'epoch': 34.5}\n",
      "{'loss': 0.2223, 'learning_rate': 9.090909090909091e-06, 'epoch': 35.0}\n",
      "{'loss': 0.2679, 'learning_rate': 8.181818181818183e-06, 'epoch': 35.5}\n",
      "{'loss': 0.1998, 'learning_rate': 7.272727272727272e-06, 'epoch': 36.0}\n",
      "{'loss': 0.2667, 'learning_rate': 6.363636363636363e-06, 'epoch': 36.5}\n",
      "{'loss': 0.1704, 'learning_rate': 5.4545454545454545e-06, 'epoch': 37.0}\n",
      "{'loss': 0.2506, 'learning_rate': 4.5454545454545455e-06, 'epoch': 37.5}\n",
      "{'loss': 0.2104, 'learning_rate': 3.636363636363636e-06, 'epoch': 38.0}\n",
      "{'loss': 0.25, 'learning_rate': 2.7272727272727272e-06, 'epoch': 38.5}\n",
      "{'loss': 0.1858, 'learning_rate': 1.818181818181818e-06, 'epoch': 39.0}\n",
      "{'loss': 0.225, 'learning_rate': 9.09090909090909e-07, 'epoch': 39.5}\n",
      "{'loss': 0.2317, 'learning_rate': 0.0, 'epoch': 40.0}\n",
      "{'train_runtime': 439.0152, 'train_samples_per_second': 5.193, 'train_steps_per_second': 0.182, 'train_loss': 0.46175961922854186, 'epoch': 40.0}\n",
      "Fitting model using fold 2 as out of fold data.\n"
     ]
    },
    {
     "name": "stderr",
     "output_type": "stream",
     "text": [
      "Some weights of the model checkpoint at kiddothe2b/longformer-mini-1024 were not used when initializing LongformerForSequenceClassification: ['lm_head.layer_norm.weight', 'lm_head.dense.bias', 'lm_head.layer_norm.bias', 'lm_head.decoder.weight', 'lm_head.bias', 'longformer.embeddings.position_ids', 'lm_head.dense.weight', 'lm_head.decoder.bias']\n",
      "- This IS expected if you are initializing LongformerForSequenceClassification from the checkpoint of a model trained on another task or with another architecture (e.g. initializing a BertForSequenceClassification model from a BertForPreTraining model).\n",
      "- This IS NOT expected if you are initializing LongformerForSequenceClassification from the checkpoint of a model that you expect to be exactly identical (initializing a BertForSequenceClassification model from a BertForSequenceClassification model).\n",
      "Some weights of LongformerForSequenceClassification were not initialized from the model checkpoint at kiddothe2b/longformer-mini-1024 and are newly initialized: ['classifier.dense.weight', 'classifier.dense.bias', 'classifier.out_proj.weight', 'classifier.out_proj.bias']\n",
      "You should probably TRAIN this model on a down-stream task to be able to use it for predictions and inference.\n"
     ]
    },
    {
     "data": {
      "application/vnd.jupyter.widget-view+json": {
       "model_id": "",
       "version_major": 2,
       "version_minor": 0
      },
      "text/plain": [
       "Map:   0%|          | 0/57 [00:00<?, ? examples/s]"
      ]
     },
     "metadata": {},
     "output_type": "display_data"
    },
    {
     "data": {
      "application/vnd.jupyter.widget-view+json": {
       "model_id": "",
       "version_major": 2,
       "version_minor": 0
      },
      "text/plain": [
       "Map:   0%|          | 0/15 [00:00<?, ? examples/s]"
      ]
     },
     "metadata": {},
     "output_type": "display_data"
    },
    {
     "name": "stdout",
     "output_type": "stream",
     "text": [
      "{'loss': 0.6959, 'learning_rate': 2.0000000000000003e-06, 'epoch': 0.5}\n",
      "{'loss': 0.6989, 'learning_rate': 4.000000000000001e-06, 'epoch': 1.0}\n",
      "{'loss': 0.6934, 'learning_rate': 6e-06, 'epoch': 1.5}\n",
      "{'loss': 0.6999, 'learning_rate': 8.000000000000001e-06, 'epoch': 2.0}\n",
      "{'loss': 0.6943, 'learning_rate': 1e-05, 'epoch': 2.5}\n",
      "{'loss': 0.7099, 'learning_rate': 1.2e-05, 'epoch': 3.0}\n",
      "{'loss': 0.7047, 'learning_rate': 1.4000000000000001e-05, 'epoch': 3.5}\n",
      "{'loss': 0.6849, 'learning_rate': 1.6000000000000003e-05, 'epoch': 4.0}\n",
      "{'loss': 0.6989, 'learning_rate': 1.8e-05, 'epoch': 4.5}\n",
      "{'loss': 0.6854, 'learning_rate': 2e-05, 'epoch': 5.0}\n",
      "{'loss': 0.6881, 'learning_rate': 2.2000000000000003e-05, 'epoch': 5.5}\n",
      "{'loss': 0.6881, 'learning_rate': 2.4e-05, 'epoch': 6.0}\n",
      "{'loss': 0.6927, 'learning_rate': 2.6000000000000002e-05, 'epoch': 6.5}\n",
      "{'loss': 0.6834, 'learning_rate': 2.8000000000000003e-05, 'epoch': 7.0}\n",
      "{'loss': 0.6811, 'learning_rate': 3e-05, 'epoch': 7.5}\n",
      "{'loss': 0.6799, 'learning_rate': 3.2000000000000005e-05, 'epoch': 8.0}\n",
      "{'loss': 0.6833, 'learning_rate': 3.4000000000000007e-05, 'epoch': 8.5}\n",
      "{'loss': 0.663, 'learning_rate': 3.6e-05, 'epoch': 9.0}\n",
      "{'loss': 0.6545, 'learning_rate': 3.8e-05, 'epoch': 9.5}\n",
      "{'loss': 0.6695, 'learning_rate': 4e-05, 'epoch': 10.0}\n",
      "{'loss': 0.6733, 'learning_rate': 4.2e-05, 'epoch': 10.5}\n",
      "{'loss': 0.6363, 'learning_rate': 4.4000000000000006e-05, 'epoch': 11.0}\n",
      "{'loss': 0.6626, 'learning_rate': 4.600000000000001e-05, 'epoch': 11.5}\n",
      "{'loss': 0.6187, 'learning_rate': 4.8e-05, 'epoch': 12.0}\n",
      "{'loss': 0.6342, 'learning_rate': 5e-05, 'epoch': 12.5}\n",
      "{'loss': 0.6173, 'learning_rate': 4.909090909090909e-05, 'epoch': 13.0}\n",
      "{'loss': 0.6207, 'learning_rate': 4.8181818181818186e-05, 'epoch': 13.5}\n",
      "{'loss': 0.6162, 'learning_rate': 4.7272727272727275e-05, 'epoch': 14.0}\n",
      "{'loss': 0.5881, 'learning_rate': 4.636363636363636e-05, 'epoch': 14.5}\n",
      "{'loss': 0.586, 'learning_rate': 4.545454545454546e-05, 'epoch': 15.0}\n",
      "{'loss': 0.5995, 'learning_rate': 4.454545454545455e-05, 'epoch': 15.5}\n",
      "{'loss': 0.5246, 'learning_rate': 4.3636363636363636e-05, 'epoch': 16.0}\n",
      "{'loss': 0.5676, 'learning_rate': 4.2727272727272724e-05, 'epoch': 16.5}\n",
      "{'loss': 0.5159, 'learning_rate': 4.181818181818182e-05, 'epoch': 17.0}\n",
      "{'loss': 0.5176, 'learning_rate': 4.0909090909090915e-05, 'epoch': 17.5}\n",
      "{'loss': 0.5202, 'learning_rate': 4e-05, 'epoch': 18.0}\n",
      "{'loss': 0.4811, 'learning_rate': 3.909090909090909e-05, 'epoch': 18.5}\n",
      "{'loss': 0.4717, 'learning_rate': 3.818181818181819e-05, 'epoch': 19.0}\n",
      "{'loss': 0.4611, 'learning_rate': 3.7272727272727276e-05, 'epoch': 19.5}\n",
      "{'loss': 0.4344, 'learning_rate': 3.6363636363636364e-05, 'epoch': 20.0}\n",
      "{'loss': 0.4524, 'learning_rate': 3.545454545454546e-05, 'epoch': 20.5}\n",
      "{'loss': 0.3649, 'learning_rate': 3.454545454545455e-05, 'epoch': 21.0}\n",
      "{'loss': 0.4631, 'learning_rate': 3.3636363636363636e-05, 'epoch': 21.5}\n",
      "{'loss': 0.3161, 'learning_rate': 3.272727272727273e-05, 'epoch': 22.0}\n",
      "{'loss': 0.3622, 'learning_rate': 3.181818181818182e-05, 'epoch': 22.5}\n",
      "{'loss': 0.3481, 'learning_rate': 3.090909090909091e-05, 'epoch': 23.0}\n",
      "{'loss': 0.3397, 'learning_rate': 3e-05, 'epoch': 23.5}\n",
      "{'loss': 0.3117, 'learning_rate': 2.909090909090909e-05, 'epoch': 24.0}\n",
      "{'loss': 0.2832, 'learning_rate': 2.818181818181818e-05, 'epoch': 24.5}\n",
      "{'loss': 0.3629, 'learning_rate': 2.7272727272727273e-05, 'epoch': 25.0}\n",
      "{'loss': 0.3072, 'learning_rate': 2.636363636363636e-05, 'epoch': 25.5}\n",
      "{'loss': 0.2778, 'learning_rate': 2.5454545454545454e-05, 'epoch': 26.0}\n",
      "{'loss': 0.2493, 'learning_rate': 2.4545454545454545e-05, 'epoch': 26.5}\n",
      "{'loss': 0.3134, 'learning_rate': 2.3636363636363637e-05, 'epoch': 27.0}\n",
      "{'loss': 0.2696, 'learning_rate': 2.272727272727273e-05, 'epoch': 27.5}\n",
      "{'loss': 0.2346, 'learning_rate': 2.1818181818181818e-05, 'epoch': 28.0}\n",
      "{'loss': 0.2291, 'learning_rate': 2.090909090909091e-05, 'epoch': 28.5}\n",
      "{'loss': 0.2945, 'learning_rate': 2e-05, 'epoch': 29.0}\n",
      "{'loss': 0.205, 'learning_rate': 1.9090909090909094e-05, 'epoch': 29.5}\n",
      "{'loss': 0.2643, 'learning_rate': 1.8181818181818182e-05, 'epoch': 30.0}\n",
      "{'loss': 0.2607, 'learning_rate': 1.7272727272727274e-05, 'epoch': 30.5}\n",
      "{'loss': 0.2035, 'learning_rate': 1.6363636363636366e-05, 'epoch': 31.0}\n",
      "{'loss': 0.196, 'learning_rate': 1.5454545454545454e-05, 'epoch': 31.5}\n",
      "{'loss': 0.2623, 'learning_rate': 1.4545454545454545e-05, 'epoch': 32.0}\n",
      "{'loss': 0.1405, 'learning_rate': 1.3636363636363637e-05, 'epoch': 32.5}\n",
      "{'loss': 0.3349, 'learning_rate': 1.2727272727272727e-05, 'epoch': 33.0}\n",
      "{'loss': 0.1793, 'learning_rate': 1.1818181818181819e-05, 'epoch': 33.5}\n",
      "{'loss': 0.2657, 'learning_rate': 1.0909090909090909e-05, 'epoch': 34.0}\n",
      "{'loss': 0.1863, 'learning_rate': 1e-05, 'epoch': 34.5}\n",
      "{'loss': 0.2408, 'learning_rate': 9.090909090909091e-06, 'epoch': 35.0}\n",
      "{'loss': 0.2224, 'learning_rate': 8.181818181818183e-06, 'epoch': 35.5}\n",
      "{'loss': 0.1963, 'learning_rate': 7.272727272727272e-06, 'epoch': 36.0}\n",
      "{'loss': 0.2272, 'learning_rate': 6.363636363636363e-06, 'epoch': 36.5}\n",
      "{'loss': 0.1723, 'learning_rate': 5.4545454545454545e-06, 'epoch': 37.0}\n",
      "{'loss': 0.185, 'learning_rate': 4.5454545454545455e-06, 'epoch': 37.5}\n",
      "{'loss': 0.238, 'learning_rate': 3.636363636363636e-06, 'epoch': 38.0}\n",
      "{'loss': 0.218, 'learning_rate': 2.7272727272727272e-06, 'epoch': 38.5}\n",
      "{'loss': 0.1767, 'learning_rate': 1.818181818181818e-06, 'epoch': 39.0}\n",
      "{'loss': 0.1764, 'learning_rate': 9.09090909090909e-07, 'epoch': 39.5}\n",
      "{'loss': 0.2183, 'learning_rate': 0.0, 'epoch': 40.0}\n",
      "{'train_runtime': 401.9285, 'train_samples_per_second': 5.673, 'train_steps_per_second': 0.199, 'train_loss': 0.44557872172445057, 'epoch': 40.0}\n",
      "Fitting model using fold 3 as out of fold data.\n"
     ]
    },
    {
     "name": "stderr",
     "output_type": "stream",
     "text": [
      "Some weights of the model checkpoint at kiddothe2b/longformer-mini-1024 were not used when initializing LongformerForSequenceClassification: ['lm_head.layer_norm.weight', 'lm_head.dense.bias', 'lm_head.layer_norm.bias', 'lm_head.decoder.weight', 'lm_head.bias', 'longformer.embeddings.position_ids', 'lm_head.dense.weight', 'lm_head.decoder.bias']\n",
      "- This IS expected if you are initializing LongformerForSequenceClassification from the checkpoint of a model trained on another task or with another architecture (e.g. initializing a BertForSequenceClassification model from a BertForPreTraining model).\n",
      "- This IS NOT expected if you are initializing LongformerForSequenceClassification from the checkpoint of a model that you expect to be exactly identical (initializing a BertForSequenceClassification model from a BertForSequenceClassification model).\n",
      "Some weights of LongformerForSequenceClassification were not initialized from the model checkpoint at kiddothe2b/longformer-mini-1024 and are newly initialized: ['classifier.dense.weight', 'classifier.dense.bias', 'classifier.out_proj.weight', 'classifier.out_proj.bias']\n",
      "You should probably TRAIN this model on a down-stream task to be able to use it for predictions and inference.\n"
     ]
    },
    {
     "data": {
      "application/vnd.jupyter.widget-view+json": {
       "model_id": "",
       "version_major": 2,
       "version_minor": 0
      },
      "text/plain": [
       "Map:   0%|          | 0/61 [00:00<?, ? examples/s]"
      ]
     },
     "metadata": {},
     "output_type": "display_data"
    },
    {
     "data": {
      "application/vnd.jupyter.widget-view+json": {
       "model_id": "",
       "version_major": 2,
       "version_minor": 0
      },
      "text/plain": [
       "Map:   0%|          | 0/11 [00:00<?, ? examples/s]"
      ]
     },
     "metadata": {},
     "output_type": "display_data"
    },
    {
     "name": "stdout",
     "output_type": "stream",
     "text": [
      "{'loss': 0.7011, 'learning_rate': 2.0000000000000003e-06, 'epoch': 0.5}\n",
      "{'loss': 0.6948, 'learning_rate': 4.000000000000001e-06, 'epoch': 1.0}\n",
      "{'loss': 0.6885, 'learning_rate': 6e-06, 'epoch': 1.5}\n",
      "{'loss': 0.7049, 'learning_rate': 8.000000000000001e-06, 'epoch': 2.0}\n",
      "{'loss': 0.6986, 'learning_rate': 1e-05, 'epoch': 2.5}\n",
      "{'loss': 0.6828, 'learning_rate': 1.2e-05, 'epoch': 3.0}\n",
      "{'loss': 0.68, 'learning_rate': 1.4000000000000001e-05, 'epoch': 3.5}\n",
      "{'loss': 0.7018, 'learning_rate': 1.6000000000000003e-05, 'epoch': 4.0}\n",
      "{'loss': 0.681, 'learning_rate': 1.8e-05, 'epoch': 4.5}\n",
      "{'loss': 0.6838, 'learning_rate': 2e-05, 'epoch': 5.0}\n",
      "{'loss': 0.6694, 'learning_rate': 2.2000000000000003e-05, 'epoch': 5.5}\n",
      "{'loss': 0.6962, 'learning_rate': 2.4e-05, 'epoch': 6.0}\n",
      "{'loss': 0.6663, 'learning_rate': 2.6000000000000002e-05, 'epoch': 6.5}\n",
      "{'loss': 0.6851, 'learning_rate': 2.8000000000000003e-05, 'epoch': 7.0}\n",
      "{'loss': 0.6691, 'learning_rate': 3e-05, 'epoch': 7.5}\n",
      "{'loss': 0.6541, 'learning_rate': 3.2000000000000005e-05, 'epoch': 8.0}\n",
      "{'loss': 0.6558, 'learning_rate': 3.4000000000000007e-05, 'epoch': 8.5}\n",
      "{'loss': 0.6703, 'learning_rate': 3.6e-05, 'epoch': 9.0}\n",
      "{'loss': 0.6637, 'learning_rate': 3.8e-05, 'epoch': 9.5}\n",
      "{'loss': 0.6225, 'learning_rate': 4e-05, 'epoch': 10.0}\n",
      "{'loss': 0.6724, 'learning_rate': 4.2e-05, 'epoch': 10.5}\n",
      "{'loss': 0.6158, 'learning_rate': 4.4000000000000006e-05, 'epoch': 11.0}\n",
      "{'loss': 0.6503, 'learning_rate': 4.600000000000001e-05, 'epoch': 11.5}\n",
      "{'loss': 0.6304, 'learning_rate': 4.8e-05, 'epoch': 12.0}\n",
      "{'loss': 0.6339, 'learning_rate': 5e-05, 'epoch': 12.5}\n",
      "{'loss': 0.6126, 'learning_rate': 4.909090909090909e-05, 'epoch': 13.0}\n",
      "{'loss': 0.5675, 'learning_rate': 4.8181818181818186e-05, 'epoch': 13.5}\n",
      "{'loss': 0.6571, 'learning_rate': 4.7272727272727275e-05, 'epoch': 14.0}\n",
      "{'loss': 0.614, 'learning_rate': 4.636363636363636e-05, 'epoch': 14.5}\n",
      "{'loss': 0.5935, 'learning_rate': 4.545454545454546e-05, 'epoch': 15.0}\n",
      "{'loss': 0.5655, 'learning_rate': 4.454545454545455e-05, 'epoch': 15.5}\n",
      "{'loss': 0.5968, 'learning_rate': 4.3636363636363636e-05, 'epoch': 16.0}\n",
      "{'loss': 0.535, 'learning_rate': 4.2727272727272724e-05, 'epoch': 16.5}\n",
      "{'loss': 0.599, 'learning_rate': 4.181818181818182e-05, 'epoch': 17.0}\n",
      "{'loss': 0.5399, 'learning_rate': 4.0909090909090915e-05, 'epoch': 17.5}\n",
      "{'loss': 0.5478, 'learning_rate': 4e-05, 'epoch': 18.0}\n",
      "{'loss': 0.5164, 'learning_rate': 3.909090909090909e-05, 'epoch': 18.5}\n",
      "{'loss': 0.5162, 'learning_rate': 3.818181818181819e-05, 'epoch': 19.0}\n",
      "{'loss': 0.4656, 'learning_rate': 3.7272727272727276e-05, 'epoch': 19.5}\n",
      "{'loss': 0.4949, 'learning_rate': 3.6363636363636364e-05, 'epoch': 20.0}\n",
      "{'loss': 0.4443, 'learning_rate': 3.545454545454546e-05, 'epoch': 20.5}\n",
      "{'loss': 0.4406, 'learning_rate': 3.454545454545455e-05, 'epoch': 21.0}\n",
      "{'loss': 0.4685, 'learning_rate': 3.3636363636363636e-05, 'epoch': 21.5}\n",
      "{'loss': 0.3765, 'learning_rate': 3.272727272727273e-05, 'epoch': 22.0}\n",
      "{'loss': 0.3929, 'learning_rate': 3.181818181818182e-05, 'epoch': 22.5}\n",
      "{'loss': 0.3812, 'learning_rate': 3.090909090909091e-05, 'epoch': 23.0}\n",
      "{'loss': 0.4011, 'learning_rate': 3e-05, 'epoch': 23.5}\n",
      "{'loss': 0.3263, 'learning_rate': 2.909090909090909e-05, 'epoch': 24.0}\n",
      "{'loss': 0.335, 'learning_rate': 2.818181818181818e-05, 'epoch': 24.5}\n",
      "{'loss': 0.3522, 'learning_rate': 2.7272727272727273e-05, 'epoch': 25.0}\n",
      "{'loss': 0.2787, 'learning_rate': 2.636363636363636e-05, 'epoch': 25.5}\n",
      "{'loss': 0.3697, 'learning_rate': 2.5454545454545454e-05, 'epoch': 26.0}\n",
      "{'loss': 0.3485, 'learning_rate': 2.4545454545454545e-05, 'epoch': 26.5}\n",
      "{'loss': 0.2483, 'learning_rate': 2.3636363636363637e-05, 'epoch': 27.0}\n",
      "{'loss': 0.3283, 'learning_rate': 2.272727272727273e-05, 'epoch': 27.5}\n",
      "{'loss': 0.2267, 'learning_rate': 2.1818181818181818e-05, 'epoch': 28.0}\n",
      "{'loss': 0.2695, 'learning_rate': 2.090909090909091e-05, 'epoch': 28.5}\n",
      "{'loss': 0.2579, 'learning_rate': 2e-05, 'epoch': 29.0}\n",
      "{'loss': 0.2563, 'learning_rate': 1.9090909090909094e-05, 'epoch': 29.5}\n",
      "{'loss': 0.2503, 'learning_rate': 1.8181818181818182e-05, 'epoch': 30.0}\n",
      "{'loss': 0.1902, 'learning_rate': 1.7272727272727274e-05, 'epoch': 30.5}\n",
      "{'loss': 0.3088, 'learning_rate': 1.6363636363636366e-05, 'epoch': 31.0}\n",
      "{'loss': 0.2237, 'learning_rate': 1.5454545454545454e-05, 'epoch': 31.5}\n",
      "{'loss': 0.2225, 'learning_rate': 1.4545454545454545e-05, 'epoch': 32.0}\n",
      "{'loss': 0.2196, 'learning_rate': 1.3636363636363637e-05, 'epoch': 32.5}\n",
      "{'loss': 0.2225, 'learning_rate': 1.2727272727272727e-05, 'epoch': 33.0}\n",
      "{'loss': 0.2128, 'learning_rate': 1.1818181818181819e-05, 'epoch': 33.5}\n",
      "{'loss': 0.2173, 'learning_rate': 1.0909090909090909e-05, 'epoch': 34.0}\n",
      "{'loss': 0.2131, 'learning_rate': 1e-05, 'epoch': 34.5}\n",
      "{'loss': 0.2113, 'learning_rate': 9.090909090909091e-06, 'epoch': 35.0}\n",
      "{'loss': 0.2651, 'learning_rate': 8.181818181818183e-06, 'epoch': 35.5}\n",
      "{'loss': 0.1456, 'learning_rate': 7.272727272727272e-06, 'epoch': 36.0}\n",
      "{'loss': 0.2073, 'learning_rate': 6.363636363636363e-06, 'epoch': 36.5}\n",
      "{'loss': 0.2047, 'learning_rate': 5.4545454545454545e-06, 'epoch': 37.0}\n",
      "{'loss': 0.1952, 'learning_rate': 4.5454545454545455e-06, 'epoch': 37.5}\n",
      "{'loss': 0.2072, 'learning_rate': 3.636363636363636e-06, 'epoch': 38.0}\n",
      "{'loss': 0.2513, 'learning_rate': 2.7272727272727272e-06, 'epoch': 38.5}\n",
      "{'loss': 0.1386, 'learning_rate': 1.818181818181818e-06, 'epoch': 39.0}\n",
      "{'loss': 0.1937, 'learning_rate': 9.09090909090909e-07, 'epoch': 39.5}\n",
      "{'loss': 0.2061, 'learning_rate': 0.0, 'epoch': 40.0}\n",
      "{'train_runtime': 418.8537, 'train_samples_per_second': 5.825, 'train_steps_per_second': 0.191, 'train_loss': 0.4525442158803344, 'epoch': 40.0}\n",
      "Fitting model using fold 4 as out of fold data.\n"
     ]
    },
    {
     "name": "stderr",
     "output_type": "stream",
     "text": [
      "Some weights of the model checkpoint at kiddothe2b/longformer-mini-1024 were not used when initializing LongformerForSequenceClassification: ['lm_head.layer_norm.weight', 'lm_head.dense.bias', 'lm_head.layer_norm.bias', 'lm_head.decoder.weight', 'lm_head.bias', 'longformer.embeddings.position_ids', 'lm_head.dense.weight', 'lm_head.decoder.bias']\n",
      "- This IS expected if you are initializing LongformerForSequenceClassification from the checkpoint of a model trained on another task or with another architecture (e.g. initializing a BertForSequenceClassification model from a BertForPreTraining model).\n",
      "- This IS NOT expected if you are initializing LongformerForSequenceClassification from the checkpoint of a model that you expect to be exactly identical (initializing a BertForSequenceClassification model from a BertForSequenceClassification model).\n",
      "Some weights of LongformerForSequenceClassification were not initialized from the model checkpoint at kiddothe2b/longformer-mini-1024 and are newly initialized: ['classifier.dense.weight', 'classifier.dense.bias', 'classifier.out_proj.weight', 'classifier.out_proj.bias']\n",
      "You should probably TRAIN this model on a down-stream task to be able to use it for predictions and inference.\n"
     ]
    },
    {
     "data": {
      "application/vnd.jupyter.widget-view+json": {
       "model_id": "",
       "version_major": 2,
       "version_minor": 0
      },
      "text/plain": [
       "Map:   0%|          | 0/59 [00:00<?, ? examples/s]"
      ]
     },
     "metadata": {},
     "output_type": "display_data"
    },
    {
     "data": {
      "application/vnd.jupyter.widget-view+json": {
       "model_id": "",
       "version_major": 2,
       "version_minor": 0
      },
      "text/plain": [
       "Map:   0%|          | 0/13 [00:00<?, ? examples/s]"
      ]
     },
     "metadata": {},
     "output_type": "display_data"
    },
    {
     "name": "stdout",
     "output_type": "stream",
     "text": [
      "{'loss': 0.702, 'learning_rate': 2.0000000000000003e-06, 'epoch': 0.5}\n",
      "{'loss': 0.6958, 'learning_rate': 4.000000000000001e-06, 'epoch': 1.0}\n",
      "{'loss': 0.7138, 'learning_rate': 6e-06, 'epoch': 1.5}\n",
      "{'loss': 0.6876, 'learning_rate': 8.000000000000001e-06, 'epoch': 2.0}\n",
      "{'loss': 0.6917, 'learning_rate': 1e-05, 'epoch': 2.5}\n",
      "{'loss': 0.7057, 'learning_rate': 1.2e-05, 'epoch': 3.0}\n",
      "{'loss': 0.6992, 'learning_rate': 1.4000000000000001e-05, 'epoch': 3.5}\n",
      "{'loss': 0.6955, 'learning_rate': 1.6000000000000003e-05, 'epoch': 4.0}\n",
      "{'loss': 0.6845, 'learning_rate': 1.8e-05, 'epoch': 4.5}\n",
      "{'loss': 0.7019, 'learning_rate': 2e-05, 'epoch': 5.0}\n",
      "{'loss': 0.6813, 'learning_rate': 2.2000000000000003e-05, 'epoch': 5.5}\n",
      "{'loss': 0.6888, 'learning_rate': 2.4e-05, 'epoch': 6.0}\n",
      "{'loss': 0.7075, 'learning_rate': 2.6000000000000002e-05, 'epoch': 6.5}\n",
      "{'loss': 0.6728, 'learning_rate': 2.8000000000000003e-05, 'epoch': 7.0}\n",
      "{'loss': 0.6677, 'learning_rate': 3e-05, 'epoch': 7.5}\n",
      "{'loss': 0.6866, 'learning_rate': 3.2000000000000005e-05, 'epoch': 8.0}\n",
      "{'loss': 0.6765, 'learning_rate': 3.4000000000000007e-05, 'epoch': 8.5}\n",
      "{'loss': 0.6827, 'learning_rate': 3.6e-05, 'epoch': 9.0}\n",
      "{'loss': 0.6777, 'learning_rate': 3.8e-05, 'epoch': 9.5}\n",
      "{'loss': 0.6705, 'learning_rate': 4e-05, 'epoch': 10.0}\n",
      "{'loss': 0.6555, 'learning_rate': 4.2e-05, 'epoch': 10.5}\n",
      "{'loss': 0.6733, 'learning_rate': 4.4000000000000006e-05, 'epoch': 11.0}\n",
      "{'loss': 0.6393, 'learning_rate': 4.600000000000001e-05, 'epoch': 11.5}\n",
      "{'loss': 0.671, 'learning_rate': 4.8e-05, 'epoch': 12.0}\n",
      "{'loss': 0.65, 'learning_rate': 5e-05, 'epoch': 12.5}\n",
      "{'loss': 0.6386, 'learning_rate': 4.909090909090909e-05, 'epoch': 13.0}\n",
      "{'loss': 0.6176, 'learning_rate': 4.8181818181818186e-05, 'epoch': 13.5}\n",
      "{'loss': 0.6505, 'learning_rate': 4.7272727272727275e-05, 'epoch': 14.0}\n",
      "{'loss': 0.5741, 'learning_rate': 4.636363636363636e-05, 'epoch': 14.5}\n",
      "{'loss': 0.6486, 'learning_rate': 4.545454545454546e-05, 'epoch': 15.0}\n",
      "{'loss': 0.6134, 'learning_rate': 4.454545454545455e-05, 'epoch': 15.5}\n",
      "{'loss': 0.567, 'learning_rate': 4.3636363636363636e-05, 'epoch': 16.0}\n",
      "{'loss': 0.5676, 'learning_rate': 4.2727272727272724e-05, 'epoch': 16.5}\n",
      "{'loss': 0.5572, 'learning_rate': 4.181818181818182e-05, 'epoch': 17.0}\n",
      "{'loss': 0.5294, 'learning_rate': 4.0909090909090915e-05, 'epoch': 17.5}\n",
      "{'loss': 0.5591, 'learning_rate': 4e-05, 'epoch': 18.0}\n",
      "{'loss': 0.5002, 'learning_rate': 3.909090909090909e-05, 'epoch': 18.5}\n",
      "{'loss': 0.5087, 'learning_rate': 3.818181818181819e-05, 'epoch': 19.0}\n",
      "{'loss': 0.4999, 'learning_rate': 3.7272727272727276e-05, 'epoch': 19.5}\n",
      "{'loss': 0.4547, 'learning_rate': 3.6363636363636364e-05, 'epoch': 20.0}\n",
      "{'loss': 0.4546, 'learning_rate': 3.545454545454546e-05, 'epoch': 20.5}\n",
      "{'loss': 0.4628, 'learning_rate': 3.454545454545455e-05, 'epoch': 21.0}\n",
      "{'loss': 0.4211, 'learning_rate': 3.3636363636363636e-05, 'epoch': 21.5}\n",
      "{'loss': 0.4279, 'learning_rate': 3.272727272727273e-05, 'epoch': 22.0}\n",
      "{'loss': 0.3768, 'learning_rate': 3.181818181818182e-05, 'epoch': 22.5}\n",
      "{'loss': 0.45, 'learning_rate': 3.090909090909091e-05, 'epoch': 23.0}\n",
      "{'loss': 0.4073, 'learning_rate': 3e-05, 'epoch': 23.5}\n",
      "{'loss': 0.348, 'learning_rate': 2.909090909090909e-05, 'epoch': 24.0}\n",
      "{'loss': 0.332, 'learning_rate': 2.818181818181818e-05, 'epoch': 24.5}\n",
      "{'loss': 0.3564, 'learning_rate': 2.7272727272727273e-05, 'epoch': 25.0}\n",
      "{'loss': 0.3298, 'learning_rate': 2.636363636363636e-05, 'epoch': 25.5}\n",
      "{'loss': 0.3491, 'learning_rate': 2.5454545454545454e-05, 'epoch': 26.0}\n",
      "{'loss': 0.2855, 'learning_rate': 2.4545454545454545e-05, 'epoch': 26.5}\n",
      "{'loss': 0.3571, 'learning_rate': 2.3636363636363637e-05, 'epoch': 27.0}\n",
      "{'loss': 0.289, 'learning_rate': 2.272727272727273e-05, 'epoch': 27.5}\n",
      "{'loss': 0.3056, 'learning_rate': 2.1818181818181818e-05, 'epoch': 28.0}\n",
      "{'loss': 0.233, 'learning_rate': 2.090909090909091e-05, 'epoch': 28.5}\n",
      "{'loss': 0.3496, 'learning_rate': 2e-05, 'epoch': 29.0}\n",
      "{'loss': 0.2431, 'learning_rate': 1.9090909090909094e-05, 'epoch': 29.5}\n",
      "{'loss': 0.3116, 'learning_rate': 1.8181818181818182e-05, 'epoch': 30.0}\n",
      "{'loss': 0.3292, 'learning_rate': 1.7272727272727274e-05, 'epoch': 30.5}\n",
      "{'loss': 0.1988, 'learning_rate': 1.6363636363636366e-05, 'epoch': 31.0}\n",
      "{'loss': 0.292, 'learning_rate': 1.5454545454545454e-05, 'epoch': 31.5}\n",
      "{'loss': 0.2436, 'learning_rate': 1.4545454545454545e-05, 'epoch': 32.0}\n",
      "{'loss': 0.2348, 'learning_rate': 1.3636363636363637e-05, 'epoch': 32.5}\n",
      "{'loss': 0.2847, 'learning_rate': 1.2727272727272727e-05, 'epoch': 33.0}\n",
      "{'loss': 0.3295, 'learning_rate': 1.1818181818181819e-05, 'epoch': 33.5}\n",
      "{'loss': 0.1603, 'learning_rate': 1.0909090909090909e-05, 'epoch': 34.0}\n",
      "{'loss': 0.2536, 'learning_rate': 1e-05, 'epoch': 34.5}\n",
      "{'loss': 0.245, 'learning_rate': 9.090909090909091e-06, 'epoch': 35.0}\n",
      "{'loss': 0.2488, 'learning_rate': 8.181818181818183e-06, 'epoch': 35.5}\n",
      "{'loss': 0.2603, 'learning_rate': 7.272727272727272e-06, 'epoch': 36.0}\n",
      "{'loss': 0.3084, 'learning_rate': 6.363636363636363e-06, 'epoch': 36.5}\n",
      "{'loss': 0.1642, 'learning_rate': 5.4545454545454545e-06, 'epoch': 37.0}\n",
      "{'loss': 0.26, 'learning_rate': 4.5454545454545455e-06, 'epoch': 37.5}\n",
      "{'loss': 0.2366, 'learning_rate': 3.636363636363636e-06, 'epoch': 38.0}\n",
      "{'loss': 0.2788, 'learning_rate': 2.7272727272727272e-06, 'epoch': 38.5}\n",
      "{'loss': 0.2043, 'learning_rate': 1.818181818181818e-06, 'epoch': 39.0}\n",
      "{'loss': 0.2552, 'learning_rate': 9.09090909090909e-07, 'epoch': 39.5}\n",
      "{'loss': 0.2323, 'learning_rate': 0.0, 'epoch': 40.0}\n",
      "{'train_runtime': 402.1997, 'train_samples_per_second': 5.868, 'train_steps_per_second': 0.199, 'train_loss': 0.4709569372236729, 'epoch': 40.0}\n"
     ]
    }
   ],
   "source": [
    "y_probs, y_trues = [], []\n",
    "for i in range(len(X)):\n",
    "    \n",
    "    print(f\"Fitting model using fold {i} as out of fold data.\")\n",
    "    \n",
    "    # Identify train folds and shuffle samples\n",
    "    X_train, y_train = np.concatenate(X[0:i] + X[i+1:], axis=0), np.concatenate(y[0:i] + y[i+1:], axis=0)\n",
    "    indices = np.arange(len(y_train))\n",
    "    np.random.shuffle(indices)\n",
    "    X_train, y_train = X_train[indices], y_train[indices]\n",
    "    \n",
    "    # Identify test folds\n",
    "    X_test, y_test = X[i], y[i]\n",
    "    \n",
    "    # Format text and label data as HuggingFace dataset\n",
    "    train_dataset = Dataset.from_dict({\"text\": X_train, \"label\": y_train})\n",
    "    test_dataset = Dataset.from_dict({\"text\": X_test, \"label\": y_test})\n",
    "    \n",
    "    # Load model and tokenizer\n",
    "    # This will reset the model weights with each new iteration\n",
    "    tokenizer = AutoTokenizer.from_pretrained(lm_path)\n",
    "    model = AutoModelForSequenceClassification.from_pretrained(\n",
    "        lm_path,\n",
    "        num_labels=2,\n",
    "        return_dict=True,\n",
    "        problem_type=\"single_label_classification\"\n",
    "    )\n",
    "    \n",
    "    # Define function to tokenize text\n",
    "    def tokenize_function(batch):\n",
    "        \n",
    "        return tokenizer(\n",
    "            batch[\"text\"],\n",
    "            padding=\"max_length\",\n",
    "            truncation=True,\n",
    "            max_length=max_seq_len\n",
    "        )\n",
    "    \n",
    "    # Tokenize train dataset\n",
    "    train_dataset = train_dataset.map(\n",
    "        tokenize_function,\n",
    "        batched=True,\n",
    "        remove_columns=[\"text\"],\n",
    "        batch_size=batch_size\n",
    "    )\n",
    "    train_dataset.set_format(\"pt\")\n",
    "    \n",
    "    # Tokenize test dataset\n",
    "    test_dataset = test_dataset.map(\n",
    "        tokenize_function,\n",
    "        batched=True,\n",
    "        remove_columns=[\"text\"],\n",
    "        batch_size=batch_size\n",
    "    )\n",
    "    test_dataset.set_format(\"pt\")\n",
    "    \n",
    "    # Define training arguments\n",
    "    training_args= TrainingArguments(\n",
    "        output_dir=output_dir,\n",
    "        num_train_epochs=epochs,\n",
    "        per_device_train_batch_size=batch_size,\n",
    "        gradient_accumulation_steps=accumulation_steps,\n",
    "        warmup_steps=warmup_steps,\n",
    "        logging_steps=logging_steps,\n",
    "        weight_decay=weight_decay,\n",
    "        learning_rate=lr,\n",
    "        seed=seed,\n",
    "        adam_beta1=adam_beta1,\n",
    "        adam_beta2=adam_beta2,\n",
    "        adam_epsilon=adam_epsilon,\n",
    "        dataloader_num_workers=num_workers,\n",
    "        fp16=fp16,\n",
    "        logging_strategy=\"steps\",\n",
    "        save_strategy=\"no\",\n",
    "        lr_scheduler_type='linear',\n",
    "        optim=\"adamw_torch\",\n",
    "        run_name='lf',\n",
    "        do_eval=False,\n",
    "        fp16_full_eval=False,\n",
    "        sharded_ddp=False,\n",
    "        gradient_checkpointing=True,\n",
    "        load_best_model_at_end=True,\n",
    "        prediction_loss_only=False,\n",
    "        disable_tqdm=True,\n",
    "        logging_dir=None,\n",
    "    )\n",
    "    \n",
    "    # Define model training\n",
    "    trainer = Trainer(\n",
    "        model=model,\n",
    "        args=training_args,\n",
    "        train_dataset=train_dataset\n",
    "    )\n",
    "    \n",
    "    # Train model\n",
    "    trainer.train()\n",
    "    \n",
    "    # Predict on test dataset\n",
    "    output = trainer.predict(test_dataset)\n",
    "    labels = output.label_ids\n",
    "    y_prob = torch.sigmoid(torch.tensor(output.predictions).double()).numpy()[:, 1]\n",
    "\n",
    "    # Save scores and labels\n",
    "    y_probs.append(y_prob)\n",
    "    y_trues.append(labels)"
   ]
  },
  {
   "cell_type": "markdown",
   "id": "7da93cef",
   "metadata": {},
   "source": [
    "##### Save Model Probabilities on Test Folds and True Labels"
   ]
  },
  {
   "cell_type": "code",
   "execution_count": 9,
   "id": "6bbff8d9",
   "metadata": {},
   "outputs": [],
   "source": [
    "with open('results/lfm_y_trues.pkl', 'wb') as f:\n",
    "    pickle.dump(y_trues, f)\n",
    "\n",
    "with open('results/lfm_y_probs.pkl', 'wb') as f:\n",
    "    pickle.dump(y_probs, f)"
   ]
  },
  {
   "cell_type": "code",
   "execution_count": null,
   "id": "6e4d8469",
   "metadata": {},
   "outputs": [],
   "source": []
  }
 ],
 "metadata": {
  "kernelspec": {
   "display_name": "transcripts",
   "language": "python",
   "name": "transcripts"
  },
  "language_info": {
   "codemirror_mode": {
    "name": "ipython",
    "version": 3
   },
   "file_extension": ".py",
   "mimetype": "text/x-python",
   "name": "python",
   "nbconvert_exporter": "python",
   "pygments_lexer": "ipython3",
   "version": "3.8.16"
  }
 },
 "nbformat": 4,
 "nbformat_minor": 5
}
