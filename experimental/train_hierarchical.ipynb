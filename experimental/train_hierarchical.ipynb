{
 "cells": [
  {
   "cell_type": "markdown",
   "id": "6ea00513",
   "metadata": {},
   "source": [
    "### Train Hierarchical Model\n",
    "\n",
    "- Joel Stremmel\n",
    "- 04-24-23\n",
    "\n",
    "##### About\n",
    "\n",
    "Train a Hierarchical Model on the formatted data using K-Fold Cross-Validation and save the scores."
   ]
  },
  {
   "cell_type": "markdown",
   "id": "9ac2c7a9",
   "metadata": {},
   "source": [
    "##### Imports"
   ]
  },
  {
   "cell_type": "code",
   "execution_count": 1,
   "id": "dd145b3a",
   "metadata": {},
   "outputs": [
    {
     "ename": "ModuleNotFoundError",
     "evalue": "No module named 'pytorch_lightning'",
     "output_type": "error",
     "traceback": [
      "\u001b[0;31m---------------------------------------------------------------------------\u001b[0m",
      "\u001b[0;31mModuleNotFoundError\u001b[0m                       Traceback (most recent call last)",
      "Cell \u001b[0;32mIn[1], line 19\u001b[0m\n\u001b[1;32m     17\u001b[0m \u001b[38;5;28;01mimport\u001b[39;00m \u001b[38;5;21;01mtorch\u001b[39;00m\u001b[38;5;21;01m.\u001b[39;00m\u001b[38;5;21;01mnn\u001b[39;00m \u001b[38;5;28;01mas\u001b[39;00m \u001b[38;5;21;01mnn\u001b[39;00m\n\u001b[1;32m     18\u001b[0m \u001b[38;5;28;01mfrom\u001b[39;00m \u001b[38;5;21;01mtorch\u001b[39;00m\u001b[38;5;21;01m.\u001b[39;00m\u001b[38;5;21;01mutils\u001b[39;00m\u001b[38;5;21;01m.\u001b[39;00m\u001b[38;5;21;01mdata\u001b[39;00m \u001b[38;5;28;01mimport\u001b[39;00m DataLoader, Dataset\n\u001b[0;32m---> 19\u001b[0m \u001b[38;5;28;01mimport\u001b[39;00m \u001b[38;5;21;01mpytorch_lightning\u001b[39;00m \u001b[38;5;28;01mas\u001b[39;00m \u001b[38;5;21;01mpl\u001b[39;00m\n",
      "\u001b[0;31mModuleNotFoundError\u001b[0m: No module named 'pytorch_lightning'"
     ]
    }
   ],
   "source": [
    "import os\n",
    "import re\n",
    "import glob\n",
    "import pickle\n",
    "import torch\n",
    "import numpy as np\n",
    "import pandas as pd\n",
    "from datasets import Dataset\n",
    "from transformers import (\n",
    "    AutoTokenizer,\n",
    "    AutoModel,\n",
    "    Trainer,\n",
    "    TrainingArguments,\n",
    ")\n",
    "\n",
    "import torch\n",
    "import torch.nn as nn\n",
    "from torch.utils.data import DataLoader, Dataset\n",
    "import pytorch_lightning as pl"
   ]
  },
  {
   "cell_type": "markdown",
   "id": "19d89e2d",
   "metadata": {},
   "source": [
    "##### Set Parameters"
   ]
  },
  {
   "cell_type": "code",
   "execution_count": null,
   "id": "ccfa5892",
   "metadata": {},
   "outputs": [],
   "source": [
    "max_utterance_length = 64\n",
    "max_num_utterances = 32\n",
    "batch_size = 32\n",
    "lr = 0.00002\n",
    "epochs = 5\n",
    "early_stopping_patience = 5\n",
    "lm_path = \"roberta-base\"\n",
    "model_key = \"lstmh\"\n",
    "input_dir = \"./data\"\n",
    "results_dir = \"./results\""
   ]
  },
  {
   "cell_type": "markdown",
   "id": "fccb2634",
   "metadata": {},
   "source": [
    "##### Disable Tokenizer Parallelism\n",
    "This is mostly to avoid warnings."
   ]
  },
  {
   "cell_type": "code",
   "execution_count": null,
   "id": "e13a3d5f",
   "metadata": {},
   "outputs": [],
   "source": [
    "os.environ[\"TOKENIZERS_PARALLELISM\"] = \"false\""
   ]
  },
  {
   "cell_type": "markdown",
   "id": "2f78b64c",
   "metadata": {},
   "source": [
    "##### Load Formatted Data"
   ]
  },
  {
   "cell_type": "code",
   "execution_count": null,
   "id": "710a85d0",
   "metadata": {},
   "outputs": [],
   "source": [
    "with open(os.path.join(input_dir, \"X_folds.pkl\"), \"rb\") as f:\n",
    "    X_folds = pickle.load(f)\n",
    "\n",
    "with open(os.path.join(input_dir, \"y_folds.pkl\"), \"rb\") as f:\n",
    "    y_folds = pickle.load(f)"
   ]
  },
  {
   "cell_type": "markdown",
   "id": "5d6b559a",
   "metadata": {},
   "source": [
    "##### Check Data Shape"
   ]
  },
  {
   "cell_type": "code",
   "execution_count": null,
   "id": "bb7c83b6",
   "metadata": {},
   "outputs": [],
   "source": [
    "assert len(X_folds) == len(y_folds), \"Expected the same number of folds in X and y.\"\n",
    "X = list(X_folds.values())\n",
    "y = list(y_folds.values())"
   ]
  },
  {
   "cell_type": "markdown",
   "id": "aac7cd9d",
   "metadata": {},
   "source": [
    "##### Check Target Prevalence"
   ]
  },
  {
   "cell_type": "code",
   "execution_count": null,
   "id": "2164340a",
   "metadata": {},
   "outputs": [],
   "source": [
    "print(f\"Target prevalance: {np.mean(np.concatenate(y))}.\")"
   ]
  },
  {
   "cell_type": "markdown",
   "id": "15ff6576",
   "metadata": {},
   "source": [
    "##### Check that GPU is Available"
   ]
  },
  {
   "cell_type": "code",
   "execution_count": null,
   "id": "617bd083",
   "metadata": {},
   "outputs": [],
   "source": [
    "assert torch.cuda.is_available(), \"Run this script on a GPU.\"\n",
    "print(torch.__version__)"
   ]
  },
  {
   "cell_type": "markdown",
   "id": "fa40526c",
   "metadata": {},
   "source": [
    "##### Load Pretrained Encoder and Tokenizer"
   ]
  },
  {
   "cell_type": "code",
   "execution_count": null,
   "id": "d3c345cf",
   "metadata": {},
   "outputs": [],
   "source": [
    "tokenizer = AutoTokenizer.from_pretrained(lm_path)\n",
    "encoder = AutoModel.from_pretrained(lm_path)"
   ]
  },
  {
   "cell_type": "markdown",
   "id": "85f2951e",
   "metadata": {},
   "source": [
    "##### Tokenize Text and Fit Model to Each Fold"
   ]
  },
  {
   "cell_type": "code",
   "execution_count": null,
   "id": "005edc67",
   "metadata": {},
   "outputs": [],
   "source": [
    "class DocumentDataset(Dataset):\n",
    "    def __init__(self, data, tokenizer, max_length):\n",
    "        self.data = data\n",
    "        self.tokenizer = tokenizer\n",
    "        self.max_length = max_length\n",
    "    \n",
    "    def __len__(self):\n",
    "        return len(self.data)\n",
    "    \n",
    "    def __getitem__(self, idx):\n",
    "        document_segments, label = self.data[idx]\n",
    "        input_ids = []\n",
    "        attention_mask = []\n",
    "        for segment in document_segments:\n",
    "            encoding = self.tokenizer.encode_plus(segment, add_special_tokens=True, max_length=self.max_length, padding='max_length', truncation=True)\n",
    "            input_ids.append(encoding['input_ids'])\n",
    "            attention_mask.append(encoding['attention_mask'])\n",
    "        input_ids = torch.tensor(input_ids)\n",
    "        attention_mask = torch.tensor(attention_mask)\n",
    "        label = torch.tensor(label)\n",
    "        return input_ids, attention_mask, label"
   ]
  },
  {
   "cell_type": "code",
   "execution_count": null,
   "id": "f1a21e90",
   "metadata": {},
   "outputs": [],
   "source": [
    "class HierarchicalLSTM(pl.LightningModule):\n",
    "    def __init__(self, encoder, hidden_size, num_layers, dropout):\n",
    "        super().__init__()\n",
    "        self.encoder = encoder\n",
    "        self.lstm = nn.LSTM(input_size=self.encoder.config.hidden_size, hidden_size=hidden_size, num_layers=num_layers, dropout=dropout, batch_first=True)\n",
    "        self.dropout = nn.Dropout(dropout)\n",
    "        self.fc = nn.Linear(hidden_size, 1)\n",
    "        self.loss_fn = nn.BCEWithLogitsLoss()\n",
    "        \n",
    "    def forward(self, input_ids, attention_mask):\n",
    "        # Get encoder embeddings for each document segment\n",
    "        outputs = self.encoder(input_ids=input_ids, attention_mask=attention_mask)\n",
    "        embeddings = outputs.last_hidden_state\n",
    "        \n",
    "        # Pass embeddings through LSTM\n",
    "        _, (hidden, _) = self.lstm(embeddings)\n",
    "        hidden = self.dropout(hidden[-1]) # take the last layer's hidden state\n",
    "        out = self.fc(hidden)\n",
    "        return out.squeeze(-1)\n",
    "    \n",
    "    def training_step(self, batch, batch_idx):\n",
    "        input_ids, attention_mask, label = batch\n",
    "        logits = self(input_ids, attention_mask)\n",
    "        loss = self.loss_fn(logits, label.float())\n",
    "        self.log('train_loss', loss)\n",
    "        return loss\n",
    "    \n",
    "    def validation_step(self, batch, batch_idx):\n",
    "        input_ids, attention_mask, label = batch\n",
    "        logits = self(input_ids, attention_mask)\n",
    "        loss = self.loss_fn(logits, label.float())\n",
    "        self.log('val_loss', loss, prog_bar=True)\n",
    "        return loss\n",
    "    \n",
    "    def configure_optimizers(self):\n",
    "        optimizer = torch.optim.Adam(self.parameters(), lr=2e-5)\n",
    "        scheduler = torch.optim.lr_scheduler.ReduceLROnPlateau(optimizer, mode='min', factor=0.5, patience=2, verbose=True)\n",
    "        return {'optimizer': optimizer, 'lr_scheduler': scheduler, 'monitor': 'val_loss'}"
   ]
  },
  {
   "cell_type": "code",
   "execution_count": null,
   "id": "ff690330",
   "metadata": {},
   "outputs": [],
   "source": [
    "class HierarchicalLSTMTrainer(pl.LightningModule):\n",
    "    def __init__(self, encoder_name, hidden_size, num_layers, dropout, max_length, train_data, val_data, batch_size=16, num_workers=4):\n",
    "        super().__init__()\n",
    "        self.encoder_name = encoder_name\n",
    "        self.hidden_size = hidden_size\n",
    "        self.num_layers = num_layers\n",
    "        self.dropout = dropout\n",
    "        self.max_length = max_length\n",
    "        self.train_data = train_data\n",
    "        self.val_data = val_data\n",
    "        self.batch_size = batch_size\n",
    "        self.num_workers = num_workers\n",
    "        \n",
    "    def setup(self, stage=None):\n",
    "        self.tokenizer = AutoTokenizer.from_pretrained(self.encoder_name)\n",
    "        self.encoder = AutoModel.from_pretrained(self.encoder_name)\n",
    "        self.train_dataset = DocumentDataset(self.train_data, self.tokenizer, self.max_length)\n",
    "        self.val_dataset = DocumentDataset(self.val_data, self.tokenizer, self.max_length)\n",
    "    \n",
    "    def train_dataloader(self):\n",
    "        return DataLoader(self.train_dataset, batch_size=self.batch_size, num_workers=self.num_workers, shuffle=True)\n",
    "    \n",
    "    def val_dataloader(self):\n",
    "        return DataLoader(self.val_dataset, batch_size=self.batch_size, num_workers=self.num_workers)\n",
    "    \n",
    "    def configure_optimizers(self):\n",
    "        return HierarchicalLSTM(self.encoder, self.hidden_size, self.num_layers, self.dropout)\n",
    "    \n",
    "    def validation_epoch_end(self, outputs):\n",
    "        avg_val_loss = torch.stack([x['val_loss'] for x in outputs]).mean()\n",
    "        self.log('avg_val_loss', avg_val_loss, prog_bar=True)\n",
    "        return {'avg_val_loss': avg_val_loss}"
   ]
  },
  {
   "cell_type": "code",
   "execution_count": null,
   "id": "45cc6d29",
   "metadata": {},
   "outputs": [],
   "source": [
    "y_probs, y_trues = [], []\n",
    "for i in range(len(X)):\n",
    "    \n",
    "    print(f\"Fitting model using fold {i} as out of fold data.\")\n",
    "    \n",
    "    # Identify train folds and shuffle samples\n",
    "    X_train, y_train = np.concatenate(X[0:i] + X[i + 1 :], axis=0), np.concatenate(\n",
    "        y[0:i] + y[i + 1 :], axis=0\n",
    "    )\n",
    "    indices = np.arange(len(y_train))\n",
    "    np.random.shuffle(indices)\n",
    "    X_train, y_train = X_train[indices], y_train[indices]\n",
    "\n",
    "    # Select a validation fold at random\n",
    "    indices_temp = np.arange(len(y_train_temp))\n",
    "    val_index = np.random.choice(indices_temp)\n",
    "    X_val, y_val = X_train_temp[val_index], y_train_temp[val_index]\n",
    "\n",
    "    # Identify the training folds as the indices not including the validation index\n",
    "    # Concatenate all examples in the training folds to form the full training set\n",
    "    X_train = np.concatenate(np.delete(X_train_temp, val_index), axis=0)\n",
    "    y_train = np.concatenate(np.delete(y_train_temp, val_index), axis=0)\n",
    "\n",
    "    # Shuffle training data\n",
    "    indices = np.arange(len(y_train))\n",
    "    np.random.shuffle(indices)\n",
    "    X_train, y_train = X_train[indices], y_train[indices]\n",
    "    \n",
    "    # Print data shapes\n",
    "    print(f\"Train data sizes: {len(X_train), len(y_train)}.\")\n",
    "    print(f\"Val data sizes: {len(X_val), len(y_val)}.\")\n",
    "    print(f\"Test data sizes: {len(X_test), len(y_test)}.\")\n",
    "\n",
    "    # Format text and label data as HuggingFace dataset\n",
    "    train_dataset = DocumentDataset(X_train, y_train)\n",
    "    val_dataset = DocumentDataset(X_val, y_val)\n",
    "    test_dataset = DocumentDataset(X_test, y_test) \n",
    "\n",
    "    train_dataloader = torch.utils.data.DataLoader(train_dataset, batch_size=batch_size, shuffle=True)\n",
    "    val_dataloader = torch.utils.data.DataLoader(val_dataset, batch_size=batch_size, shuffle=True)\n",
    "    test_dataloader = torch.utils.data.DataLoader(test_dataset, batch_size=batch_size, shuffle=True)\n",
    "    \n",
    "    early_stop_callback = EarlyStopping(\n",
    "        monitor='avg_val_loss',\n",
    "        min_delta=0.00,\n",
    "        patience=early_stopping_patience,\n",
    "        verbose=True,\n",
    "        mode='min'\n",
    "    )\n",
    "\n",
    "    trainer = pl.Trainer(\n",
    "        gpus=1,\n",
    "        callbacks=[early_stop_callback],\n",
    "        max_epochs=epochs,\n",
    "    )\n",
    "\n",
    "    model = HierarchicalLSTMTrainer(\n",
    "        encoder_name='roberta-base',\n",
    "        hidden_size=256,\n",
    "        num_layers=2,\n",
    "        dropout=0.1,\n",
    "        max_length=512,\n",
    "        train_data=train_data,\n",
    "        val_data=val_data,\n",
    "        batch_size=16,\n",
    "        num_workers=4\n",
    "    )\n",
    "\n",
    "    trainer.fit(model)\n",
    "    \n",
    "    # Predict on test dataset\n",
    "    y_pred = model.predict(test_dataloader)\n",
    "    y_prob = torch.sigmoid(torch.tensor(y_pred)).numpy()[:, 1]\n",
    "\n",
    "    # Save scores and labels\n",
    "    y_probs.append(y_prob)\n",
    "    y_trues.append(y_test)"
   ]
  },
  {
   "cell_type": "markdown",
   "id": "7da93cef",
   "metadata": {},
   "source": [
    "##### Save Model Probabilities on Test Folds and True Labels"
   ]
  },
  {
   "cell_type": "code",
   "execution_count": null,
   "id": "6bbff8d9",
   "metadata": {},
   "outputs": [],
   "source": [
    "with open(os.path.join(results_dir, f\"{model_key}_y_trues.pkl\"), \"wb\") as f:\n",
    "    pickle.dump(y_trues, f)\n",
    "\n",
    "with open(os.path.join(results_dir, f\"{model_key}_y_probs.pkl\"), \"wb\") as f:\n",
    "    pickle.dump(y_probs, f)"
   ]
  },
  {
   "cell_type": "code",
   "execution_count": null,
   "id": "6e4d8469",
   "metadata": {},
   "outputs": [],
   "source": []
  }
 ],
 "metadata": {
  "kernelspec": {
   "display_name": "transcripts",
   "language": "python",
   "name": "transcripts"
  },
  "language_info": {
   "codemirror_mode": {
    "name": "ipython",
    "version": 3
   },
   "file_extension": ".py",
   "mimetype": "text/x-python",
   "name": "python",
   "nbconvert_exporter": "python",
   "pygments_lexer": "ipython3",
   "version": "3.8.16"
  }
 },
 "nbformat": 4,
 "nbformat_minor": 5
}
