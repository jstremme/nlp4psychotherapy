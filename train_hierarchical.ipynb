{
 "cells": [
  {
   "cell_type": "markdown",
   "id": "6ea00513",
   "metadata": {},
   "source": [
    "### Train Hierarchical Model\n",
    "\n",
    "- Joel Stremmel\n",
    "- 04-19-23\n",
    "\n",
    "##### About\n",
    "\n",
    "Train a Hierarchical Model on the formatted data using K-Fold Cross-Validation and save the scores."
   ]
  },
  {
   "cell_type": "markdown",
   "id": "9ac2c7a9",
   "metadata": {},
   "source": [
    "##### Imports"
   ]
  },
  {
   "cell_type": "code",
   "execution_count": 1,
   "id": "dd145b3a",
   "metadata": {},
   "outputs": [
    {
     "name": "stderr",
     "output_type": "stream",
     "text": [
      "2023-04-19 14:38:55.764242: I tensorflow/tsl/cuda/cudart_stub.cc:28] Could not find cuda drivers on your machine, GPU will not be used.\n",
      "2023-04-19 14:38:55.829210: I tensorflow/tsl/cuda/cudart_stub.cc:28] Could not find cuda drivers on your machine, GPU will not be used.\n",
      "2023-04-19 14:38:55.829874: I tensorflow/core/platform/cpu_feature_guard.cc:182] This TensorFlow binary is optimized to use available CPU instructions in performance-critical operations.\n",
      "To enable the following instructions: AVX2 FMA, in other operations, rebuild TensorFlow with the appropriate compiler flags.\n",
      "2023-04-19 14:38:56.794140: W tensorflow/compiler/tf2tensorrt/utils/py_utils.cc:38] TF-TRT Warning: Could not find TensorRT\n"
     ]
    }
   ],
   "source": [
    "import os\n",
    "import re\n",
    "import glob\n",
    "import pickle\n",
    "import torch\n",
    "import numpy as np\n",
    "import pandas as pd\n",
    "import tensorflow as tf\n",
    "from datasets import Dataset\n",
    "from transformers import (\n",
    "    AutoTokenizer,\n",
    "    AutoModelForSequenceClassification,\n",
    "    Trainer,\n",
    "    TrainingArguments,\n",
    ")\n",
    "from transformers import RobertaTokenizer, TFRobertaModel"
   ]
  },
  {
   "cell_type": "markdown",
   "id": "19d89e2d",
   "metadata": {},
   "source": [
    "##### Set Parameters"
   ]
  },
  {
   "cell_type": "code",
   "execution_count": 2,
   "id": "ccfa5892",
   "metadata": {},
   "outputs": [],
   "source": [
    "max_utterance_length = 64\n",
    "max_num_utterances = 32\n",
    "batch_size = 32\n",
    "lr = 0.00002\n",
    "epochs = 5\n",
    "output_dir = \"lf_output\"\n",
    "lm_path = \"roberta-base\"\n",
    "model_key = \"lstmh\"\n",
    "input_dir = \"./data\"\n",
    "results_dir = \"./results\""
   ]
  },
  {
   "cell_type": "markdown",
   "id": "fccb2634",
   "metadata": {},
   "source": [
    "##### Disable Tokenizer Parallelism\n",
    "This is mostly to avoid warnings."
   ]
  },
  {
   "cell_type": "code",
   "execution_count": 3,
   "id": "e13a3d5f",
   "metadata": {},
   "outputs": [],
   "source": [
    "os.environ[\"TOKENIZERS_PARALLELISM\"] = \"false\""
   ]
  },
  {
   "cell_type": "markdown",
   "id": "2f78b64c",
   "metadata": {},
   "source": [
    "##### Load Formatted Data"
   ]
  },
  {
   "cell_type": "code",
   "execution_count": 4,
   "id": "710a85d0",
   "metadata": {},
   "outputs": [],
   "source": [
    "with open(os.path.join(input_dir, \"X_folds.pkl\"), \"rb\") as f:\n",
    "    X_folds = pickle.load(f)\n",
    "\n",
    "with open(os.path.join(input_dir, \"y_folds.pkl\"), \"rb\") as f:\n",
    "    y_folds = pickle.load(f)"
   ]
  },
  {
   "cell_type": "markdown",
   "id": "5d6b559a",
   "metadata": {},
   "source": [
    "##### Check Data Shape"
   ]
  },
  {
   "cell_type": "code",
   "execution_count": 5,
   "id": "bb7c83b6",
   "metadata": {},
   "outputs": [],
   "source": [
    "assert len(X_folds) == len(y_folds), \"Expected the same number of folds in X and y.\"\n",
    "X = list(X_folds.values())\n",
    "y = list(y_folds.values())"
   ]
  },
  {
   "cell_type": "markdown",
   "id": "aac7cd9d",
   "metadata": {},
   "source": [
    "##### Check Target Prevalence"
   ]
  },
  {
   "cell_type": "code",
   "execution_count": 6,
   "id": "2164340a",
   "metadata": {},
   "outputs": [
    {
     "name": "stdout",
     "output_type": "stream",
     "text": [
      "Target prevalance: 0.5277777777777778.\n"
     ]
    }
   ],
   "source": [
    "print(f\"Target prevalance: {np.mean(np.concatenate(y))}.\")"
   ]
  },
  {
   "cell_type": "markdown",
   "id": "15ff6576",
   "metadata": {},
   "source": [
    "##### Check that GPU is Available"
   ]
  },
  {
   "cell_type": "code",
   "execution_count": 7,
   "id": "617bd083",
   "metadata": {},
   "outputs": [
    {
     "name": "stdout",
     "output_type": "stream",
     "text": [
      "1.8.1+cu101\n"
     ]
    }
   ],
   "source": [
    "assert torch.cuda.is_available(), \"Run this script on a GPU.\"\n",
    "print(torch.__version__)"
   ]
  },
  {
   "cell_type": "markdown",
   "id": "fa40526c",
   "metadata": {},
   "source": [
    "##### Load Pretrained Encoder and Tokenizer"
   ]
  },
  {
   "cell_type": "code",
   "execution_count": 8,
   "id": "d3c345cf",
   "metadata": {},
   "outputs": [
    {
     "name": "stderr",
     "output_type": "stream",
     "text": [
      "2023-04-19 14:38:59.056775: I tensorflow/compiler/xla/stream_executor/cuda/cuda_gpu_executor.cc:996] successful NUMA node read from SysFS had negative value (-1), but there must be at least one NUMA node, so returning NUMA node zero. See more at https://github.com/torvalds/linux/blob/v6.0/Documentation/ABI/testing/sysfs-bus-pci#L344-L355\n",
      "2023-04-19 14:38:59.059463: W tensorflow/core/common_runtime/gpu/gpu_device.cc:1956] Cannot dlopen some GPU libraries. Please make sure the missing libraries mentioned above are installed properly if you would like to use GPU. Follow the guide at https://www.tensorflow.org/install/gpu for how to download and setup the required libraries for your platform.\n",
      "Skipping registering GPU devices...\n",
      "Some layers from the model checkpoint at roberta-base were not used when initializing TFRobertaModel: ['lm_head']\n",
      "- This IS expected if you are initializing TFRobertaModel from the checkpoint of a model trained on another task or with another architecture (e.g. initializing a BertForSequenceClassification model from a BertForPreTraining model).\n",
      "- This IS NOT expected if you are initializing TFRobertaModel from the checkpoint of a model that you expect to be exactly identical (initializing a BertForSequenceClassification model from a BertForSequenceClassification model).\n",
      "All the layers of TFRobertaModel were initialized from the model checkpoint at roberta-base.\n",
      "If your task is similar to the task the model of the checkpoint was trained on, you can already use TFRobertaModel for predictions without further training.\n"
     ]
    }
   ],
   "source": [
    "tokenizer = RobertaTokenizer.from_pretrained(lm_path)\n",
    "encoder = TFRobertaModel.from_pretrained(lm_path)"
   ]
  },
  {
   "cell_type": "markdown",
   "id": "85f2951e",
   "metadata": {},
   "source": [
    "##### Tokenize Text and Fit Model to Each Fold"
   ]
  },
  {
   "cell_type": "code",
   "execution_count": 9,
   "id": "45cc6d29",
   "metadata": {},
   "outputs": [
    {
     "name": "stdout",
     "output_type": "stream",
     "text": [
      "Fitting model using fold 0 as out of fold data.\n"
     ]
    },
    {
     "name": "stderr",
     "output_type": "stream",
     "text": [
      "2023-04-19 14:39:01.454116: I tensorflow/core/common_runtime/executor.cc:1197] [/device:CPU:0] (DEBUG INFO) Executor start aborting (this does not indicate an error and you can ignore this message): INVALID_ARGUMENT: You must feed a value for placeholder tensor 'gradients/split_2_grad/concat/split_2/split_dim' with dtype int32\n",
      "\t [[{{node gradients/split_2_grad/concat/split_2/split_dim}}]]\n",
      "2023-04-19 14:39:01.455577: I tensorflow/core/common_runtime/executor.cc:1197] [/device:CPU:0] (DEBUG INFO) Executor start aborting (this does not indicate an error and you can ignore this message): INVALID_ARGUMENT: You must feed a value for placeholder tensor 'gradients/split_grad/concat/split/split_dim' with dtype int32\n",
      "\t [[{{node gradients/split_grad/concat/split/split_dim}}]]\n",
      "2023-04-19 14:39:01.456916: I tensorflow/core/common_runtime/executor.cc:1197] [/device:CPU:0] (DEBUG INFO) Executor start aborting (this does not indicate an error and you can ignore this message): INVALID_ARGUMENT: You must feed a value for placeholder tensor 'gradients/split_1_grad/concat/split_1/split_dim' with dtype int32\n",
      "\t [[{{node gradients/split_1_grad/concat/split_1/split_dim}}]]\n",
      "WARNING:absl:`lr` is deprecated in Keras optimizer, please use `learning_rate` or use the legacy optimizer, e.g.,tf.keras.optimizers.legacy.Adam.\n"
     ]
    },
    {
     "ename": "InvalidArgumentError",
     "evalue": "OpKernel 'ConcatV2' has constraint on attr 'T' not in NodeDef '[N=0, Tidx=DT_INT32]', KernelDef: 'op: \"ConcatV2\" device_type: \"CPU\" constraint { name: \"T\" allowed_values { list { type: DT_QINT32 } } } host_memory_arg: \"axis\"' [Op:ConcatV2] name: concat",
     "output_type": "error",
     "traceback": [
      "\u001b[0;31m---------------------------------------------------------------------------\u001b[0m",
      "\u001b[0;31mInvalidArgumentError\u001b[0m                      Traceback (most recent call last)",
      "Cell \u001b[0;32mIn[9], line 56\u001b[0m\n\u001b[1;32m     49\u001b[0m     \u001b[38;5;28;01mreturn\u001b[39;00m tf\u001b[38;5;241m.\u001b[39mkeras\u001b[38;5;241m.\u001b[39mpreprocessing\u001b[38;5;241m.\u001b[39msequence\u001b[38;5;241m.\u001b[39mpad_sequences(\n\u001b[1;32m     50\u001b[0m         encoded_samples,\n\u001b[1;32m     51\u001b[0m         padding\u001b[38;5;241m=\u001b[39m\u001b[38;5;124m'\u001b[39m\u001b[38;5;124mpost\u001b[39m\u001b[38;5;124m'\u001b[39m,\n\u001b[1;32m     52\u001b[0m         dtype\u001b[38;5;241m=\u001b[39m\u001b[38;5;124m'\u001b[39m\u001b[38;5;124mfloat32\u001b[39m\u001b[38;5;124m'\u001b[39m\n\u001b[1;32m     53\u001b[0m     )\n\u001b[1;32m     55\u001b[0m \u001b[38;5;66;03m# Encode the train and test data\u001b[39;00m\n\u001b[0;32m---> 56\u001b[0m X_train \u001b[38;5;241m=\u001b[39m \u001b[43mencode_samples\u001b[49m\u001b[43m(\u001b[49m\u001b[43mX_train\u001b[49m\u001b[43m)\u001b[49m\n\u001b[1;32m     57\u001b[0m X_test \u001b[38;5;241m=\u001b[39m encode_samples(X_test)\n\u001b[1;32m     59\u001b[0m \u001b[38;5;66;03m# Train the model\u001b[39;00m\n",
      "Cell \u001b[0;32mIn[9], line 48\u001b[0m, in \u001b[0;36mencode_samples\u001b[0;34m(samples)\u001b[0m\n\u001b[1;32m     47\u001b[0m \u001b[38;5;28;01mdef\u001b[39;00m \u001b[38;5;21mencode_samples\u001b[39m(samples):\n\u001b[0;32m---> 48\u001b[0m     encoded_samples \u001b[38;5;241m=\u001b[39m [encode_sentences(sentences) \u001b[38;5;28;01mfor\u001b[39;00m sentences \u001b[38;5;129;01min\u001b[39;00m samples]\n\u001b[1;32m     49\u001b[0m     \u001b[38;5;28;01mreturn\u001b[39;00m tf\u001b[38;5;241m.\u001b[39mkeras\u001b[38;5;241m.\u001b[39mpreprocessing\u001b[38;5;241m.\u001b[39msequence\u001b[38;5;241m.\u001b[39mpad_sequences(\n\u001b[1;32m     50\u001b[0m         encoded_samples,\n\u001b[1;32m     51\u001b[0m         padding\u001b[38;5;241m=\u001b[39m\u001b[38;5;124m'\u001b[39m\u001b[38;5;124mpost\u001b[39m\u001b[38;5;124m'\u001b[39m,\n\u001b[1;32m     52\u001b[0m         dtype\u001b[38;5;241m=\u001b[39m\u001b[38;5;124m'\u001b[39m\u001b[38;5;124mfloat32\u001b[39m\u001b[38;5;124m'\u001b[39m\n\u001b[1;32m     53\u001b[0m     )\n",
      "Cell \u001b[0;32mIn[9], line 48\u001b[0m, in \u001b[0;36m<listcomp>\u001b[0;34m(.0)\u001b[0m\n\u001b[1;32m     47\u001b[0m \u001b[38;5;28;01mdef\u001b[39;00m \u001b[38;5;21mencode_samples\u001b[39m(samples):\n\u001b[0;32m---> 48\u001b[0m     encoded_samples \u001b[38;5;241m=\u001b[39m [\u001b[43mencode_sentences\u001b[49m\u001b[43m(\u001b[49m\u001b[43msentences\u001b[49m\u001b[43m)\u001b[49m \u001b[38;5;28;01mfor\u001b[39;00m sentences \u001b[38;5;129;01min\u001b[39;00m samples]\n\u001b[1;32m     49\u001b[0m     \u001b[38;5;28;01mreturn\u001b[39;00m tf\u001b[38;5;241m.\u001b[39mkeras\u001b[38;5;241m.\u001b[39mpreprocessing\u001b[38;5;241m.\u001b[39msequence\u001b[38;5;241m.\u001b[39mpad_sequences(\n\u001b[1;32m     50\u001b[0m         encoded_samples,\n\u001b[1;32m     51\u001b[0m         padding\u001b[38;5;241m=\u001b[39m\u001b[38;5;124m'\u001b[39m\u001b[38;5;124mpost\u001b[39m\u001b[38;5;124m'\u001b[39m,\n\u001b[1;32m     52\u001b[0m         dtype\u001b[38;5;241m=\u001b[39m\u001b[38;5;124m'\u001b[39m\u001b[38;5;124mfloat32\u001b[39m\u001b[38;5;124m'\u001b[39m\n\u001b[1;32m     53\u001b[0m     )\n",
      "Cell \u001b[0;32mIn[9], line 44\u001b[0m, in \u001b[0;36mencode_sentences\u001b[0;34m(sentences)\u001b[0m\n\u001b[1;32m     42\u001b[0m \u001b[38;5;28;01mdef\u001b[39;00m \u001b[38;5;21mencode_sentences\u001b[39m(sentences):\n\u001b[1;32m     43\u001b[0m     encoded_sentences \u001b[38;5;241m=\u001b[39m [encode_sentence(sentence) \u001b[38;5;28;01mfor\u001b[39;00m sentence \u001b[38;5;129;01min\u001b[39;00m sentences][\u001b[38;5;241m0\u001b[39m:max_num_utterances]\n\u001b[0;32m---> 44\u001b[0m     \u001b[38;5;28;01mreturn\u001b[39;00m \u001b[43mtf\u001b[49m\u001b[38;5;241;43m.\u001b[39;49m\u001b[43mconcat\u001b[49m\u001b[43m(\u001b[49m\u001b[43mencoded_sentences\u001b[49m\u001b[43m,\u001b[49m\u001b[43m \u001b[49m\u001b[43maxis\u001b[49m\u001b[38;5;241;43m=\u001b[39;49m\u001b[38;5;241;43m0\u001b[39;49m\u001b[43m)\u001b[49m\n",
      "File \u001b[0;32m~/anaconda3/envs/transcripts/lib/python3.8/site-packages/tensorflow/python/util/traceback_utils.py:153\u001b[0m, in \u001b[0;36mfilter_traceback.<locals>.error_handler\u001b[0;34m(*args, **kwargs)\u001b[0m\n\u001b[1;32m    151\u001b[0m \u001b[38;5;28;01mexcept\u001b[39;00m \u001b[38;5;167;01mException\u001b[39;00m \u001b[38;5;28;01mas\u001b[39;00m e:\n\u001b[1;32m    152\u001b[0m   filtered_tb \u001b[38;5;241m=\u001b[39m _process_traceback_frames(e\u001b[38;5;241m.\u001b[39m__traceback__)\n\u001b[0;32m--> 153\u001b[0m   \u001b[38;5;28;01mraise\u001b[39;00m e\u001b[38;5;241m.\u001b[39mwith_traceback(filtered_tb) \u001b[38;5;28;01mfrom\u001b[39;00m \u001b[38;5;28mNone\u001b[39m\n\u001b[1;32m    154\u001b[0m \u001b[38;5;28;01mfinally\u001b[39;00m:\n\u001b[1;32m    155\u001b[0m   \u001b[38;5;28;01mdel\u001b[39;00m filtered_tb\n",
      "File \u001b[0;32m~/anaconda3/envs/transcripts/lib/python3.8/site-packages/tensorflow/python/framework/ops.py:7262\u001b[0m, in \u001b[0;36mraise_from_not_ok_status\u001b[0;34m(e, name)\u001b[0m\n\u001b[1;32m   7260\u001b[0m \u001b[38;5;28;01mdef\u001b[39;00m \u001b[38;5;21mraise_from_not_ok_status\u001b[39m(e, name):\n\u001b[1;32m   7261\u001b[0m   e\u001b[38;5;241m.\u001b[39mmessage \u001b[38;5;241m+\u001b[39m\u001b[38;5;241m=\u001b[39m (\u001b[38;5;124m\"\u001b[39m\u001b[38;5;124m name: \u001b[39m\u001b[38;5;124m\"\u001b[39m \u001b[38;5;241m+\u001b[39m name \u001b[38;5;28;01mif\u001b[39;00m name \u001b[38;5;129;01mis\u001b[39;00m \u001b[38;5;129;01mnot\u001b[39;00m \u001b[38;5;28;01mNone\u001b[39;00m \u001b[38;5;28;01melse\u001b[39;00m \u001b[38;5;124m\"\u001b[39m\u001b[38;5;124m\"\u001b[39m)\n\u001b[0;32m-> 7262\u001b[0m   \u001b[38;5;28;01mraise\u001b[39;00m core\u001b[38;5;241m.\u001b[39m_status_to_exception(e) \u001b[38;5;28;01mfrom\u001b[39;00m \u001b[38;5;28mNone\u001b[39m\n",
      "\u001b[0;31mInvalidArgumentError\u001b[0m: OpKernel 'ConcatV2' has constraint on attr 'T' not in NodeDef '[N=0, Tidx=DT_INT32]', KernelDef: 'op: \"ConcatV2\" device_type: \"CPU\" constraint { name: \"T\" allowed_values { list { type: DT_QINT32 } } } host_memory_arg: \"axis\"' [Op:ConcatV2] name: concat"
     ]
    }
   ],
   "source": [
    "y_probs, y_trues = [], []\n",
    "for i in range(len(X)):\n",
    "    \n",
    "    print(f\"Fitting model using fold {i} as out of fold data.\")\n",
    "    \n",
    "    # Identify train folds and shuffle samples\n",
    "    X_train, y_train = np.concatenate(X[0:i] + X[i+1:], axis=0), np.concatenate(y[0:i] + y[i+1:], axis=0)\n",
    "    indices = np.arange(len(y_train))\n",
    "    np.random.shuffle(indices)\n",
    "    X_train, y_train = X_train[indices], y_train[indices]\n",
    "    \n",
    "    # Identify test folds\n",
    "    X_test, y_test = X[i], y[i]\n",
    "\n",
    "    \n",
    "    \n",
    "    \n",
    "    \n",
    "    \n",
    "    \n",
    "    \n",
    "    \n",
    "    \n",
    "    \n",
    "    \n",
    "    \n",
    "    import torch\n",
    "import torch.nn as nn\n",
    "from torch.utils.data import DataLoader, Dataset\n",
    "import pytorch_lightning as pl\n",
    "from transformers import AutoTokenizer, AutoModel\n",
    "\n",
    "class DocumentDataset(Dataset):\n",
    "    def __init__(self, data, tokenizer, max_length):\n",
    "        self.data = data\n",
    "        self.tokenizer = tokenizer\n",
    "        self.max_length = max_length\n",
    "    \n",
    "    def __len__(self):\n",
    "        return len(self.data)\n",
    "    \n",
    "    def __getitem__(self, idx):\n",
    "        document_segments, label = self.data[idx]\n",
    "        input_ids = []\n",
    "        attention_mask = []\n",
    "        for segment in document_segments:\n",
    "            encoding = self.tokenizer.encode_plus(segment, add_special_tokens=True, max_length=self.max_length, padding='max_length', truncation=True)\n",
    "            input_ids.append(encoding['input_ids'])\n",
    "            attention_mask.append(encoding['attention_mask'])\n",
    "        input_ids = torch.tensor(input_ids)\n",
    "        attention_mask = torch.tensor(attention_mask)\n",
    "        label = torch.tensor(label)\n",
    "        return input_ids, attention_mask, label\n",
    "\n",
    "class HierarchicalLSTM(pl.LightningModule):\n",
    "    def __init__(self, encoder, hidden_size, num_layers, dropout):\n",
    "        super().__init__()\n",
    "        self.encoder = encoder\n",
    "        self.lstm = nn.LSTM(input_size=self.encoder.config.hidden_size, hidden_size=hidden_size, num_layers=num_layers, dropout=dropout, batch_first=True)\n",
    "        self.dropout = nn.Dropout(dropout)\n",
    "        self.fc = nn.Linear(hidden_size, 1)\n",
    "        self.loss_fn = nn.BCEWithLogitsLoss()\n",
    "        \n",
    "    def forward(self, input_ids, attention_mask):\n",
    "        # Get encoder embeddings for each document segment\n",
    "        outputs = self.encoder(input_ids=input_ids, attention_mask=attention_mask)\n",
    "        embeddings = outputs.last_hidden_state\n",
    "        \n",
    "        # Pass embeddings through LSTM\n",
    "        _, (hidden, _) = self.lstm(embeddings)\n",
    "        hidden = self.dropout(hidden[-1]) # take the last layer's hidden state\n",
    "        out = self.fc(hidden)\n",
    "        return out.squeeze(-1)\n",
    "    \n",
    "    def training_step(self, batch, batch_idx):\n",
    "        input_ids, attention_mask, label = batch\n",
    "        logits = self(input_ids, attention_mask)\n",
    "        loss = self.loss_fn(logits, label.float())\n",
    "        self.log('train_loss', loss)\n",
    "        return loss\n",
    "    \n",
    "    def validation_step(self, batch, batch_idx):\n",
    "        input_ids, attention_mask, label = batch\n",
    "        logits = self(input_ids, attention_mask)\n",
    "        loss = self.loss_fn(logits, label.float())\n",
    "        self.log('val_loss', loss, prog_bar=True)\n",
    "        return loss\n",
    "    \n",
    "    def configure_optimizers(self):\n",
    "        optimizer = torch.optim.Adam(self.parameters(), lr=2e-5)\n",
    "        scheduler = torch.optim.lr_scheduler.ReduceLROnPlateau(optimizer, mode='min', factor=0.5, patience=2, verbose=True)\n",
    "        return {'optimizer': optimizer, 'lr_scheduler': scheduler, 'monitor': 'val_loss'}\n",
    "\n",
    "class HierarchicalLSTMTrainer(pl.LightningModule):\n",
    "    def __init__(self, encoder_name, hidden_size, num_layers, dropout, max_length, train_data, val_data, batch_size=16, num_workers=4):\n",
    "        super().__init__()\n",
    "        self.encoder_name = encoder_name\n",
    "        self.hidden_size = hidden_size\n",
    "        self.num_layers = num_layers\n",
    "        self.dropout = dropout\n",
    "        self.max_length = max_length\n",
    "        self.train_data = train_data\n",
    "        self.val_data = val_data\n",
    "        self.batch_size = batch_size\n",
    "        self.num_workers = num_workers\n",
    "        \n",
    "    def setup(self, stage=None):\n",
    "        self.tokenizer = AutoTokenizer.from_pretrained(self.encoder_name)\n",
    "        self.encoder = AutoModel.from_pretrained(self.encoder_name)\n",
    "        self.train_dataset = DocumentDataset(self.train_data, self.tokenizer, self.max_length)\n",
    "        self.val_dataset = DocumentDataset(self.val_data, self.tokenizer, self.max_length)\n",
    "    \n",
    "    def train_dataloader(self):\n",
    "        return DataLoader(self.train_dataset, batch_size=self.batch_size, num_workers=self.num_workers, shuffle=True)\n",
    "    \n",
    "    def val_dataloader(self):\n",
    "        return DataLoader(self.val_dataset, batch_size=self.batch_size, num_workers=self.num_workers)\n",
    "    \n",
    "    def configure_optimizers(self):\n",
    "        return HierarchicalLSTM(self.encoder, self.hidden_size, self.num_layers, self.dropout)\n",
    "    \n",
    "    def validation_epoch_end(self, outputs):\n",
    "        avg_val_loss = torch.stack([x['val_loss'] for x in outputs]).mean()\n",
    "        self.log('avg_val_loss', avg_val_loss, prog_bar=True)\n",
    "        return {'avg_val_loss': avg_val_loss}\n",
    "    \n",
    "    \n",
    "    data = [\n",
    "    ([\"This is the first segment.\", \"This is the second segment.\"], 1),\n",
    "    ([\"This is the third segment.\", \"This is the fourth segment.\"], 0),\n",
    "    ([\"This is the fifth segment.\", \"This is the sixth segment.\"], 1)\n",
    "]\n",
    "\n",
    "train_data = DocumentDataset(data)\n",
    "dataloader = torch.utils.data.DataLoader(dataset, batch_size=batch_size, shuffle=True)\n",
    "    \n",
    "    early_stop_callback = EarlyStopping(\n",
    "        monitor='avg_val_loss',\n",
    "        min_delta=0.00,\n",
    "        patience=3,\n",
    "        verbose=True,\n",
    "        mode='min'\n",
    "    )\n",
    "\n",
    "    trainer = pl.Trainer(\n",
    "        gpus=1,\n",
    "        callbacks=[early_stop_callback],\n",
    "        max_epochs=100,\n",
    "    )\n",
    "\n",
    "    model = HierarchicalLSTMTrainer(\n",
    "        encoder_name='roberta-large',\n",
    "        hidden_size=256,\n",
    "        num_layers=2,\n",
    "        dropout=0.1,\n",
    "        max_length=512,\n",
    "        train_data=train_data,\n",
    "        val_data=val_data,\n",
    "        batch_size=16,\n",
    "        num_workers=4\n",
    "    )\n",
    "\n",
    "    trainer.fit(model)\n",
    "    \n",
    "    # Predict on test dataset\n",
    "    y_prob = model.predict(X_test)\n",
    "\n",
    "    # Save scores and labels\n",
    "    y_probs.append(y_prob)\n",
    "    y_trues.append(y_test)"
   ]
  },
  {
   "cell_type": "markdown",
   "id": "7da93cef",
   "metadata": {},
   "source": [
    "##### Save Model Probabilities on Test Folds and True Labels"
   ]
  },
  {
   "cell_type": "code",
   "execution_count": null,
   "id": "6bbff8d9",
   "metadata": {},
   "outputs": [],
   "source": [
    "with open(os.path.join(results_dir, f\"{model_key}_y_trues.pkl\"), \"wb\") as f:\n",
    "    pickle.dump(y_trues, f)\n",
    "\n",
    "with open(os.path.join(results_dir, f\"{model_key}_y_probs.pkl\"), \"wb\") as f:\n",
    "    pickle.dump(y_probs, f)"
   ]
  },
  {
   "cell_type": "code",
   "execution_count": null,
   "id": "6e4d8469",
   "metadata": {},
   "outputs": [],
   "source": []
  }
 ],
 "metadata": {
  "kernelspec": {
   "display_name": "transcripts",
   "language": "python",
   "name": "transcripts"
  },
  "language_info": {
   "codemirror_mode": {
    "name": "ipython",
    "version": 3
   },
   "file_extension": ".py",
   "mimetype": "text/x-python",
   "name": "python",
   "nbconvert_exporter": "python",
   "pygments_lexer": "ipython3",
   "version": "3.8.16"
  }
 },
 "nbformat": 4,
 "nbformat_minor": 5
}
