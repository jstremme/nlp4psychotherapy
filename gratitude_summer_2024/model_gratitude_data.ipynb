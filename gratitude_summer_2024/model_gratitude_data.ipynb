{
 "cells": [
  {
   "cell_type": "code",
   "execution_count": 1,
   "id": "da412e42",
   "metadata": {},
   "outputs": [],
   "source": [
    "# For now we use the embeddings of what a group member said to predict/his her gratitude rating for a session\n",
    "# One improvement could be to compute the average embedding of what other group members said during the session\n",
    "# and concatenate this vector with the vector representing the individual's utterances.  A classifier trained on\n",
    "# individual features + group features should perform a bit better with enough data"
   ]
  },
  {
   "cell_type": "code",
   "execution_count": null,
   "id": "b6f3fa82",
   "metadata": {},
   "outputs": [],
   "source": []
  },
  {
   "cell_type": "code",
   "execution_count": 2,
   "id": "4dc77e01",
   "metadata": {},
   "outputs": [],
   "source": [
    "import torch\n",
    "import pandas as pd\n",
    "import numpy as np\n",
    "import matplotlib.pyplot as plt\n",
    "\n",
    "import gc\n",
    "import multiprocessing\n",
    "from datasets import load_from_disk, Dataset, DatasetDict  \n",
    "from transformers import AutoTokenizer, AutoModel\n",
    "\n",
    "from sklearn.model_selection import cross_val_score\n",
    "from sklearn.feature_extraction.text import CountVectorizer\n",
    "from sklearn.preprocessing import StandardScaler\n",
    "from sklearn.model_selection import KFold\n",
    "from sklearn.linear_model import LinearRegression, Ridge\n",
    "from sklearn.linear_model import LogisticRegression\n",
    "from sklearn.metrics import mean_absolute_error\n",
    "\n",
    "from embed import mean_pool_sentence_embedding"
   ]
  },
  {
   "cell_type": "code",
   "execution_count": 3,
   "id": "63f0ece4",
   "metadata": {},
   "outputs": [],
   "source": [
    "max_seq_len = 512\n",
    "data_path = 'transcript_data.xlsx'\n",
    "ids_path = 'ids.xlsx'\n",
    "ratings_path = 'gratitude.xlsx'\n",
    "lm_path = 'roberta-base'\n",
    "\n",
    "# Set the batch size for the embedding model\n",
    "batch_size = 16\n",
    "\n",
    "# Select whether to compute new embeddings for the data or use precomputed embeddings\n",
    "# On the first run, embeddings must be computed.  On subsequent runs, embeddings can be loaded from disk.\n",
    "embed = True\n",
    "\n",
    "# Set the device to GPU if you have one, MPS if you are on a Mac with an M1/M2 chip, otherwise CPU\n",
    "device = \"cuda:0\"\n",
    "\n",
    "seed = 44\n",
    "k = 5\n",
    "\n",
    "\n",
    "# COMPARE BERT-BASED Features to TFIDF"
   ]
  },
  {
   "cell_type": "code",
   "execution_count": 4,
   "id": "c6feaad0",
   "metadata": {},
   "outputs": [
    {
     "data": {
      "text/plain": [
       "'1.8.1+cu101'"
      ]
     },
     "execution_count": 4,
     "metadata": {},
     "output_type": "execute_result"
    }
   ],
   "source": [
    "torch.__version__"
   ]
  },
  {
   "cell_type": "code",
   "execution_count": 5,
   "id": "f2b1f9f5",
   "metadata": {},
   "outputs": [],
   "source": [
    "rating_df = pd.read_excel(ratings_path)"
   ]
  },
  {
   "cell_type": "code",
   "execution_count": 7,
   "id": "1b0d745b",
   "metadata": {},
   "outputs": [],
   "source": [
    "id_df = pd.read_excel(ids_path)"
   ]
  },
  {
   "cell_type": "code",
   "execution_count": 9,
   "id": "934634f8",
   "metadata": {},
   "outputs": [],
   "source": [
    "digit_rating_df = pd.merge(\n",
    "    rating_df[['DigitID', 'Group', 'Session', 'Gratitude_Members']],\n",
    "    id_df,\n",
    "    how='inner',\n",
    "    left_on='DigitID',\n",
    "    right_on='Digit ID'\n",
    ").drop_duplicates().drop('Group_y', axis=1).rename(columns={'Group_x': 'Group'})"
   ]
  },
  {
   "cell_type": "code",
   "execution_count": 11,
   "id": "19a5102b",
   "metadata": {},
   "outputs": [],
   "source": [
    "df = pd.read_excel(data_path)"
   ]
  },
  {
   "cell_type": "code",
   "execution_count": 13,
   "id": "2a044f71",
   "metadata": {},
   "outputs": [],
   "source": [
    "df = pd.merge(\n",
    "    df,\n",
    "    digit_rating_df,\n",
    "    how='inner',\n",
    "    on=['Member ID', 'Group', 'Session']\n",
    ")"
   ]
  },
  {
   "cell_type": "code",
   "execution_count": 15,
   "id": "367198c1",
   "metadata": {},
   "outputs": [],
   "source": [
    "grouped_df = df.groupby(['Group', 'Session', 'Member ID']).agg({'Gratitude_Members': 'max'}).reset_index()"
   ]
  },
  {
   "cell_type": "code",
   "execution_count": 17,
   "id": "648fe41e",
   "metadata": {},
   "outputs": [
    {
     "data": {
      "image/png": "[encoded data removed]",
      "text/plain": [
       "<Figure size 640x480 with 1 Axes>"
      ]
     },
     "metadata": {},
     "output_type": "display_data"
    }
   ],
   "source": [
    "plt.hist(grouped_df['Gratitude_Members'], bins=10)\n",
    "plt.xlabel('Member Gratitude')\n",
    "plt.ylabel('Frequency')\n",
    "plt.title(\"Histogram of Member Gratitude\")\n",
    "plt.show()"
   ]
  },
  {
   "cell_type": "code",
   "execution_count": 18,
   "id": "dda52211",
   "metadata": {},
   "outputs": [],
   "source": [
    "tokenizer = AutoTokenizer.from_pretrained(lm_path)"
   ]
  },
  {
   "cell_type": "code",
   "execution_count": 19,
   "id": "3cbe679e",
   "metadata": {},
   "outputs": [],
   "source": [
    "def plot_token_len_distribution(dataset):\n",
    "\n",
    "    plt.hist([len(ids) for ids in dataset['input_ids']], bins=50)\n",
    "    plt.ylabel(\"Frequency\")\n",
    "    plt.xlabel(\"Tokens per Utterance\")\n",
    "    plt.title(\"Distribution of Tokens per Utterance\")\n",
    "    plt.show()"
   ]
  },
  {
   "cell_type": "code",
   "execution_count": 20,
   "id": "4d06daf5",
   "metadata": {},
   "outputs": [],
   "source": [
    "def tokenize_text(record, tokenizer, truncate_to):\n",
    "    \n",
    "    return {\n",
    "        'input_ids': tokenizer(\n",
    "            record['text'],\n",
    "            padding=False,\n",
    "            truncation=True,\n",
    "            max_length=truncate_to\n",
    "        )['input_ids']\n",
    "    }"
   ]
  },
  {
   "cell_type": "code",
   "execution_count": 21,
   "id": "164dd94e",
   "metadata": {},
   "outputs": [],
   "source": [
    "def tokenize_plot(dataset, tokenizer, truncate_to, batch_size=512, proc_div=2):\n",
    "    \n",
    "    num_proc = int(multiprocessing.cpu_count() / proc_div)\n",
    "    print(f\"Tokenizing with {num_proc} CPU processes...\")\n",
    "    \n",
    "    dataset = dataset.map(\n",
    "        tokenize_text,\n",
    "        batched=True,\n",
    "        batch_size=batch_size,\n",
    "        fn_kwargs={\n",
    "            \"tokenizer\": tokenizer,\n",
    "            \"truncate_to\": truncate_to\n",
    "        },\n",
    "        num_proc=num_proc\n",
    "    )\n",
    "    \n",
    "    plot_token_len_distribution(dataset)\n",
    "    dataset.remove_columns('input_ids')\n",
    "    gc.collect()"
   ]
  },
  {
   "cell_type": "code",
   "execution_count": 22,
   "id": "1510f985",
   "metadata": {},
   "outputs": [
    {
     "name": "stdout",
     "output_type": "stream",
     "text": [
      "Tokenizing with 4 CPU processes...\n"
     ]
    },
    {
     "data": {
      "application/vnd.jupyter.widget-view+json": {
       "model_id": "e5518526dff748d1a025520be71795ac",
       "version_major": 2,
       "version_minor": 0
      },
      "text/plain": [
       "Map (num_proc=4):   0%|          | 0/433 [00:00<?, ? examples/s]"
      ]
     },
     "metadata": {},
     "output_type": "display_data"
    },
    {
     "data": {
      "image/png": "[encoded data removed]",
      "text/plain": [
       "<Figure size 640x480 with 1 Axes>"
      ]
     },
     "metadata": {},
     "output_type": "display_data"
    }
   ],
   "source": [
    "text_df = df.rename(columns={'Utterance': 'text'})[['Group', 'Session', 'Member ID', 'text', 'Gratitude_Members']]\n",
    "tokenize_plot(Dataset.from_pandas(text_df), tokenizer, truncate_to=max_seq_len)"
   ]
  },
  {
   "cell_type": "code",
   "execution_count": 24,
   "id": "b74f9278",
   "metadata": {},
   "outputs": [
    {
     "name": "stderr",
     "output_type": "stream",
     "text": [
      "Some weights of the model checkpoint at roberta-base were not used when initializing RobertaModel: ['lm_head.dense.weight', 'lm_head.layer_norm.weight', 'lm_head.layer_norm.bias', 'lm_head.bias', 'lm_head.dense.bias', 'lm_head.decoder.weight']\n",
      "- This IS expected if you are initializing RobertaModel from the checkpoint of a model trained on another task or with another architecture (e.g. initializing a BertForSequenceClassification model from a BertForPreTraining model).\n",
      "- This IS NOT expected if you are initializing RobertaModel from the checkpoint of a model that you expect to be exactly identical (initializing a BertForSequenceClassification model from a BertForSequenceClassification model).\n"
     ]
    }
   ],
   "source": [
    "lm = AutoModel.from_pretrained(lm_path)"
   ]
  },
  {
   "cell_type": "code",
   "execution_count": 25,
   "id": "a1122953",
   "metadata": {},
   "outputs": [
    {
     "data": {
      "text/plain": [
       "RobertaModel(\n",
       "  (embeddings): RobertaEmbeddings(\n",
       "    (word_embeddings): Embedding(50265, 768, padding_idx=1)\n",
       "    (position_embeddings): Embedding(514, 768, padding_idx=1)\n",
       "    (token_type_embeddings): Embedding(1, 768)\n",
       "    (LayerNorm): LayerNorm((768,), eps=1e-05, elementwise_affine=True)\n",
       "    (dropout): Dropout(p=0.1, inplace=False)\n",
       "  )\n",
       "  (encoder): RobertaEncoder(\n",
       "    (layer): ModuleList(\n",
       "      (0): RobertaLayer(\n",
       "        (attention): RobertaAttention(\n",
       "          (self): RobertaSelfAttention(\n",
       "            (query): Linear(in_features=768, out_features=768, bias=True)\n",
       "            (key): Linear(in_features=768, out_features=768, bias=True)\n",
       "            (value): Linear(in_features=768, out_features=768, bias=True)\n",
       "            (dropout): Dropout(p=0.1, inplace=False)\n",
       "          )\n",
       "          (output): RobertaSelfOutput(\n",
       "            (dense): Linear(in_features=768, out_features=768, bias=True)\n",
       "            (LayerNorm): LayerNorm((768,), eps=1e-05, elementwise_affine=True)\n",
       "            (dropout): Dropout(p=0.1, inplace=False)\n",
       "          )\n",
       "        )\n",
       "        (intermediate): RobertaIntermediate(\n",
       "          (dense): Linear(in_features=768, out_features=3072, bias=True)\n",
       "          (intermediate_act_fn): GELUActivation()\n",
       "        )\n",
       "        (output): RobertaOutput(\n",
       "          (dense): Linear(in_features=3072, out_features=768, bias=True)\n",
       "          (LayerNorm): LayerNorm((768,), eps=1e-05, elementwise_affine=True)\n",
       "          (dropout): Dropout(p=0.1, inplace=False)\n",
       "        )\n",
       "      )\n",
       "      (1): RobertaLayer(\n",
       "        (attention): RobertaAttention(\n",
       "          (self): RobertaSelfAttention(\n",
       "            (query): Linear(in_features=768, out_features=768, bias=True)\n",
       "            (key): Linear(in_features=768, out_features=768, bias=True)\n",
       "            (value): Linear(in_features=768, out_features=768, bias=True)\n",
       "            (dropout): Dropout(p=0.1, inplace=False)\n",
       "          )\n",
       "          (output): RobertaSelfOutput(\n",
       "            (dense): Linear(in_features=768, out_features=768, bias=True)\n",
       "            (LayerNorm): LayerNorm((768,), eps=1e-05, elementwise_affine=True)\n",
       "            (dropout): Dropout(p=0.1, inplace=False)\n",
       "          )\n",
       "        )\n",
       "        (intermediate): RobertaIntermediate(\n",
       "          (dense): Linear(in_features=768, out_features=3072, bias=True)\n",
       "          (intermediate_act_fn): GELUActivation()\n",
       "        )\n",
       "        (output): RobertaOutput(\n",
       "          (dense): Linear(in_features=3072, out_features=768, bias=True)\n",
       "          (LayerNorm): LayerNorm((768,), eps=1e-05, elementwise_affine=True)\n",
       "          (dropout): Dropout(p=0.1, inplace=False)\n",
       "        )\n",
       "      )\n",
       "      (2): RobertaLayer(\n",
       "        (attention): RobertaAttention(\n",
       "          (self): RobertaSelfAttention(\n",
       "            (query): Linear(in_features=768, out_features=768, bias=True)\n",
       "            (key): Linear(in_features=768, out_features=768, bias=True)\n",
       "            (value): Linear(in_features=768, out_features=768, bias=True)\n",
       "            (dropout): Dropout(p=0.1, inplace=False)\n",
       "          )\n",
       "          (output): RobertaSelfOutput(\n",
       "            (dense): Linear(in_features=768, out_features=768, bias=True)\n",
       "            (LayerNorm): LayerNorm((768,), eps=1e-05, elementwise_affine=True)\n",
       "            (dropout): Dropout(p=0.1, inplace=False)\n",
       "          )\n",
       "        )\n",
       "        (intermediate): RobertaIntermediate(\n",
       "          (dense): Linear(in_features=768, out_features=3072, bias=True)\n",
       "          (intermediate_act_fn): GELUActivation()\n",
       "        )\n",
       "        (output): RobertaOutput(\n",
       "          (dense): Linear(in_features=3072, out_features=768, bias=True)\n",
       "          (LayerNorm): LayerNorm((768,), eps=1e-05, elementwise_affine=True)\n",
       "          (dropout): Dropout(p=0.1, inplace=False)\n",
       "        )\n",
       "      )\n",
       "      (3): RobertaLayer(\n",
       "        (attention): RobertaAttention(\n",
       "          (self): RobertaSelfAttention(\n",
       "            (query): Linear(in_features=768, out_features=768, bias=True)\n",
       "            (key): Linear(in_features=768, out_features=768, bias=True)\n",
       "            (value): Linear(in_features=768, out_features=768, bias=True)\n",
       "            (dropout): Dropout(p=0.1, inplace=False)\n",
       "          )\n",
       "          (output): RobertaSelfOutput(\n",
       "            (dense): Linear(in_features=768, out_features=768, bias=True)\n",
       "            (LayerNorm): LayerNorm((768,), eps=1e-05, elementwise_affine=True)\n",
       "            (dropout): Dropout(p=0.1, inplace=False)\n",
       "          )\n",
       "        )\n",
       "        (intermediate): RobertaIntermediate(\n",
       "          (dense): Linear(in_features=768, out_features=3072, bias=True)\n",
       "          (intermediate_act_fn): GELUActivation()\n",
       "        )\n",
       "        (output): RobertaOutput(\n",
       "          (dense): Linear(in_features=3072, out_features=768, bias=True)\n",
       "          (LayerNorm): LayerNorm((768,), eps=1e-05, elementwise_affine=True)\n",
       "          (dropout): Dropout(p=0.1, inplace=False)\n",
       "        )\n",
       "      )\n",
       "      (4): RobertaLayer(\n",
       "        (attention): RobertaAttention(\n",
       "          (self): RobertaSelfAttention(\n",
       "            (query): Linear(in_features=768, out_features=768, bias=True)\n",
       "            (key): Linear(in_features=768, out_features=768, bias=True)\n",
       "            (value): Linear(in_features=768, out_features=768, bias=True)\n",
       "            (dropout): Dropout(p=0.1, inplace=False)\n",
       "          )\n",
       "          (output): RobertaSelfOutput(\n",
       "            (dense): Linear(in_features=768, out_features=768, bias=True)\n",
       "            (LayerNorm): LayerNorm((768,), eps=1e-05, elementwise_affine=True)\n",
       "            (dropout): Dropout(p=0.1, inplace=False)\n",
       "          )\n",
       "        )\n",
       "        (intermediate): RobertaIntermediate(\n",
       "          (dense): Linear(in_features=768, out_features=3072, bias=True)\n",
       "          (intermediate_act_fn): GELUActivation()\n",
       "        )\n",
       "        (output): RobertaOutput(\n",
       "          (dense): Linear(in_features=3072, out_features=768, bias=True)\n",
       "          (LayerNorm): LayerNorm((768,), eps=1e-05, elementwise_affine=True)\n",
       "          (dropout): Dropout(p=0.1, inplace=False)\n",
       "        )\n",
       "      )\n",
       "      (5): RobertaLayer(\n",
       "        (attention): RobertaAttention(\n",
       "          (self): RobertaSelfAttention(\n",
       "            (query): Linear(in_features=768, out_features=768, bias=True)\n",
       "            (key): Linear(in_features=768, out_features=768, bias=True)\n",
       "            (value): Linear(in_features=768, out_features=768, bias=True)\n",
       "            (dropout): Dropout(p=0.1, inplace=False)\n",
       "          )\n",
       "          (output): RobertaSelfOutput(\n",
       "            (dense): Linear(in_features=768, out_features=768, bias=True)\n",
       "            (LayerNorm): LayerNorm((768,), eps=1e-05, elementwise_affine=True)\n",
       "            (dropout): Dropout(p=0.1, inplace=False)\n",
       "          )\n",
       "        )\n",
       "        (intermediate): RobertaIntermediate(\n",
       "          (dense): Linear(in_features=768, out_features=3072, bias=True)\n",
       "          (intermediate_act_fn): GELUActivation()\n",
       "        )\n",
       "        (output): RobertaOutput(\n",
       "          (dense): Linear(in_features=3072, out_features=768, bias=True)\n",
       "          (LayerNorm): LayerNorm((768,), eps=1e-05, elementwise_affine=True)\n",
       "          (dropout): Dropout(p=0.1, inplace=False)\n",
       "        )\n",
       "      )\n",
       "      (6): RobertaLayer(\n",
       "        (attention): RobertaAttention(\n",
       "          (self): RobertaSelfAttention(\n",
       "            (query): Linear(in_features=768, out_features=768, bias=True)\n",
       "            (key): Linear(in_features=768, out_features=768, bias=True)\n",
       "            (value): Linear(in_features=768, out_features=768, bias=True)\n",
       "            (dropout): Dropout(p=0.1, inplace=False)\n",
       "          )\n",
       "          (output): RobertaSelfOutput(\n",
       "            (dense): Linear(in_features=768, out_features=768, bias=True)\n",
       "            (LayerNorm): LayerNorm((768,), eps=1e-05, elementwise_affine=True)\n",
       "            (dropout): Dropout(p=0.1, inplace=False)\n",
       "          )\n",
       "        )\n",
       "        (intermediate): RobertaIntermediate(\n",
       "          (dense): Linear(in_features=768, out_features=3072, bias=True)\n",
       "          (intermediate_act_fn): GELUActivation()\n",
       "        )\n",
       "        (output): RobertaOutput(\n",
       "          (dense): Linear(in_features=3072, out_features=768, bias=True)\n",
       "          (LayerNorm): LayerNorm((768,), eps=1e-05, elementwise_affine=True)\n",
       "          (dropout): Dropout(p=0.1, inplace=False)\n",
       "        )\n",
       "      )\n",
       "      (7): RobertaLayer(\n",
       "        (attention): RobertaAttention(\n",
       "          (self): RobertaSelfAttention(\n",
       "            (query): Linear(in_features=768, out_features=768, bias=True)\n",
       "            (key): Linear(in_features=768, out_features=768, bias=True)\n",
       "            (value): Linear(in_features=768, out_features=768, bias=True)\n",
       "            (dropout): Dropout(p=0.1, inplace=False)\n",
       "          )\n",
       "          (output): RobertaSelfOutput(\n",
       "            (dense): Linear(in_features=768, out_features=768, bias=True)\n",
       "            (LayerNorm): LayerNorm((768,), eps=1e-05, elementwise_affine=True)\n",
       "            (dropout): Dropout(p=0.1, inplace=False)\n",
       "          )\n",
       "        )\n",
       "        (intermediate): RobertaIntermediate(\n",
       "          (dense): Linear(in_features=768, out_features=3072, bias=True)\n",
       "          (intermediate_act_fn): GELUActivation()\n",
       "        )\n",
       "        (output): RobertaOutput(\n",
       "          (dense): Linear(in_features=3072, out_features=768, bias=True)\n",
       "          (LayerNorm): LayerNorm((768,), eps=1e-05, elementwise_affine=True)\n",
       "          (dropout): Dropout(p=0.1, inplace=False)\n",
       "        )\n",
       "      )\n",
       "      (8): RobertaLayer(\n",
       "        (attention): RobertaAttention(\n",
       "          (self): RobertaSelfAttention(\n",
       "            (query): Linear(in_features=768, out_features=768, bias=True)\n",
       "            (key): Linear(in_features=768, out_features=768, bias=True)\n",
       "            (value): Linear(in_features=768, out_features=768, bias=True)\n",
       "            (dropout): Dropout(p=0.1, inplace=False)\n",
       "          )\n",
       "          (output): RobertaSelfOutput(\n",
       "            (dense): Linear(in_features=768, out_features=768, bias=True)\n",
       "            (LayerNorm): LayerNorm((768,), eps=1e-05, elementwise_affine=True)\n",
       "            (dropout): Dropout(p=0.1, inplace=False)\n",
       "          )\n",
       "        )\n",
       "        (intermediate): RobertaIntermediate(\n",
       "          (dense): Linear(in_features=768, out_features=3072, bias=True)\n",
       "          (intermediate_act_fn): GELUActivation()\n",
       "        )\n",
       "        (output): RobertaOutput(\n",
       "          (dense): Linear(in_features=3072, out_features=768, bias=True)\n",
       "          (LayerNorm): LayerNorm((768,), eps=1e-05, elementwise_affine=True)\n",
       "          (dropout): Dropout(p=0.1, inplace=False)\n",
       "        )\n",
       "      )\n",
       "      (9): RobertaLayer(\n",
       "        (attention): RobertaAttention(\n",
       "          (self): RobertaSelfAttention(\n",
       "            (query): Linear(in_features=768, out_features=768, bias=True)\n",
       "            (key): Linear(in_features=768, out_features=768, bias=True)\n",
       "            (value): Linear(in_features=768, out_features=768, bias=True)\n",
       "            (dropout): Dropout(p=0.1, inplace=False)\n",
       "          )\n",
       "          (output): RobertaSelfOutput(\n",
       "            (dense): Linear(in_features=768, out_features=768, bias=True)\n",
       "            (LayerNorm): LayerNorm((768,), eps=1e-05, elementwise_affine=True)\n",
       "            (dropout): Dropout(p=0.1, inplace=False)\n",
       "          )\n",
       "        )\n",
       "        (intermediate): RobertaIntermediate(\n",
       "          (dense): Linear(in_features=768, out_features=3072, bias=True)\n",
       "          (intermediate_act_fn): GELUActivation()\n",
       "        )\n",
       "        (output): RobertaOutput(\n",
       "          (dense): Linear(in_features=3072, out_features=768, bias=True)\n",
       "          (LayerNorm): LayerNorm((768,), eps=1e-05, elementwise_affine=True)\n",
       "          (dropout): Dropout(p=0.1, inplace=False)\n",
       "        )\n",
       "      )\n",
       "      (10): RobertaLayer(\n",
       "        (attention): RobertaAttention(\n",
       "          (self): RobertaSelfAttention(\n",
       "            (query): Linear(in_features=768, out_features=768, bias=True)\n",
       "            (key): Linear(in_features=768, out_features=768, bias=True)\n",
       "            (value): Linear(in_features=768, out_features=768, bias=True)\n",
       "            (dropout): Dropout(p=0.1, inplace=False)\n",
       "          )\n",
       "          (output): RobertaSelfOutput(\n",
       "            (dense): Linear(in_features=768, out_features=768, bias=True)\n",
       "            (LayerNorm): LayerNorm((768,), eps=1e-05, elementwise_affine=True)\n",
       "            (dropout): Dropout(p=0.1, inplace=False)\n",
       "          )\n",
       "        )\n",
       "        (intermediate): RobertaIntermediate(\n",
       "          (dense): Linear(in_features=768, out_features=3072, bias=True)\n",
       "          (intermediate_act_fn): GELUActivation()\n",
       "        )\n",
       "        (output): RobertaOutput(\n",
       "          (dense): Linear(in_features=3072, out_features=768, bias=True)\n",
       "          (LayerNorm): LayerNorm((768,), eps=1e-05, elementwise_affine=True)\n",
       "          (dropout): Dropout(p=0.1, inplace=False)\n",
       "        )\n",
       "      )\n",
       "      (11): RobertaLayer(\n",
       "        (attention): RobertaAttention(\n",
       "          (self): RobertaSelfAttention(\n",
       "            (query): Linear(in_features=768, out_features=768, bias=True)\n",
       "            (key): Linear(in_features=768, out_features=768, bias=True)\n",
       "            (value): Linear(in_features=768, out_features=768, bias=True)\n",
       "            (dropout): Dropout(p=0.1, inplace=False)\n",
       "          )\n",
       "          (output): RobertaSelfOutput(\n",
       "            (dense): Linear(in_features=768, out_features=768, bias=True)\n",
       "            (LayerNorm): LayerNorm((768,), eps=1e-05, elementwise_affine=True)\n",
       "            (dropout): Dropout(p=0.1, inplace=False)\n",
       "          )\n",
       "        )\n",
       "        (intermediate): RobertaIntermediate(\n",
       "          (dense): Linear(in_features=768, out_features=3072, bias=True)\n",
       "          (intermediate_act_fn): GELUActivation()\n",
       "        )\n",
       "        (output): RobertaOutput(\n",
       "          (dense): Linear(in_features=3072, out_features=768, bias=True)\n",
       "          (LayerNorm): LayerNorm((768,), eps=1e-05, elementwise_affine=True)\n",
       "          (dropout): Dropout(p=0.1, inplace=False)\n",
       "        )\n",
       "      )\n",
       "    )\n",
       "  )\n",
       "  (pooler): RobertaPooler(\n",
       "    (dense): Linear(in_features=768, out_features=768, bias=True)\n",
       "    (activation): Tanh()\n",
       "  )\n",
       ")"
      ]
     },
     "execution_count": 25,
     "metadata": {},
     "output_type": "execute_result"
    }
   ],
   "source": [
    "# Ensure the model is in evaluation mode and on the correct device\n",
    "lm = lm.to(device)\n",
    "lm.eval()"
   ]
  },
  {
   "cell_type": "code",
   "execution_count": 26,
   "id": "98f243d4",
   "metadata": {},
   "outputs": [],
   "source": [
    "# Create or load embeddings\n",
    "if embed:\n",
    "\n",
    "    embeddings = mean_pool_sentence_embedding(\n",
    "        text_df['text'].to_list(),\n",
    "        tokenizer,\n",
    "        lm,\n",
    "        batch_size,\n",
    "        device,\n",
    "        max_seq_len\n",
    "    )\n",
    "    np.save(\"embeddings.npy\", embeddings)\n",
    "\n",
    "else:\n",
    "\n",
    "    embeddings = np.load(\"embeddings.npy\", allow_pickle=True)"
   ]
  },
  {
   "cell_type": "code",
   "execution_count": 28,
   "id": "acf0bf4b",
   "metadata": {},
   "outputs": [],
   "source": [
    "text_df['embedding'] = embeddings.tolist()"
   ]
  },
  {
   "cell_type": "code",
   "execution_count": 29,
   "id": "d099cecb",
   "metadata": {},
   "outputs": [],
   "source": [
    "grat_df = text_df.groupby(['Group', 'Session', 'Member ID']).agg({'Gratitude_Members': 'max'}).reset_index()"
   ]
  },
  {
   "cell_type": "code",
   "execution_count": 30,
   "id": "93056b26",
   "metadata": {},
   "outputs": [],
   "source": [
    "emb_df = text_df.groupby(['Group', 'Session', 'Member ID'])['embedding'].apply(lambda s: np.array(list(s)).mean(axis=0)).reset_index()"
   ]
  },
  {
   "cell_type": "code",
   "execution_count": 31,
   "id": "bf7729d9",
   "metadata": {},
   "outputs": [],
   "source": [
    "# def mean_without_current(s):\n",
    "#     n = len(s)\n",
    "#     total_sum = np.array(list(s)).sum(axis=0)\n",
    "#     mean_without_current = (total_sum - np.array(list(s))) / (n-1)\n",
    "#     return pd.Series(mean_without_current.tolist())"
   ]
  },
  {
   "cell_type": "code",
   "execution_count": 32,
   "id": "7fd603f7",
   "metadata": {},
   "outputs": [],
   "source": [
    "#text_df['non_mem_emb'] = text_df.groupby(['Group', 'Session'])['embedding'].transform(mean_without_current)"
   ]
  },
  {
   "cell_type": "code",
   "execution_count": 33,
   "id": "ecdebb0b",
   "metadata": {},
   "outputs": [],
   "source": [
    "#non_mem_emb_df = text_df[['Group', 'Session', 'Member ID', 'non_mem_emb']].copy()"
   ]
  },
  {
   "cell_type": "code",
   "execution_count": 34,
   "id": "ef470306",
   "metadata": {},
   "outputs": [],
   "source": [
    "#non_mem_emb_df"
   ]
  },
  {
   "cell_type": "code",
   "execution_count": 35,
   "id": "8c46a642",
   "metadata": {},
   "outputs": [],
   "source": [
    "all_utterance_df = text_df.groupby(['Group', 'Session', 'Member ID'])['text'].apply(lambda s: ' '.join(list(s))).reset_index()"
   ]
  },
  {
   "cell_type": "code",
   "execution_count": 36,
   "id": "304d824e",
   "metadata": {},
   "outputs": [],
   "source": [
    "comb_df = pd.merge(\n",
    "    pd.merge(grat_df, emb_df, how='inner', on=['Group', 'Session', 'Member ID']),\n",
    "    all_utterance_df,\n",
    "    how='inner',\n",
    "    on=['Group', 'Session', 'Member ID']\n",
    ")"
   ]
  },
  {
   "cell_type": "code",
   "execution_count": 37,
   "id": "0e193e03",
   "metadata": {},
   "outputs": [],
   "source": [
    "# Code to follow assumes the order of X_emb and X_text are the same but with different feature representations\n",
    "# That is, the same indices should contain the same data samples\n",
    "X_emb = comb_df['embedding'].tolist()\n",
    "X_text = comb_df['text'].values\n",
    "y = comb_df['Gratitude_Members'].values"
   ]
  },
  {
   "cell_type": "code",
   "execution_count": 38,
   "id": "6cdd724e",
   "metadata": {},
   "outputs": [
    {
     "data": {
      "text/plain": [
       "(63, 63, 63)"
      ]
     },
     "execution_count": 38,
     "metadata": {},
     "output_type": "execute_result"
    }
   ],
   "source": [
    "len(X_emb), len(X_text), len(y)"
   ]
  },
  {
   "cell_type": "code",
   "execution_count": 39,
   "id": "b2b11e44",
   "metadata": {},
   "outputs": [],
   "source": [
    "lr = LinearRegression()\n",
    "scores = cross_val_score(lr, X_emb, y, cv=k, scoring='neg_mean_absolute_error')"
   ]
  },
  {
   "cell_type": "code",
   "execution_count": 40,
   "id": "bed3f1ac",
   "metadata": {},
   "outputs": [
    {
     "data": {
      "text/plain": [
       "(1.806, 0.602)"
      ]
     },
     "execution_count": 40,
     "metadata": {},
     "output_type": "execute_result"
    }
   ],
   "source": [
    "avg_mae = np.mean(scores) * -1\n",
    "std_mae = np.std(scores)\n",
    "round(avg_mae, 3), round(std_mae, 3)"
   ]
  },
  {
   "cell_type": "code",
   "execution_count": 41,
   "id": "11b2a53a",
   "metadata": {},
   "outputs": [],
   "source": [
    "mean_model_maes = []\n",
    "count_lr_maes = []\n",
    "count_ridge_maes = []\n",
    "roberta_ridge_maes = []\n",
    "\n",
    "kfold = KFold(n_splits=k, shuffle=False)\n",
    "for train, test in kfold.split(X_text, y):\n",
    "    \n",
    "    # Fit count vectorizer LR\n",
    "    count_vectorizer = CountVectorizer(ngram_range=(1, 3), min_df=3, max_df=0.9)\n",
    "    count_standard_scaler = StandardScaler()\n",
    "    X_train = count_standard_scaler.fit_transform(count_vectorizer.fit_transform(X_text[train]).toarray())\n",
    "    X_test = count_standard_scaler.transform(count_vectorizer.transform(X_text[test]).toarray())                       \n",
    "    count_lr = LinearRegression()\n",
    "    count_lr.fit(X_train, y[train])\n",
    "    count_lr_maes.append(mean_absolute_error(y_true=y[test], y_pred=count_lr.predict(X_test)))\n",
    "    \n",
    "    # Fit count vectorizer Ridge\n",
    "    count_vectorizer = CountVectorizer(ngram_range=(1, 3), min_df=3, max_df=0.9)\n",
    "    count_standard_scaler = StandardScaler()\n",
    "    X_train = count_standard_scaler.fit_transform(count_vectorizer.fit_transform(X_text[train]).toarray())\n",
    "    X_test = count_standard_scaler.transform(count_vectorizer.transform(X_text[test]).toarray())                       \n",
    "    count_ridge = Ridge(alpha=1000)\n",
    "    count_ridge.fit(X_train, y[train])\n",
    "    count_ridge_maes.append(mean_absolute_error(y_true=y[test], y_pred=count_ridge.predict(X_test)))\n",
    "    \n",
    "    # Fit RoBERTa LR\n",
    "    roberta_standard_scaler = StandardScaler()\n",
    "    X_train = roberta_standard_scaler.fit_transform(np.array(X_emb)[train])\n",
    "    X_test = roberta_standard_scaler.transform(np.array(X_emb)[test])                      \n",
    "    roberta_ridge = Ridge(alpha=1000000)\n",
    "    roberta_ridge.fit(X_train, y[train])\n",
    "    roberta_ridge_maes.append(mean_absolute_error(y_true=y[test], y_pred=roberta_ridge.predict(X_test)))\n",
    "    \n",
    "    # Fit mean model\n",
    "    mean_model_maes.append(mean_absolute_error(y_true=y[test], y_pred=[np.mean(y[train])] * len(y[test])))"
   ]
  },
  {
   "cell_type": "code",
   "execution_count": 42,
   "id": "e5b7f72e",
   "metadata": {},
   "outputs": [],
   "source": [
    "results_df = pd.DataFrame(\n",
    "    {'Mean Model': mean_model_maes,\n",
    "     'Count Vectorizer LR': count_lr_maes,\n",
    "     'Count Vectorizer Ridge': count_ridge_maes,\n",
    "     'RoBERTa Ridge': roberta_ridge_maes\n",
    "    })"
   ]
  },
  {
   "cell_type": "code",
   "execution_count": 43,
   "id": "4bfaea3e",
   "metadata": {},
   "outputs": [
    {
     "data": {
      "text/html": [
       "<div>\n",
       "<style scoped>\n",
       "    .dataframe tbody tr th:only-of-type {\n",
       "        vertical-align: middle;\n",
       "    }\n",
       "\n",
       "    .dataframe tbody tr th {\n",
       "        vertical-align: top;\n",
       "    }\n",
       "\n",
       "    .dataframe thead th {\n",
       "        text-align: right;\n",
       "    }\n",
       "</style>\n",
       "<table border=\"1\" class=\"dataframe\">\n",
       "  <thead>\n",
       "    <tr style=\"text-align: right;\">\n",
       "      <th></th>\n",
       "      <th>Mean Model</th>\n",
       "      <th>Count Vectorizer LR</th>\n",
       "      <th>Count Vectorizer Ridge</th>\n",
       "      <th>RoBERTa Ridge</th>\n",
       "    </tr>\n",
       "  </thead>\n",
       "  <tbody>\n",
       "    <tr>\n",
       "      <th>0</th>\n",
       "      <td>1.087692</td>\n",
       "      <td>0.925038</td>\n",
       "      <td>0.959863</td>\n",
       "      <td>1.087592</td>\n",
       "    </tr>\n",
       "    <tr>\n",
       "      <th>1</th>\n",
       "      <td>1.960000</td>\n",
       "      <td>1.902513</td>\n",
       "      <td>1.913313</td>\n",
       "      <td>1.960296</td>\n",
       "    </tr>\n",
       "    <tr>\n",
       "      <th>2</th>\n",
       "      <td>1.733846</td>\n",
       "      <td>1.852023</td>\n",
       "      <td>1.780553</td>\n",
       "      <td>1.734747</td>\n",
       "    </tr>\n",
       "    <tr>\n",
       "      <th>3</th>\n",
       "      <td>0.983660</td>\n",
       "      <td>0.937285</td>\n",
       "      <td>0.936227</td>\n",
       "      <td>0.983301</td>\n",
       "    </tr>\n",
       "    <tr>\n",
       "      <th>4</th>\n",
       "      <td>1.408497</td>\n",
       "      <td>1.592642</td>\n",
       "      <td>1.497863</td>\n",
       "      <td>1.409160</td>\n",
       "    </tr>\n",
       "  </tbody>\n",
       "</table>\n",
       "</div>"
      ],
      "text/plain": [
       "   Mean Model  Count Vectorizer LR  Count Vectorizer Ridge  RoBERTa Ridge\n",
       "0    1.087692             0.925038                0.959863       1.087592\n",
       "1    1.960000             1.902513                1.913313       1.960296\n",
       "2    1.733846             1.852023                1.780553       1.734747\n",
       "3    0.983660             0.937285                0.936227       0.983301\n",
       "4    1.408497             1.592642                1.497863       1.409160"
      ]
     },
     "execution_count": 43,
     "metadata": {},
     "output_type": "execute_result"
    }
   ],
   "source": [
    "results_df"
   ]
  },
  {
   "cell_type": "code",
   "execution_count": 44,
   "id": "61865a17",
   "metadata": {},
   "outputs": [
    {
     "data": {
      "text/plain": [
       "(1.435, 0.415)"
      ]
     },
     "execution_count": 44,
     "metadata": {},
     "output_type": "execute_result"
    }
   ],
   "source": [
    "round(results_df['Mean Model'].mean(), 3), round(results_df['Mean Model'].std(), 3)"
   ]
  },
  {
   "cell_type": "code",
   "execution_count": 45,
   "id": "7e1544d4",
   "metadata": {},
   "outputs": [
    {
     "data": {
      "text/plain": [
       "(1.442, 0.481)"
      ]
     },
     "execution_count": 45,
     "metadata": {},
     "output_type": "execute_result"
    }
   ],
   "source": [
    "round(results_df['Count Vectorizer LR'].mean(), 3), round(results_df['Count Vectorizer LR'].std(), 3)"
   ]
  },
  {
   "cell_type": "code",
   "execution_count": 46,
   "id": "cdffe17a",
   "metadata": {},
   "outputs": [
    {
     "data": {
      "text/plain": [
       "(1.418, 0.454)"
      ]
     },
     "execution_count": 46,
     "metadata": {},
     "output_type": "execute_result"
    }
   ],
   "source": [
    "round(results_df['Count Vectorizer Ridge'].mean(), 3), round(results_df['Count Vectorizer Ridge'].std(), 3)"
   ]
  },
  {
   "cell_type": "code",
   "execution_count": 47,
   "id": "b2f23977",
   "metadata": {},
   "outputs": [
    {
     "data": {
      "text/plain": [
       "(1.435, 0.416)"
      ]
     },
     "execution_count": 47,
     "metadata": {},
     "output_type": "execute_result"
    }
   ],
   "source": [
    "round(results_df['RoBERTa Ridge'].mean(), 3), round(results_df['RoBERTa Ridge'].std(), 3)"
   ]
  },
  {
   "cell_type": "code",
   "execution_count": 48,
   "id": "8f53c4bb",
   "metadata": {},
   "outputs": [],
   "source": [
    "# Try fitting to all data and looking at coefs"
   ]
  },
  {
   "cell_type": "code",
   "execution_count": 49,
   "id": "4a674f35",
   "metadata": {},
   "outputs": [],
   "source": [
    "count_vectorizer = CountVectorizer(ngram_range=(1, 3), min_df=3, max_df=0.9)\n",
    "count_standard_scaler = StandardScaler()\n",
    "X_train = count_vectorizer.fit_transform(X_text).toarray()\n",
    "X_train = count_standard_scaler.fit_transform(X_train)"
   ]
  },
  {
   "cell_type": "code",
   "execution_count": 50,
   "id": "ddcb6ece",
   "metadata": {},
   "outputs": [],
   "source": [
    "clfs = []\n",
    "num_bootstrap = 100\n",
    "for i in range(num_bootstrap):\n",
    "    boot_indices = np.arange(len(y))\n",
    "    boot_sample_indices = np.random.choice(\n",
    "        boot_indices, size=len(boot_indices), replace=True\n",
    "    )\n",
    "    \n",
    "    boot_train_features = X_train[boot_sample_indices]\n",
    "    boot_y_train = y[boot_sample_indices]\n",
    "    \n",
    "    lr = Ridge(alpha=1000, fit_intercept=True)\n",
    "    lr = lr.fit(boot_train_features, boot_y_train)\n",
    "    clfs.append(lr)"
   ]
  },
  {
   "cell_type": "code",
   "execution_count": 51,
   "id": "59f02e30",
   "metadata": {},
   "outputs": [],
   "source": [
    "\n",
    "def plot_coefs(clfs, features, top_n=10, x_size=12, y_size=12):\n",
    "    \"\"\"\n",
    "    Plot top N coefficients by absolute value in descending order\n",
    "    \"\"\"\n",
    "\n",
    "    all_coefs = []\n",
    "    for clf in clfs:\n",
    "        features_and_intercept = np.concatenate((features, [\"intercept\"]), axis=0)\n",
    "        coefficients = np.concatenate((clf.coef_, np.array([clf.intercept_])), axis=0)\n",
    "        all_coefs.append(coefficients)\n",
    "\n",
    "    coef_matrix = np.vstack(all_coefs)\n",
    "    mean_coefficients = np.mean(coef_matrix, axis=0)\n",
    "    std_coefficients = np.std(coef_matrix, axis=0)\n",
    "\n",
    "    indices = (-np.abs(mean_coefficients)).argsort()\n",
    "    top_coefs_mean = mean_coefficients[indices][0:top_n].tolist()\n",
    "    top_coefs_std = std_coefficients[indices][0:top_n].tolist()\n",
    "    top_feats = features_and_intercept[indices][0:top_n].tolist()\n",
    "    \n",
    "    for i, (coef, feat) in enumerate(zip(top_coefs_mean, top_feats)):\n",
    "        print(f\"{i+1}, {feat}, {round(coef, 3)}, {round(np.exp(coef), 3)}\")\n",
    "\n",
    "    top_coefs_mean.reverse()\n",
    "    top_coefs_std.reverse()\n",
    "    top_feats.reverse()\n",
    "\n",
    "    plt.clf()\n",
    "    plt.figure(figsize=(x_size, y_size))\n",
    "\n",
    "    plt.title(\"Logistic Regression Coefficients\")\n",
    "    plt.barh(\n",
    "        range(len(top_coefs_mean)),\n",
    "        top_coefs_mean,\n",
    "        xerr=1.96 * np.array(top_coefs_std),\n",
    "        color=\"navy\",\n",
    "        align=\"center\",\n",
    "    )\n",
    "    plt.yticks(range(len(top_coefs_mean)), top_feats)\n",
    "    plt.xlabel(\"Coefficient\")\n",
    "    plt.ylabel(\"Feature\")\n",
    "    plt.axvline(x=0, color=\"red\", linestyle=\"--\")\n",
    "\n",
    "    plt.show()"
   ]
  },
  {
   "cell_type": "code",
   "execution_count": 52,
   "id": "69c789c7",
   "metadata": {},
   "outputs": [
    {
     "data": {
      "text/plain": [
       "array([ 0.00073142, -0.00462438, -0.00892629, ...,  0.00104523,\n",
       "       -0.00012561, -0.00215498])"
      ]
     },
     "execution_count": 52,
     "metadata": {},
     "output_type": "execute_result"
    }
   ],
   "source": [
    "clfs[0].coef_"
   ]
  },
  {
   "cell_type": "code",
   "execution_count": 53,
   "id": "1afd8e9e",
   "metadata": {},
   "outputs": [
    {
     "data": {
      "text/plain": [
       "8.542151403461519"
      ]
     },
     "execution_count": 53,
     "metadata": {},
     "output_type": "execute_result"
    }
   ],
   "source": [
    "clfs[0].intercept_"
   ]
  },
  {
   "cell_type": "code",
   "execution_count": null,
   "id": "9365095f",
   "metadata": {},
   "outputs": [],
   "source": [
    "# plot_coefs(\n",
    "#     clfs, count_vectorizer.get_feature_names_out(), top_n=40, x_size=12, y_size=12\n",
    "# )"
   ]
  },
  {
   "cell_type": "code",
   "execution_count": null,
   "id": "5019d932",
   "metadata": {},
   "outputs": [],
   "source": []
  }
 ],
 "metadata": {
  "kernelspec": {
   "display_name": "transcripts",
   "language": "python",
   "name": "transcripts"
  },
  "language_info": {
   "codemirror_mode": {
    "name": "ipython",
    "version": 3
   },
   "file_extension": ".py",
   "mimetype": "text/x-python",
   "name": "python",
   "nbconvert_exporter": "python",
   "pygments_lexer": "ipython3",
   "version": "3.8.18"
  }
 },
 "nbformat": 4,
 "nbformat_minor": 5
}
