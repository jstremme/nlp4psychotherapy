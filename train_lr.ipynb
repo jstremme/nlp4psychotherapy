{
 "cells": [
  {
   "cell_type": "markdown",
   "id": "6ea00513",
   "metadata": {},
   "source": [
    "### Train Logistic Regression\n",
    "\n",
    "- Joel Stremmel\n",
    "- 04-17-23\n",
    "\n",
    "##### About\n",
    "\n",
    "Train Logistic Regression on the formatted data using K-Fold Cross-Validation and save the scores."
   ]
  },
  {
   "cell_type": "markdown",
   "id": "9ac2c7a9",
   "metadata": {},
   "source": [
    "##### Imports"
   ]
  },
  {
   "cell_type": "code",
   "execution_count": 1,
   "id": "dd145b3a",
   "metadata": {},
   "outputs": [
    {
     "name": "stderr",
     "output_type": "stream",
     "text": [
      "2023-04-19 21:45:43.364880: I tensorflow/tsl/cuda/cudart_stub.cc:28] Could not find cuda drivers on your machine, GPU will not be used.\n",
      "2023-04-19 21:45:43.417873: I tensorflow/tsl/cuda/cudart_stub.cc:28] Could not find cuda drivers on your machine, GPU will not be used.\n",
      "2023-04-19 21:45:43.418749: I tensorflow/core/platform/cpu_feature_guard.cc:182] This TensorFlow binary is optimized to use available CPU instructions in performance-critical operations.\n",
      "To enable the following instructions: AVX2 FMA, in other operations, rebuild TensorFlow with the appropriate compiler flags.\n",
      "2023-04-19 21:45:44.080690: W tensorflow/compiler/tf2tensorrt/utils/py_utils.cc:38] TF-TRT Warning: Could not find TensorRT\n"
     ]
    }
   ],
   "source": [
    "import os\n",
    "import re\n",
    "import glob\n",
    "import pickle\n",
    "import requests\n",
    "import zipfile\n",
    "import scipy as sp\n",
    "import numpy as np\n",
    "import pandas as pd\n",
    "import matplotlib.pyplot as plt\n",
    "from nlpaug.augmenter.word import WordEmbsAug\n",
    "from sklearn.linear_model import LogisticRegression\n",
    "from sklearn.feature_extraction.text import TfidfVectorizer"
   ]
  },
  {
   "cell_type": "markdown",
   "id": "19d89e2d",
   "metadata": {},
   "source": [
    "##### Set Parameters"
   ]
  },
  {
   "cell_type": "code",
   "execution_count": 2,
   "id": "ccfa5892",
   "metadata": {},
   "outputs": [],
   "source": [
    "ngram_range = (2, 4)\n",
    "min_df = 5\n",
    "max_df = 0.9\n",
    "sublinear_tf = True\n",
    "C = 0.1\n",
    "seed = 42\n",
    "max_iter = 5000\n",
    "penalty = \"l2\"\n",
    "solver = 'saga'\n",
    "model_key = 'lr_aug'\n",
    "results_dir = './results'\n",
    "input_dir = './data'\n",
    "\n",
    "sep2newlines = True\n",
    "sep_token = \"</s>\"\n",
    "double_newlines = \"\\n\\n\"\n",
    "\n",
    "add_synthetic = True\n",
    "aug_p = 0.3\n",
    "\n",
    "glove_file = 'data/glove.6B.50d.txt'\n",
    "glove_zip = 'data/glove.6B.zip'\n",
    "glove_url = 'http://nlp.stanford.edu/data/glove.6B.zip'"
   ]
  },
  {
   "cell_type": "markdown",
   "id": "2f78b64c",
   "metadata": {},
   "source": [
    "##### Load Formatted Data"
   ]
  },
  {
   "cell_type": "code",
   "execution_count": 3,
   "id": "710a85d0",
   "metadata": {},
   "outputs": [],
   "source": [
    "with open(os.path.join(input_dir, 'X_folds.pkl'), 'rb') as f:\n",
    "    X_folds = pickle.load(f)\n",
    "\n",
    "with open(os.path.join(input_dir, 'y_folds.pkl'), 'rb') as f:\n",
    "    y_folds = pickle.load(f)"
   ]
  },
  {
   "cell_type": "markdown",
   "id": "f7454ffd",
   "metadata": {},
   "source": [
    "##### Define a Download Function"
   ]
  },
  {
   "cell_type": "code",
   "execution_count": 4,
   "id": "a2eb1a20",
   "metadata": {},
   "outputs": [],
   "source": [
    "def download_file(url, filename):\n",
    "    \n",
    "    with open(filename, 'wb') as file:\n",
    "        response = requests.get(url)\n",
    "        file.write(response.content)"
   ]
  },
  {
   "cell_type": "markdown",
   "id": "6d77868f",
   "metadata": {},
   "source": [
    "##### Download GloVe Embeddings if Non-Existent"
   ]
  },
  {
   "cell_type": "code",
   "execution_count": 5,
   "id": "40151493",
   "metadata": {},
   "outputs": [],
   "source": [
    "if not os.path.isfile(glove_file):\n",
    "    \n",
    "    print('Downloading glove embeddings file...')\n",
    "    os.makedirs(input_dir, exist_ok=True)\n",
    "    \n",
    "    download_file(url, glove_zip)\n",
    "    \n",
    "    with zipfile.ZipFile(glove_zip, 'r') as zip_ref:\n",
    "        zip_ref.extractall(input_dir)\n",
    "        \n",
    "    os.remove(glove_zip)\n",
    "    print('Finished downloading glove embeddings file.')"
   ]
  },
  {
   "cell_type": "markdown",
   "id": "5d6b559a",
   "metadata": {},
   "source": [
    "##### Check Data Shape"
   ]
  },
  {
   "cell_type": "code",
   "execution_count": 6,
   "id": "bb7c83b6",
   "metadata": {},
   "outputs": [],
   "source": [
    "assert len(X_folds) == len(y_folds), \"Expected the same number of folds in X and y.\"\n",
    "X = list(X_folds.values())\n",
    "y = list(y_folds.values())"
   ]
  },
  {
   "cell_type": "code",
   "execution_count": 7,
   "id": "d66eae86",
   "metadata": {},
   "outputs": [
    {
     "data": {
      "text/plain": [
       "(5, 5)"
      ]
     },
     "execution_count": 7,
     "metadata": {},
     "output_type": "execute_result"
    }
   ],
   "source": [
    "len(X), len(y)"
   ]
  },
  {
   "cell_type": "code",
   "execution_count": 8,
   "id": "0f8d6316",
   "metadata": {},
   "outputs": [
    {
     "name": "stdout",
     "output_type": "stream",
     "text": [
      " 1\n",
      " 0\n",
      " 1\n",
      " 0\n",
      " 0\n",
      " 1\n",
      " 1\n",
      " 1\n",
      " 1\n",
      " 1\n",
      " 1\n",
      " 1\n",
      " 0\n"
     ]
    }
   ],
   "source": [
    "for x_fold, y_fold in zip(X, y):\n",
    "    for x_sample, target in zip(x_fold, y_fold):\n",
    "        if x_sample == '':\n",
    "            print(x_sample, target)"
   ]
  },
  {
   "cell_type": "markdown",
   "id": "aac7cd9d",
   "metadata": {},
   "source": [
    "##### Check Target Prevalence"
   ]
  },
  {
   "cell_type": "code",
   "execution_count": 9,
   "id": "2164340a",
   "metadata": {},
   "outputs": [
    {
     "name": "stdout",
     "output_type": "stream",
     "text": [
      "Target prevalance: 0.5277777777777778.\n"
     ]
    }
   ],
   "source": [
    "print(f\"Target prevalance: {np.mean(np.concatenate(y))}.\")"
   ]
  },
  {
   "cell_type": "markdown",
   "id": "85f2951e",
   "metadata": {},
   "source": [
    "##### Vectorize Text and Fit Model to Each Fold"
   ]
  },
  {
   "cell_type": "code",
   "execution_count": 10,
   "id": "45cc6d29",
   "metadata": {},
   "outputs": [
    {
     "name": "stdout",
     "output_type": "stream",
     "text": [
      "Fitting model using fold 0 as out of fold data.\n",
      "102\n",
      "102 102\n",
      "Fitting model using fold 1 as out of fold data.\n",
      "103\n",
      "103 103\n",
      "Fitting model using fold 2 as out of fold data.\n",
      "104\n",
      "104 104\n",
      "Fitting model using fold 3 as out of fold data.\n",
      "110\n",
      "110 110\n",
      "Fitting model using fold 4 as out of fold data.\n",
      "105\n",
      "105 105\n"
     ]
    }
   ],
   "source": [
    "y_probs, y_trues = [], []\n",
    "for i in range(len(X)):\n",
    "    \n",
    "    print(f\"Fitting model using fold {i} as out of fold data.\")\n",
    "    \n",
    "    # Define TFIDF vectorizer\n",
    "    tfidf_vectorizer = TfidfVectorizer(\n",
    "        sublinear_tf=sublinear_tf,\n",
    "        strip_accents=\"unicode\",\n",
    "        analyzer=\"word\",\n",
    "        token_pattern=r\"(?u)\\b\\w\\w+\\b\",\n",
    "        stop_words=\"english\",\n",
    "        ngram_range=ngram_range,\n",
    "        norm=\"l2\",\n",
    "        min_df=min_df,\n",
    "        max_df=max_df,\n",
    "        smooth_idf=False,\n",
    "        lowercase=True\n",
    "    )\n",
    "\n",
    "    # Identify train folds and shuffle samples\n",
    "    X_train, y_train = np.concatenate(X[0:i] + X[i+1:], axis=0), np.concatenate(y[0:i] + y[i+1:], axis=0)\n",
    "    indices = np.arange(len(y_train))\n",
    "    np.random.shuffle(indices)\n",
    "    X_train, y_train = X_train[indices], y_train[indices]\n",
    "    \n",
    "    # Identify test folds\n",
    "    X_test, y_test = X[i], y[i]\n",
    "\n",
    "    # Optionally replace sep token with double newlines\n",
    "    if sep2newlines:\n",
    "        X_train = np.array([sample.replace(sep_token, double_newlines) for sample in X_train])\n",
    "        X_test = np.array([sample.replace(sep_token, double_newlines) for sample in X_test])\n",
    "\n",
    "    # Vectorize text\n",
    "    train_features = tfidf_vectorizer.fit_transform(X_train)\n",
    "    test_features = tfidf_vectorizer.transform(X_test)\n",
    "    \n",
    "    # Optionally add synthetic samples\n",
    "    if add_synthetic:\n",
    "        \n",
    "        # Augment train data with synthetic text using WordEmbsAug\n",
    "        # .ContextualWordEmbsAug(model_path=\"roberta-large\", action=\"insert\")\n",
    "        aug = WordEmbsAug(model_type='glove', model_path=glove_file, action='insert', aug_p=aug_p)\n",
    "        \n",
    "        # Only augment non-empty samples\n",
    "        # In general, we should check for empty samples and possibly remove them\n",
    "        X_train_aug = []\n",
    "        y_train_aug = []\n",
    "        for sample, target in zip(X_train, y_train):\n",
    "            if sample != '':\n",
    "                aug_sample = aug.augment(sample)[0]\n",
    "                X_train_aug.append(aug_sample)\n",
    "                y_train_aug.append(target)\n",
    "        \n",
    "        # Vectorize synthetic text\n",
    "        train_features_aug = tfidf_vectorizer.transform(np.array(X_train_aug))\n",
    "        \n",
    "        # Combine original and synthetic text\n",
    "        train_features = sp.sparse.vstack([train_features, train_features_aug])\n",
    "        y_train = np.concatenate((y_train, y_train_aug), axis=0)\n",
    "        \n",
    "        # Shuffle combined training data\n",
    "        new_indices = np.arange(len(y_train))\n",
    "        np.random.shuffle(new_indices)\n",
    "        train_features, y_train = train_features[new_indices], y_train[new_indices]\n",
    "    \n",
    "    # Define and fit model\n",
    "    lr = LogisticRegression(\n",
    "        solver=solver,\n",
    "        fit_intercept=True,\n",
    "        max_iter=max_iter,\n",
    "        penalty=penalty,\n",
    "        C=C,\n",
    "        class_weight=None,\n",
    "        random_state=seed\n",
    "    )\n",
    "    lr.fit(train_features, y_train)\n",
    "    \n",
    "    # Predict on test folds and save labels and scores\n",
    "    y_prob = lr.predict_proba(test_features)[:, 1]\n",
    "    y_probs.append(y_prob)\n",
    "    y_trues.append(y_test)"
   ]
  },
  {
   "cell_type": "markdown",
   "id": "7da93cef",
   "metadata": {},
   "source": [
    "##### Save Model Probabilities on Test Folds and True Labels"
   ]
  },
  {
   "cell_type": "code",
   "execution_count": 11,
   "id": "6bbff8d9",
   "metadata": {},
   "outputs": [],
   "source": [
    "with open(os.path.join(results_dir, f'{model_key}_y_trues.pkl'), 'wb') as f:\n",
    "    pickle.dump(y_trues, f)\n",
    "\n",
    "with open(os.path.join(results_dir, f'{model_key}_y_probs.pkl'), 'wb') as f:\n",
    "    pickle.dump(y_probs, f)"
   ]
  },
  {
   "cell_type": "markdown",
   "id": "631d83e2",
   "metadata": {},
   "source": [
    "##### Fit a Model to All of the Data"
   ]
  },
  {
   "cell_type": "code",
   "execution_count": 12,
   "id": "627adea7",
   "metadata": {},
   "outputs": [],
   "source": [
    "X_train, y_train = np.concatenate(X, axis=0), np.concatenate(y, axis=0)\n",
    "indices = np.arange(len(y_train))\n",
    "np.random.shuffle(indices)\n",
    "X_train, y_train = X_train[indices], y_train[indices]\n",
    "\n",
    "tfidf_vectorizer = TfidfVectorizer(\n",
    "    sublinear_tf=sublinear_tf,\n",
    "    strip_accents=\"unicode\",\n",
    "    analyzer=\"word\",\n",
    "    token_pattern=r\"(?u)\\b\\w\\w+\\b\",\n",
    "    stop_words=\"english\",\n",
    "    ngram_range=ngram_range,\n",
    "    norm=\"l2\",\n",
    "    min_df=min_df,\n",
    "    max_df=max_df,\n",
    "    smooth_idf=False,\n",
    "    lowercase=True\n",
    ")\n",
    "\n",
    "train_features = tfidf_vectorizer.fit_transform(X_train)\n",
    "\n",
    "lr = LogisticRegression(\n",
    "    solver=solver,\n",
    "    fit_intercept=True,\n",
    "    max_iter=max_iter,\n",
    "    penalty=penalty,\n",
    "    class_weight=None,\n",
    "    random_state=seed\n",
    ")\n",
    "\n",
    "lr = lr.fit(train_features, y_train)"
   ]
  },
  {
   "cell_type": "markdown",
   "id": "1323782c",
   "metadata": {},
   "source": [
    "##### Define a Function to Plot the LR Model Coefficients"
   ]
  },
  {
   "cell_type": "code",
   "execution_count": 13,
   "id": "f8e7d81a",
   "metadata": {},
   "outputs": [],
   "source": [
    "def plot_coefs(clf, features, top_n=10, x_size=12, y_size=12):\n",
    "    \"\"\"\n",
    "    Plot top N coefficients by absolute value in descending order\n",
    "    \"\"\"\n",
    "\n",
    "    features_and_intercept = np.concatenate((features, ['intercept']), axis=0)\n",
    "    coefficients = np.concatenate((clf.coef_[0], clf.intercept_), axis=0)\n",
    "\n",
    "    indices = (-np.abs(coefficients)).argsort()\n",
    "    top_coefs = coefficients[indices][0: top_n].tolist()\n",
    "    top_feats = features_and_intercept[indices][0: top_n].tolist()\n",
    "    \n",
    "    top_coefs.reverse()\n",
    "    top_feats.reverse()\n",
    "\n",
    "    plt.clf()\n",
    "    plt.figure(figsize=(x_size, y_size))\n",
    "\n",
    "    plt.title('Logistic Regression Coefficients')\n",
    "    plt.barh(range(len(top_coefs)), top_coefs, color='navy', align='center')\n",
    "    plt.yticks(range(len(top_coefs)), top_feats)\n",
    "    plt.xlabel('Coefficient')\n",
    "    plt.ylabel('Feature')\n",
    "    plt.axvline(x=0, color='red', linestyle='--')\n",
    "\n",
    "    plt.show()"
   ]
  },
  {
   "cell_type": "markdown",
   "id": "370fbd9d",
   "metadata": {},
   "source": [
    "##### Plot Coefficients"
   ]
  },
  {
   "cell_type": "code",
   "execution_count": 14,
   "id": "7e7c315f",
   "metadata": {},
   "outputs": [
    {
     "data": {
      "text/plain": [
       "<Figure size 640x480 with 0 Axes>"
      ]
     },
     "metadata": {},
     "output_type": "display_data"
    },
    {
     "data": {
      "image/png": "[encoded data removed]",
      "text/plain": [
       "<Figure size 800x1000 with 1 Axes>"
      ]
     },
     "metadata": {},
     "output_type": "display_data"
    }
   ],
   "source": [
    "plot_coefs(\n",
    "    lr,\n",
    "    tfidf_vectorizer.get_feature_names_out(),\n",
    "    top_n=20,\n",
    "    x_size=8,\n",
    "    y_size=10\n",
    ")"
   ]
  }
 ],
 "metadata": {
  "kernelspec": {
   "display_name": "transcripts",
   "language": "python",
   "name": "transcripts"
  },
  "language_info": {
   "codemirror_mode": {
    "name": "ipython",
    "version": 3
   },
   "file_extension": ".py",
   "mimetype": "text/x-python",
   "name": "python",
   "nbconvert_exporter": "python",
   "pygments_lexer": "ipython3",
   "version": "3.8.16"
  }
 },
 "nbformat": 4,
 "nbformat_minor": 5
}
