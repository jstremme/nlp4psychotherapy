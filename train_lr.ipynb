{
 "cells": [
  {
   "cell_type": "markdown",
   "id": "6ea00513",
   "metadata": {},
   "source": [
    "### Train Logistic Regression\n",
    "\n",
    "- Joel Stremmel\n",
    "- 04-09-23\n",
    "\n",
    "##### About\n",
    "\n",
    "Train logistic regression on the formatted data using K-Fold Cross-Validation and save the scores."
   ]
  },
  {
   "cell_type": "markdown",
   "id": "9ac2c7a9",
   "metadata": {},
   "source": [
    "##### Imports"
   ]
  },
  {
   "cell_type": "code",
   "execution_count": 22,
   "id": "dd145b3a",
   "metadata": {},
   "outputs": [],
   "source": [
    "import os\n",
    "import re\n",
    "import glob\n",
    "import pickle\n",
    "import numpy as np\n",
    "import pandas as pd\n",
    "from sklearn.linear_model import LogisticRegression\n",
    "from sklearn.feature_extraction.text import TfidfVectorizer"
   ]
  },
  {
   "cell_type": "markdown",
   "id": "19d89e2d",
   "metadata": {},
   "source": [
    "##### Set Parameters"
   ]
  },
  {
   "cell_type": "code",
   "execution_count": 23,
   "id": "ccfa5892",
   "metadata": {},
   "outputs": [],
   "source": [
    "# Set sequence lengths for distribution plot and sentiment model\n",
    "dist_max_seq_len = 32768\n",
    "\n",
    "C = 0.1\n",
    "seed = 42"
   ]
  },
  {
   "cell_type": "markdown",
   "id": "2f78b64c",
   "metadata": {},
   "source": [
    "##### Load Formatted Data"
   ]
  },
  {
   "cell_type": "code",
   "execution_count": 24,
   "id": "710a85d0",
   "metadata": {},
   "outputs": [],
   "source": [
    "with open('data/X_folds.pkl', 'rb') as f:\n",
    "    X_folds = pickle.load(f)\n",
    "\n",
    "with open('data/y_folds.pkl', 'rb') as f:\n",
    "    y_folds = pickle.load(f)"
   ]
  },
  {
   "cell_type": "code",
   "execution_count": 25,
   "id": "bb7c83b6",
   "metadata": {},
   "outputs": [
    {
     "data": {
      "text/plain": [
       "10"
      ]
     },
     "execution_count": 25,
     "metadata": {},
     "output_type": "execute_result"
    }
   ],
   "source": [
    "len(X_folds)"
   ]
  },
  {
   "cell_type": "code",
   "execution_count": 26,
   "id": "af351f98",
   "metadata": {},
   "outputs": [
    {
     "data": {
      "text/plain": [
       "dict_values([[1, 0, 0, 1, 1, 1, 0, 0, 0], [1, 1, 1, 0, 0, 1, 1, 1], [1, 1, 0, 1, 1, 1, 0], [1, 0, 0, 0, 1, 1, 0, 0], [1, 1, 1, 0, 1, 1, 0], [1, 1, 1, 0, 0, 1, 1, 1], [1, 1, 0, 0, 0, 1, 0], [0, 0, 0], [1, 1, 0, 0, 1, 1], [1, 1, 1, 1, 0, 1, 1]])"
      ]
     },
     "execution_count": 26,
     "metadata": {},
     "output_type": "execute_result"
    }
   ],
   "source": [
    "y_folds.values()"
   ]
  },
  {
   "cell_type": "code",
   "execution_count": 36,
   "id": "45cc6d29",
   "metadata": {},
   "outputs": [
    {
     "name": "stdout",
     "output_type": "stream",
     "text": [
      "22311\n",
      "22311\n",
      "22092\n",
      "22092\n",
      "23734\n",
      "23734\n",
      "21764\n",
      "21764\n",
      "23155\n",
      "23155\n",
      "22533\n",
      "22533\n",
      "24001\n",
      "24001\n",
      "24831\n",
      "24831\n",
      "24276\n",
      "24276\n",
      "22476\n",
      "22476\n"
     ]
    }
   ],
   "source": [
    "\n",
    "assert len(X_folds) == len(y_folds), \"Expected the same number of folds in X and y.\"\n",
    "X = list(X_folds.values())\n",
    "y = list(y_folds.values())\n",
    "\n",
    "for i in range(len(X)):\n",
    "\n",
    "    tfidf_vectorizer = TfidfVectorizer(\n",
    "        sublinear_tf=True,\n",
    "        strip_accents=\"unicode\",\n",
    "        analyzer=\"word\",\n",
    "        token_pattern=r\"\\w{1,}\",\n",
    "        stop_words=\"english\",\n",
    "        ngram_range=(2, 3),\n",
    "        norm=\"l2\",\n",
    "        min_df=0.0001,\n",
    "        max_df=0.5,\n",
    "        smooth_idf=False\n",
    "    )\n",
    "    \n",
    "    X_train, y_train = np.concatenate(X[0:i] + X[i+1:]), np.concatenate(y[0:i] + y[i+1:])\n",
    "    indices = np.arange(len(y_train))\n",
    "    np.random.shuffle(indices)\n",
    "    X_train, y_train = X_train[indices], y_train[indices]\n",
    "    \n",
    "    X_test, y_test = X[i], y[i]\n",
    "    \n",
    "    train_features = tfidf_vectorizer.fit_transform(X_train)\n",
    "    test_features = tfidf_vectorizer.transform(X_test)\n",
    "    \n",
    "    lr = LogisticRegression(\n",
    "        solver=\"saga\",\n",
    "        fit_intercept=True,\n",
    "        max_iter=5000,\n",
    "        penalty=\"l1\",\n",
    "        C=C,\n",
    "        class_weight=None,\n",
    "        random_state=seed\n",
    "    )\n",
    "    \n",
    "    lr.fit(train_features, y_train)\n",
    "    \n",
    "    print(len(lr.coef_[0]))\n",
    "    print(len(tfidf_vectorizer.get_feature_names_out()))"
   ]
  },
  {
   "cell_type": "code",
   "execution_count": null,
   "id": "627adea7",
   "metadata": {},
   "outputs": [],
   "source": []
  },
  {
   "cell_type": "code",
   "execution_count": null,
   "id": "f8e7d81a",
   "metadata": {},
   "outputs": [],
   "source": []
  }
 ],
 "metadata": {
  "kernelspec": {
   "display_name": "transcripts",
   "language": "python",
   "name": "transcripts"
  },
  "language_info": {
   "codemirror_mode": {
    "name": "ipython",
    "version": 3
   },
   "file_extension": ".py",
   "mimetype": "text/x-python",
   "name": "python",
   "nbconvert_exporter": "python",
   "pygments_lexer": "ipython3",
   "version": "3.8.16"
  }
 },
 "nbformat": 4,
 "nbformat_minor": 5
}
