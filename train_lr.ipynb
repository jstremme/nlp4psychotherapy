{
 "cells": [
  {
   "cell_type": "markdown",
   "id": "6ea00513",
   "metadata": {},
   "source": [
    "### Train Logistic Regression\n",
    "\n",
    "- Joel Stremmel\n",
    "- 04-09-23\n",
    "\n",
    "##### About\n",
    "\n",
    "Train logistic regression on the formatted data using K-Fold Cross-Validation and save the scores."
   ]
  },
  {
   "cell_type": "markdown",
   "id": "9ac2c7a9",
   "metadata": {},
   "source": [
    "##### Imports"
   ]
  },
  {
   "cell_type": "code",
   "execution_count": 1,
   "id": "dd145b3a",
   "metadata": {},
   "outputs": [],
   "source": [
    "import os\n",
    "import re\n",
    "import glob\n",
    "import pickle\n",
    "import numpy as np\n",
    "import pandas as pd\n",
    "import matplotlib.pyplot as plt\n",
    "from sklearn.linear_model import LogisticRegression\n",
    "from sklearn.feature_extraction.text import TfidfVectorizer"
   ]
  },
  {
   "cell_type": "markdown",
   "id": "19d89e2d",
   "metadata": {},
   "source": [
    "##### Set Parameters"
   ]
  },
  {
   "cell_type": "code",
   "execution_count": 2,
   "id": "ccfa5892",
   "metadata": {},
   "outputs": [],
   "source": [
    "ngram_range = (2, 4)\n",
    "min_df = 5\n",
    "max_df = 0.9\n",
    "sublinear_tf = True\n",
    "C = 0.1\n",
    "seed = 42\n",
    "max_iter = 5000\n",
    "penalty = \"l2\"\n",
    "solver = 'saga'"
   ]
  },
  {
   "cell_type": "markdown",
   "id": "2f78b64c",
   "metadata": {},
   "source": [
    "##### Load Formatted Data"
   ]
  },
  {
   "cell_type": "code",
   "execution_count": 3,
   "id": "710a85d0",
   "metadata": {},
   "outputs": [],
   "source": [
    "with open('data/X_folds.pkl', 'rb') as f:\n",
    "    X_folds = pickle.load(f)\n",
    "\n",
    "with open('data/y_folds.pkl', 'rb') as f:\n",
    "    y_folds = pickle.load(f)"
   ]
  },
  {
   "cell_type": "markdown",
   "id": "5d6b559a",
   "metadata": {},
   "source": [
    "##### Check Data Shape"
   ]
  },
  {
   "cell_type": "code",
   "execution_count": 4,
   "id": "bb7c83b6",
   "metadata": {},
   "outputs": [],
   "source": [
    "assert len(X_folds) == len(y_folds), \"Expected the same number of folds in X and y.\"\n",
    "X = list(X_folds.values())\n",
    "y = list(y_folds.values())"
   ]
  },
  {
   "cell_type": "markdown",
   "id": "aac7cd9d",
   "metadata": {},
   "source": [
    "##### Check Target Prevalence"
   ]
  },
  {
   "cell_type": "code",
   "execution_count": 5,
   "id": "2164340a",
   "metadata": {},
   "outputs": [
    {
     "name": "stdout",
     "output_type": "stream",
     "text": [
      "Target prevalance: 0.5.\n"
     ]
    }
   ],
   "source": [
    "print(f\"Target prevalance: {np.mean(np.concatenate(y))}.\")"
   ]
  },
  {
   "cell_type": "markdown",
   "id": "85f2951e",
   "metadata": {},
   "source": [
    "##### Vectorize Text and Fit Model to Each Fold"
   ]
  },
  {
   "cell_type": "code",
   "execution_count": 6,
   "id": "45cc6d29",
   "metadata": {},
   "outputs": [],
   "source": [
    "y_probs, y_trues = [], []\n",
    "for i in range(len(X)):\n",
    "\n",
    "    tfidf_vectorizer = TfidfVectorizer(\n",
    "        sublinear_tf=sublinear_tf,\n",
    "        strip_accents=\"unicode\",\n",
    "        analyzer=\"word\",\n",
    "        token_pattern=r\"(?u)\\b\\w\\w+\\b\",\n",
    "        stop_words=\"english\",\n",
    "        ngram_range=ngram_range,\n",
    "        norm=\"l2\",\n",
    "        min_df=min_df,\n",
    "        max_df=max_df,\n",
    "        smooth_idf=False,\n",
    "        lowercase=True\n",
    "    )\n",
    "    \n",
    "    X_train, y_train = np.concatenate(X[0:i] + X[i+1:], axis=0), np.concatenate(y[0:i] + y[i+1:], axis=0)\n",
    "    indices = np.arange(len(y_train))\n",
    "    np.random.shuffle(indices)\n",
    "    X_train, y_train = X_train[indices], y_train[indices]\n",
    "    \n",
    "    X_test, y_test = X[i], y[i]\n",
    "    \n",
    "    train_features = tfidf_vectorizer.fit_transform(X_train)\n",
    "    test_features = tfidf_vectorizer.transform(X_test)\n",
    "    \n",
    "    lr = LogisticRegression(\n",
    "        solver=solver,\n",
    "        fit_intercept=True,\n",
    "        max_iter=max_iter,\n",
    "        penalty=penalty,\n",
    "        C=C,\n",
    "        class_weight=None,\n",
    "        random_state=seed\n",
    "    )\n",
    "    \n",
    "    lr.fit(train_features, y_train)\n",
    "    \n",
    "    y_prob = lr.predict_proba(test_features)[:, 1]\n",
    "    y_probs.append(y_prob)\n",
    "    y_trues.append(y_test)"
   ]
  },
  {
   "cell_type": "markdown",
   "id": "7da93cef",
   "metadata": {},
   "source": [
    "##### Save Model Probabilities on Test Folds and True Labels"
   ]
  },
  {
   "cell_type": "code",
   "execution_count": 7,
   "id": "6bbff8d9",
   "metadata": {},
   "outputs": [],
   "source": [
    "with open('results/lr_y_trues.pkl', 'wb') as f:\n",
    "    pickle.dump(y_trues, f)\n",
    "\n",
    "with open('results/lr_y_probs.pkl', 'wb') as f:\n",
    "    pickle.dump(y_probs, f)"
   ]
  },
  {
   "cell_type": "markdown",
   "id": "631d83e2",
   "metadata": {},
   "source": [
    "##### Fit a Model to All of the Data"
   ]
  },
  {
   "cell_type": "code",
   "execution_count": 8,
   "id": "627adea7",
   "metadata": {},
   "outputs": [],
   "source": [
    "X_train, y_train = np.concatenate(X, axis=0), np.concatenate(y, axis=0)\n",
    "indices = np.arange(len(y_train))\n",
    "np.random.shuffle(indices)\n",
    "X_train, y_train = X_train[indices], y_train[indices]\n",
    "\n",
    "tfidf_vectorizer = TfidfVectorizer(\n",
    "    sublinear_tf=sublinear_tf,\n",
    "    strip_accents=\"unicode\",\n",
    "    analyzer=\"word\",\n",
    "    token_pattern=r\"(?u)\\b\\w\\w+\\b\",\n",
    "    stop_words=\"english\",\n",
    "    ngram_range=ngram_range,\n",
    "    norm=\"l2\",\n",
    "    min_df=min_df,\n",
    "    max_df=max_df,\n",
    "    smooth_idf=False,\n",
    "    lowercase=True\n",
    ")\n",
    "\n",
    "train_features = tfidf_vectorizer.fit_transform(X_train)\n",
    "\n",
    "lr = LogisticRegression(\n",
    "    solver=solver,\n",
    "    fit_intercept=True,\n",
    "    max_iter=max_iter,\n",
    "    penalty=penalty,\n",
    "    class_weight=None,\n",
    "    random_state=seed\n",
    ")\n",
    "\n",
    "lr = lr.fit(train_features, y_train)"
   ]
  },
  {
   "cell_type": "markdown",
   "id": "1323782c",
   "metadata": {},
   "source": [
    "##### Define a Function to Plot the LR Model Coefficients"
   ]
  },
  {
   "cell_type": "code",
   "execution_count": 9,
   "id": "f8e7d81a",
   "metadata": {},
   "outputs": [],
   "source": [
    "def plot_coefs(clf, features, top_n=10, x_size=12, y_size=12):\n",
    "    \"\"\"\n",
    "    Plot top N coefficients by absolute value in descending order\n",
    "    \"\"\"\n",
    "\n",
    "    features_and_intercept = np.concatenate((features, ['intercept']), axis=0)\n",
    "    coefficients = np.concatenate((clf.coef_[0], clf.intercept_), axis=0)\n",
    "\n",
    "    indices = (-np.abs(coefficients)).argsort()\n",
    "    top_coefs = coefficients[indices][0: top_n].tolist()\n",
    "    top_feats = features_and_intercept[indices][0: top_n].tolist()\n",
    "    \n",
    "    top_coefs.reverse()\n",
    "    top_feats.reverse()\n",
    "\n",
    "    plt.clf()\n",
    "    plt.figure(figsize=(x_size, y_size))\n",
    "\n",
    "    plt.title('Logistic Regression Coefficients')\n",
    "    plt.barh(range(len(top_coefs)), top_coefs, color='navy', align='center')\n",
    "    plt.yticks(range(len(top_coefs)), top_feats)\n",
    "    plt.xlabel('Coefficient')\n",
    "    plt.ylabel('Feature')\n",
    "    plt.axvline(x=0, color='red', linestyle='--')\n",
    "\n",
    "    plt.show()"
   ]
  },
  {
   "cell_type": "markdown",
   "id": "370fbd9d",
   "metadata": {},
   "source": [
    "##### Plot Coefficients"
   ]
  },
  {
   "cell_type": "code",
   "execution_count": 10,
   "id": "7e7c315f",
   "metadata": {},
   "outputs": [
    {
     "data": {
      "text/plain": [
       "<Figure size 640x480 with 0 Axes>"
      ]
     },
     "metadata": {},
     "output_type": "display_data"
    },
    {
     "data": {
      "image/png": "[encoded data removed]",
      "text/plain": [
       "<Figure size 800x1000 with 1 Axes>"
      ]
     },
     "metadata": {},
     "output_type": "display_data"
    }
   ],
   "source": [
    "plot_coefs(\n",
    "    lr,\n",
    "    tfidf_vectorizer.get_feature_names_out(),\n",
    "    top_n=20,\n",
    "    x_size=8,\n",
    "    y_size=10\n",
    ")"
   ]
  },
  {
   "cell_type": "code",
   "execution_count": null,
   "id": "6e4d8469",
   "metadata": {},
   "outputs": [],
   "source": []
  }
 ],
 "metadata": {
  "kernelspec": {
   "display_name": "transcripts",
   "language": "python",
   "name": "transcripts"
  },
  "language_info": {
   "codemirror_mode": {
    "name": "ipython",
    "version": 3
   },
   "file_extension": ".py",
   "mimetype": "text/x-python",
   "name": "python",
   "nbconvert_exporter": "python",
   "pygments_lexer": "ipython3",
   "version": "3.8.16"
  }
 },
 "nbformat": 4,
 "nbformat_minor": 5
}
