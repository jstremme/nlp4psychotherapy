{
 "cells": [
  {
   "cell_type": "markdown",
   "id": "6ea00513",
   "metadata": {},
   "source": [
    "### Describe and Format Data for Modeling\n",
    "\n",
    "- Joel Stremmel\n",
    "- 01-26-24\n",
    "\n",
    "##### About\n",
    "\n",
    "Format the transcript data and survery responses to train binary classifiers with K-Fold cross-validation."
   ]
  },
  {
   "cell_type": "markdown",
   "id": "9ac2c7a9",
   "metadata": {},
   "source": [
    "##### Imports"
   ]
  },
  {
   "cell_type": "code",
   "execution_count": 1,
   "id": "dd145b3a",
   "metadata": {},
   "outputs": [],
   "source": [
    "import os\n",
    "import re\n",
    "import glob\n",
    "import torch\n",
    "import pickle\n",
    "import statistics\n",
    "import matplotlib\n",
    "import matplotlib.pyplot as plt\n",
    "import seaborn as sb\n",
    "import pandas as pd\n",
    "from pdfminer.high_level import extract_text\n",
    "from transformers import AutoTokenizer, pipeline, AutoModelForCausalLM\n",
    "from summarize import summarize_transcript"
   ]
  },
  {
   "cell_type": "markdown",
   "id": "19d89e2d",
   "metadata": {},
   "source": [
    "##### Set Parameters"
   ]
  },
  {
   "cell_type": "code",
   "execution_count": 2,
   "id": "9b8dafa1",
   "metadata": {},
   "outputs": [],
   "source": [
    "# Set sequence lengths for distribution plot and sentiment model\n",
    "dist_max_seq_len = 32768\n",
    "\n",
    "# Set model/tokenizer paths\n",
    "dist_tokenizer_path = \"roberta-base\"\n",
    "\n",
    "# Define data directory\n",
    "pdf_dir = \"./data/fall_2023/session_transcripts/\"\n",
    "\n",
    "# Define survey data path\n",
    "survey_path = \"./data/fall_2023/WDS_Session_Survey.xlsx\"\n",
    "\n",
    "# Group leaders\n",
    "leaders_iter2 = [\n",
    "    \"Leader 1 (she/her)\",\n",
    "    \"Leader 2 (she/her/hers)\",\n",
    "]\n",
    "\n",
    "leaders_iter3 = [\n",
    "    \"Leader 1\",\n",
    "    \"Leader 3\"\n",
    "]\n",
    "\n",
    "# Define total number of sessions\n",
    "num_sessions_iter2 = 10\n",
    "num_sessions_iter3 = 12\n",
    "total_num_sessions = num_sessions_iter2 + num_sessions_iter3\n",
    "\n",
    "# Define the number of folds for K-Fold CV as a fraction  of the number of sessions\n",
    "# Set to -1 for the number of folds to be equal to the number of sessions\n",
    "# Otherwise, the number of folds is equal to the total number of sessions divided by this value\n",
    "div_num_folds = 2 #-1\n",
    "\n",
    "# Plot size\n",
    "matplotlib.rcParams[\"figure.figsize\"] = (9, 7)\n",
    "\n",
    "# Set the default color cycle\n",
    "CB_color_cycle = [\n",
    "    \"#377eb8\",\n",
    "    \"#ff7f00\",\n",
    "    \"#4daf4a\",\n",
    "    \"#f781bf\",\n",
    "    \"#a65628\",\n",
    "    \"#984ea3\",\n",
    "    \"#999999\",\n",
    "    \"#e41a1c\",\n",
    "    \"#dede00\",\n",
    "    \"#000000\",\n",
    "    \"#8DA0CB\",\n",
    "    \"#A6D854\",\n",
    "    \"#E5C494\",\n",
    "]\n",
    "matplotlib.rcParams[\"axes.prop_cycle\"] = matplotlib.cycler(color=CB_color_cycle)\n",
    "\n",
    "# Define separator token for utterances\n",
    "sep_token = \"</s>\"\n",
    "\n",
    "# Outcome variable\n",
    "outcome = 'Alliance' #'cohesion' # \"Alliance\"\n",
    "\n",
    "# Define outcome cutoff\n",
    "outcome_cutoff = 36 # 36  # 4\n",
    "\n",
    "# Optionally add a summary of each transcript to the text data\n",
    "add_summaries = True\n",
    "\n",
    "# ADD THE ABILITY TO SUMMARIZE INDIVIDUAL PARTICIPANT UTTERANCES!!!\n",
    "# COMBINE WITH SESSION TRANSCRIPT SUMMARIES\n",
    "\n",
    "# Define a seperator other than the sep token if adding summary\n",
    "# Instead of seperating utterances with the sep token, this approach\n",
    "# Uses the sep token to seperate the summary from the utterances and another\n",
    "# Token to seperate utterances\n",
    "utterance_seperator = \"\\n\\n\"\n",
    "\n",
    "# Transcript topic for summarizer\n",
    "# and thing to focus on when generating summaries\n",
    "transcript_topic = \"group therapy\"\n",
    "wrt = f\"group {outcome.lower()}\"\n",
    "\n",
    "# LLM config\n",
    "config = {'max_new_tokens': 512, 'temperature': 0.7, 'context_length': 4096}\n",
    "\n",
    "# Define a place to save the summaries for reference\n",
    "summaries_output_dir_iter2 = f\"results/{outcome.lower()}_summaries_iter2/\"\n",
    "summaries_output_dir_iter3 = f\"results/{outcome.lower()}_summaries_iter3/\""
   ]
  },
  {
   "cell_type": "markdown",
   "id": "e82da9ae",
   "metadata": {},
   "source": [
    "##### Load Tokenizer"
   ]
  },
  {
   "cell_type": "code",
   "execution_count": 3,
   "id": "d88c647a",
   "metadata": {},
   "outputs": [],
   "source": [
    "dist_tokenizer = AutoTokenizer.from_pretrained(dist_tokenizer_path)"
   ]
  },
  {
   "cell_type": "markdown",
   "id": "2f78b64c",
   "metadata": {},
   "source": [
    "##### Load Survey Data"
   ]
  },
  {
   "cell_type": "code",
   "execution_count": 4,
   "id": "710a85d0",
   "metadata": {},
   "outputs": [
    {
     "data": {
      "text/plain": [
       "(141, 18)"
      ]
     },
     "execution_count": 4,
     "metadata": {},
     "output_type": "execute_result"
    }
   ],
   "source": [
    "df = pd.read_excel(survey_path)\n",
    "df.shape"
   ]
  },
  {
   "cell_type": "markdown",
   "id": "5fc49dc6",
   "metadata": {},
   "source": [
    "##### Define Score and Text Dataframes from Surveys"
   ]
  },
  {
   "cell_type": "code",
   "execution_count": 5,
   "id": "f934861b",
   "metadata": {},
   "outputs": [],
   "source": [
    "score_df = df[\n",
    "    [\"wdscode\",\n",
    "     \"pseudonym\",\n",
    "     \"id\",\n",
    "     \"iteration\",\n",
    "     \"session\",\n",
    "     outcome\n",
    "    ]\n",
    "]"
   ]
  },
  {
   "cell_type": "markdown",
   "id": "01db8ad6",
   "metadata": {},
   "source": [
    "##### Handle Nulls\n",
    "For now, drop rows where the outcome rating is missing."
   ]
  },
  {
   "cell_type": "code",
   "execution_count": 6,
   "id": "1368091f",
   "metadata": {},
   "outputs": [],
   "source": [
    "score_df = score_df[~df[[outcome]].isnull().any(axis=1)]"
   ]
  },
  {
   "cell_type": "markdown",
   "id": "af41458a",
   "metadata": {},
   "source": [
    "##### Fix Casing\n",
    "There were some other typos of participants names in the Excel file that I manually fixed."
   ]
  },
  {
   "cell_type": "code",
   "execution_count": 7,
   "id": "10022173",
   "metadata": {},
   "outputs": [],
   "source": [
    "score_df['wdscode'] = score_df['wdscode'].apply(lambda x: x.capitalize())"
   ]
  },
  {
   "cell_type": "markdown",
   "id": "1cb82d11",
   "metadata": {},
   "source": [
    "##### Identify Participants"
   ]
  },
  {
   "cell_type": "code",
   "execution_count": 8,
   "id": "b5420bee",
   "metadata": {},
   "outputs": [],
   "source": [
    "participant_text_names_iter2 = [x + '_2' for x in score_df[score_df['iteration'] == 2]['pseudonym'].unique()]"
   ]
  },
  {
   "cell_type": "code",
   "execution_count": 9,
   "id": "6ea04934",
   "metadata": {},
   "outputs": [
    {
     "data": {
      "text/plain": [
       "['Betty_2',\n",
       " 'Martha_2',\n",
       " 'Sharon_2',\n",
       " 'Cecilia_2',\n",
       " 'Addison_2',\n",
       " 'Gemma_2',\n",
       " 'Bonnie_2',\n",
       " 'Penny_2',\n",
       " 'Tanya_2',\n",
       " 'Maya_2']"
      ]
     },
     "execution_count": 9,
     "metadata": {},
     "output_type": "execute_result"
    }
   ],
   "source": [
    "participant_text_names_iter2"
   ]
  },
  {
   "cell_type": "code",
   "execution_count": 10,
   "id": "f09178ef",
   "metadata": {},
   "outputs": [],
   "source": [
    "participants_iter2 = score_df[score_df['iteration'] == 2]['wdscode'].unique().tolist()"
   ]
  },
  {
   "cell_type": "code",
   "execution_count": 11,
   "id": "3f16e39b",
   "metadata": {},
   "outputs": [
    {
     "data": {
      "text/plain": [
       "['Greendog6',\n",
       " 'Bluecat11',\n",
       " 'Purplepanda5',\n",
       " 'Greenbird10',\n",
       " 'Pinkrat9',\n",
       " 'Greenpanda4',\n",
       " 'Tealpika8',\n",
       " 'Pinkelephant7',\n",
       " 'Purplepangolin2',\n",
       " 'Purpledolphin6']"
      ]
     },
     "execution_count": 11,
     "metadata": {},
     "output_type": "execute_result"
    }
   ],
   "source": [
    "participants_iter2"
   ]
  },
  {
   "cell_type": "code",
   "execution_count": 12,
   "id": "a9d9385e",
   "metadata": {},
   "outputs": [],
   "source": [
    "participants_iter3 = score_df[score_df['iteration'] == 3]['wdscode'].unique().tolist()"
   ]
  },
  {
   "cell_type": "code",
   "execution_count": 13,
   "id": "ee37d45f",
   "metadata": {},
   "outputs": [
    {
     "data": {
      "text/plain": [
       "['Silverdog7',\n",
       " 'Purplelion6',\n",
       " 'Bluephoenix08',\n",
       " 'Purpledog8',\n",
       " 'Redmonkey7',\n",
       " 'Greendino4',\n",
       " 'Purpledragonfly9',\n",
       " 'Dustyrosechihuahua5',\n",
       " 'Rainbowwhale7']"
      ]
     },
     "execution_count": 13,
     "metadata": {},
     "output_type": "execute_result"
    }
   ],
   "source": [
    "participants_iter3"
   ]
  },
  {
   "cell_type": "markdown",
   "id": "26eba526",
   "metadata": {},
   "source": [
    "##### View Outcome Distribution for Participants"
   ]
  },
  {
   "cell_type": "code",
   "execution_count": 14,
   "id": "87a7a89e",
   "metadata": {},
   "outputs": [
    {
     "data": {
      "image/png": "[encoded data removed]",
      "text/plain": [
       "<Figure size 900x700 with 1 Axes>"
      ]
     },
     "metadata": {},
     "output_type": "display_data"
    }
   ],
   "source": [
    "plt.hist(score_df[outcome], bins=6)\n",
    "plt.xlabel(outcome)\n",
    "plt.ylabel(\"Frequency\")\n",
    "plt.title(f\"{outcome} Distribution (Mean {round(score_df[outcome].mean(), 2)}; Stdv {round(score_df[outcome].std(), 2)})\")\n",
    "plt.show()"
   ]
  },
  {
   "cell_type": "markdown",
   "id": "6ba1d72f",
   "metadata": {},
   "source": [
    "##### View Binarized Outcome Distribution for Participants"
   ]
  },
  {
   "cell_type": "code",
   "execution_count": null,
   "id": "204e711f",
   "metadata": {},
   "outputs": [],
   "source": [
    "plt.hist([1 if x >= outcome_cutoff else 0 for x in score_df[outcome].tolist()])\n",
    "plt.xlabel(\"Outcome\")\n",
    "plt.ylabel(\"Frequency\")\n",
    "plt.title(\"Outcome Distribution\")\n",
    "plt.show()\n",
    "\n",
    "print(f\"Below cutoff: {score_df[score_df[outcome] < outcome_cutoff].shape[0]}.\")\n",
    "print(f\"Above cutoff: {score_df[score_df[outcome] >= outcome_cutoff].shape[0]}.\")"
   ]
  },
  {
   "cell_type": "markdown",
   "id": "464372bc",
   "metadata": {},
   "source": [
    "##### Plot Scores per Participant per Session"
   ]
  },
  {
   "cell_type": "code",
   "execution_count": null,
   "id": "11bb21e3",
   "metadata": {},
   "outputs": [],
   "source": [
    "def plot_scores_per_participant_per_session(participants, outcome):\n",
    "    \n",
    "    fig, ax = plt.subplots()\n",
    "    for participant in participants:\n",
    "        x = score_df[score_df[\"wdscode\"] == participant][\"session\"].tolist()\n",
    "        y = score_df[score_df[\"wdscode\"] == participant][outcome].tolist()\n",
    "        ax.plot(x, y, label=participant)\n",
    "\n",
    "        # Set plot title and axis labels\n",
    "        ax.set_title(f\"{outcome} per Session per Participant\")\n",
    "        ax.set_xlabel(\"Session Number\")\n",
    "        ax.set_ylabel(f\"{outcome}\")\n",
    "\n",
    "        # Set legend\n",
    "        ax.legend(fontsize=6, loc=\"best\")\n",
    "\n",
    "    # Show plot\n",
    "    plt.show()"
   ]
  },
  {
   "cell_type": "code",
   "execution_count": null,
   "id": "71f7f296",
   "metadata": {},
   "outputs": [],
   "source": [
    "plot_scores_per_participant_per_session(participants_iter2, outcome)"
   ]
  },
  {
   "cell_type": "code",
   "execution_count": null,
   "id": "9d6a0616",
   "metadata": {},
   "outputs": [],
   "source": [
    "plot_scores_per_participant_per_session(participants_iter3, outcome)"
   ]
  },
  {
   "cell_type": "markdown",
   "id": "2e2d84bc",
   "metadata": {},
   "source": [
    "##### Collect PDFs of Transcripts"
   ]
  },
  {
   "cell_type": "code",
   "execution_count": null,
   "id": "1e8bdce2",
   "metadata": {},
   "outputs": [],
   "source": [
    "iter2_pdf_files = glob.glob(os.path.join(os.path.join(pdf_dir, 'WDS2'), \"*.pdf\"))\n",
    "iter3_pdf_files = glob.glob(os.path.join(os.path.join(pdf_dir, 'WDS3'), \"*.pdf\"))"
   ]
  },
  {
   "cell_type": "markdown",
   "id": "ec8fefb7",
   "metadata": {},
   "source": [
    "##### Define Function to Remove Lines"
   ]
  },
  {
   "cell_type": "code",
   "execution_count": null,
   "id": "0ccf6a15",
   "metadata": {},
   "outputs": [],
   "source": [
    "def should_remove(line):\n",
    "    line = line.strip()\n",
    "    if line.isdigit() or not line or (line.startswith(\"{\") and line.endswith(\"}\")) or 'WDS Iteration' in line:\n",
    "        return True"
   ]
  },
  {
   "cell_type": "markdown",
   "id": "dd625bf9",
   "metadata": {},
   "source": [
    "##### Extract Text and Collect Utterances"
   ]
  },
  {
   "cell_type": "code",
   "execution_count": null,
   "id": "11b8dce8",
   "metadata": {},
   "outputs": [],
   "source": [
    "def collect_utterances(pdf_files, speakers):\n",
    "\n",
    "    # Save complete utterances\n",
    "    speaker_utterances = {\n",
    "        speaker: {num: [] for num in range(len(pdf_files))} for speaker in speakers\n",
    "    }\n",
    "\n",
    "    # Save session text\n",
    "    session_texts = []\n",
    "\n",
    "    # Iterate through files to extract words\n",
    "    for i, file in enumerate(pdf_files):\n",
    "        # Reset current speaker\n",
    "        current_speaker = None\n",
    "\n",
    "        # Reset utterance\n",
    "        utterance = \"\"\n",
    "\n",
    "        # Extract text\n",
    "        text = extract_text(file)\n",
    "\n",
    "        # Replace \\x0c chars with empty strings\n",
    "        pattern = r\"\\x0c\\d+\"\n",
    "        text = re.sub(pattern, \"\", text)\n",
    "\n",
    "        # Replace tabs with spaces\n",
    "        text = text.replace(\"\\t\", \" \")\n",
    "\n",
    "        # Save texts with single newlines removed but not double newlines\n",
    "        pattern = r\"(?<!\\n)\\n(?!\\n)\"\n",
    "        session_texts.append(re.sub(pattern, \"\", text))\n",
    "\n",
    "        # Iterate through text split on newlines\n",
    "        for line in text.split(\"\\n\"):\n",
    "            # If the line is blank, keep going\n",
    "            if not line or line.strip() == \"\" or line == \"\\n\":\n",
    "                continue\n",
    "\n",
    "            # Check if one of the speakers is speaking\n",
    "            for speaker in speakers:\n",
    "                if line.startswith(speaker + \":\"):\n",
    "                    # If the current speaker is the same as this speaker, keep going\n",
    "                    if current_speaker == speaker:\n",
    "                        break\n",
    "\n",
    "                    # Otherwise, we have a new speaker and we want to save the full utterance\n",
    "                    # from the previous speaker, set the new speaker, and reset the utterance\n",
    "                    # If the current speaker is None, it's our first iteration and there's\n",
    "                    # Nothing to save\n",
    "                    else:\n",
    "                        if current_speaker is None:\n",
    "                            assert utterance == \"\", \"Expected utterance to be empty.\"\n",
    "                        else:\n",
    "                            speaker_utterances[current_speaker][i].append(utterance)\n",
    "                        current_speaker = speaker\n",
    "                        utterance = \"\"\n",
    "\n",
    "            # If we have a current speaker, add the utterance\n",
    "            if current_speaker:\n",
    "                # Handle empty lines, bracketted info, and page numbers\n",
    "                if should_remove(line):\n",
    "                    continue\n",
    "\n",
    "                # Remove the speaker name from the line\n",
    "                # Split on any number of whitespaces to define the words in the line\n",
    "                clean_line = line.replace(current_speaker + \":\", \"\")\n",
    "\n",
    "                # Add to the utterance which will contain words seperated only by single spaces\n",
    "                utterance += \" \".join(clean_line.split())\n",
    "                \n",
    "    return speaker_utterances, session_texts"
   ]
  },
  {
   "cell_type": "code",
   "execution_count": null,
   "id": "f8e2ae35",
   "metadata": {},
   "outputs": [],
   "source": [
    "speaker_utterances_iter2, session_texts_iter2 = collect_utterances(\n",
    "    pdf_files=iter2_pdf_files, \n",
    "    speakers=participant_text_names_iter2 + leaders_iter2\n",
    ")"
   ]
  },
  {
   "cell_type": "code",
   "execution_count": null,
   "id": "b4bd0552",
   "metadata": {},
   "outputs": [],
   "source": [
    "speaker_utterances_iter3, session_texts_iter3 = collect_utterances(\n",
    "    pdf_files=iter3_pdf_files,\n",
    "    speakers=participants_iter3 + leaders_iter3\n",
    ")"
   ]
  },
  {
   "cell_type": "markdown",
   "id": "a50de07b",
   "metadata": {},
   "source": [
    "##### Define Function to Differentiate between Participants and Leaders"
   ]
  },
  {
   "cell_type": "code",
   "execution_count": null,
   "id": "65da56e9",
   "metadata": {},
   "outputs": [],
   "source": [
    "def add_leader_tag(d, leaders):\n",
    "    d_plot = {}\n",
    "    for k, v in d.items():\n",
    "        if k in leaders:\n",
    "            d_plot[k + \" - Leader\"] = v\n",
    "        else:\n",
    "            d_plot[k] = v\n",
    "\n",
    "    return d_plot"
   ]
  },
  {
   "cell_type": "markdown",
   "id": "6bb33c13",
   "metadata": {},
   "source": [
    "##### Plot the Number of Utterances from Each Speaker for Each Session"
   ]
  },
  {
   "cell_type": "code",
   "execution_count": null,
   "id": "03677023",
   "metadata": {},
   "outputs": [],
   "source": [
    "def plot_num_utterances_per_speaker_per_session(speaker_utterances, leaders):\n",
    "    \n",
    "    # Create plot\n",
    "    fig, ax = plt.subplots()\n",
    "    for key in speaker_utterances:\n",
    "        x = list(speaker_utterances[key].keys())\n",
    "        y = [len(speaker_utterances[key][i]) for i in x]\n",
    "\n",
    "        if key in leaders:\n",
    "            label = key + \" - Leader\"\n",
    "        else:\n",
    "            label = key\n",
    "\n",
    "        ax.plot(x, y, label=label)\n",
    "\n",
    "    # Set plot title and axis labels\n",
    "    ax.set_title(\"Number of Utterances per Session per Speaker\")\n",
    "    ax.set_xlabel(\"Session Number\")\n",
    "    ax.set_ylabel(\"Number of Utterances\")\n",
    "\n",
    "    # Set legend\n",
    "    ax.legend(fontsize=6, loc=\"best\")\n",
    "\n",
    "    # Show plot\n",
    "    plt.show()"
   ]
  },
  {
   "cell_type": "code",
   "execution_count": null,
   "id": "4b2c7d91",
   "metadata": {},
   "outputs": [],
   "source": [
    "plot_num_utterances_per_speaker_per_session(speaker_utterances_iter2, leaders_iter2)"
   ]
  },
  {
   "cell_type": "code",
   "execution_count": null,
   "id": "0b70b870",
   "metadata": {},
   "outputs": [],
   "source": [
    "plot_num_utterances_per_speaker_per_session(speaker_utterances_iter3, leaders_iter3)"
   ]
  },
  {
   "cell_type": "markdown",
   "id": "4e74d26c",
   "metadata": {},
   "source": [
    "##### Filter to Participants"
   ]
  },
  {
   "cell_type": "code",
   "execution_count": null,
   "id": "a87749e3",
   "metadata": {},
   "outputs": [],
   "source": [
    "participant_utterances_iter2 = {\n",
    "    k: v for k, v in speaker_utterances_iter2.items() if k not in leaders_iter2\n",
    "}\n",
    "\n",
    "participant_utterances_iter3 = {\n",
    "    k: v for k, v in speaker_utterances_iter3.items() if k not in leaders_iter3\n",
    "}"
   ]
  },
  {
   "cell_type": "markdown",
   "id": "af11eac8",
   "metadata": {},
   "source": [
    "##### Plot the Number of Tokens for all Utterances from Each Participant for Each Session and Save Utterance Text and Scores"
   ]
  },
  {
   "cell_type": "code",
   "execution_count": null,
   "id": "d69ac91e",
   "metadata": {},
   "outputs": [],
   "source": [
    "def save_utterance_text_and_scores(participant_utterances, leaders, participant_id):\n",
    "\n",
    "    # Create lists to save utterance text, participant scores, and participant names\n",
    "    X_fold_text = []\n",
    "    y_fold_score = []\n",
    "    participant_fold_names = []\n",
    "\n",
    "    # Generate plots and the data to fill the lists above by iterating through all participant utterances\n",
    "    fig, ax = plt.subplots()\n",
    "    for participant, session2utterances in participant_utterances.items():\n",
    "        \n",
    "        # We'll use these for the plot\n",
    "        x = list(session2utterances.keys())\n",
    "        y = []\n",
    "\n",
    "        # Fill the empty lists above with info for this participant from each session\n",
    "        for i in x:\n",
    "            \n",
    "            # Build list of all utterances for this participant\n",
    "            all_utterances = session2utterances[i]\n",
    "\n",
    "            # Add the sep token to the utterance text to separate utterances and combine them into one string\n",
    "            all_utterance_text = sep_token.join(all_utterances)\n",
    "\n",
    "            # Get the outcome score for the given session and participant\n",
    "            # Note that the session numbers start at 1 in score_df\n",
    "            s_num = i + 1\n",
    "            \n",
    "            if participant_id == \"pseudonym\":\n",
    "                \n",
    "                score_row = score_df[\n",
    "                    (score_df[\"session\"] == s_num) & (score_df[\"pseudonym\"] == participant.replace('_2', ''))\n",
    "                ][outcome]\n",
    "                \n",
    "            elif participant_id == \"wdscode\":\n",
    "                \n",
    "                score_row = score_df[\n",
    "                    (score_df[\"session\"] == s_num) & (score_df[\"wdscode\"] == participant)\n",
    "                ][outcome]\n",
    "\n",
    "            # Check that either the score is missing and the row is empty or there is one value for the score\n",
    "            assert score_row.shape[0] in [\n",
    "                0,\n",
    "                1,\n",
    "            ], f\"{score_row.shape[0]} rows with values {score_row} for participant {participant} at session {s_num}.\"\n",
    "\n",
    "            # If a non-missing score is recorded, save it along with the utterance text and participant name and ID\n",
    "            if score_row.shape[0] == 1 and not score_row.isnull().values.any():\n",
    "                X_fold_text.append(all_utterance_text)\n",
    "                y_fold_score.append(score_row.item())\n",
    "                participant_fold_names.append((i, participant))\n",
    "\n",
    "            # Compute the number of subwords in the utterance text\n",
    "            tokenized_text = dist_tokenizer(\n",
    "                all_utterance_text,\n",
    "                padding=False,\n",
    "                truncation=True,\n",
    "                max_length=dist_max_seq_len,\n",
    "            )\n",
    "            num_subwords = len(tokenized_text[\"input_ids\"])\n",
    "            y.append(num_subwords)\n",
    "\n",
    "        ax.plot(x, y, label=participant)\n",
    "\n",
    "    # Set plot title and axis labels\n",
    "    ax.set_title(\"All Utterances Length in Tokens per Session per Speaker\")\n",
    "    ax.set_xlabel(\"Session Number\")\n",
    "    ax.set_ylabel(\"All Utterances Length in Tokens\")\n",
    "\n",
    "    # Set legend\n",
    "    ax.legend(fontsize=6, loc=\"best\")\n",
    "\n",
    "    # Show plot\n",
    "    plt.show()\n",
    "    \n",
    "    return X_fold_text, y_fold_score, participant_fold_names"
   ]
  },
  {
   "cell_type": "code",
   "execution_count": null,
   "id": "f9ee31ab",
   "metadata": {},
   "outputs": [],
   "source": [
    "X_fold_text_iter2, y_fold_score_iter2, participant_fold_names_iter2 = save_utterance_text_and_scores(\n",
    "    participant_utterances=participant_utterances_iter2, \n",
    "    leaders=leaders_iter2,\n",
    "    participant_id=\"pseudonym\"\n",
    ")"
   ]
  },
  {
   "cell_type": "code",
   "execution_count": null,
   "id": "b33e903f",
   "metadata": {},
   "outputs": [],
   "source": [
    "X_fold_text_iter3, y_fold_score_iter3, participant_fold_names_iter3 = save_utterance_text_and_scores(\n",
    "    participant_utterances=participant_utterances_iter3, \n",
    "    leaders=leaders_iter3,\n",
    "    participant_id=\"wdscode\"\n",
    ")"
   ]
  },
  {
   "cell_type": "markdown",
   "id": "0da1c7f5",
   "metadata": {},
   "source": [
    "##### Summarize Transcripts\n",
    "A prompt focused on the goal of providing the overall sentiment of the session might perform better than simply asking for a summary."
   ]
  },
  {
   "cell_type": "code",
   "execution_count": null,
   "id": "893cae46",
   "metadata": {},
   "outputs": [],
   "source": [
    "def summarize_session_texts(session_texts, summaries_output_dir):\n",
    "    \n",
    "    if not os.path.exists(summaries_output_dir):\n",
    "        os.makedirs(summaries_output_dir)\n",
    "\n",
    "    # Iterate over documents and summarize them\n",
    "    summaries = []\n",
    "    for i, sequence in enumerate(session_texts):\n",
    "\n",
    "        # Generate summary\n",
    "        summary = summarize_transcript(\n",
    "            transcript_str = sequence,\n",
    "            config=config,\n",
    "            transcript_topic=transcript_topic,\n",
    "            wrt=wrt \n",
    "        )\n",
    "        \n",
    "        # Save list of summaries\n",
    "        summaries.append(summary)\n",
    "        \n",
    "        # Save individual summary to a file\n",
    "        out_file = os.path.join(summaries_output_dir, f'session_{i}.txt')\n",
    "        with open(out_file, \"w\") as f:\n",
    "            f.write(summary)\n",
    "            \n",
    "    return summaries"
   ]
  },
  {
   "cell_type": "code",
   "execution_count": null,
   "id": "3e305c5f",
   "metadata": {},
   "outputs": [],
   "source": [
    "if add_summaries:\n",
    "    \n",
    "    summaries_iter2 = summarize_session_texts(\n",
    "        session_texts=session_texts_iter2,\n",
    "        summaries_output_dir=summaries_output_dir_iter2\n",
    "    )\n",
    "    \n",
    "    summaries_iter3 = summarize_session_texts(\n",
    "        session_texts=session_texts_iter3,\n",
    "        summaries_output_dir=summaries_output_dir_iter3\n",
    "    )"
   ]
  },
  {
   "cell_type": "markdown",
   "id": "45d53bd5",
   "metadata": {},
   "source": [
    "##### Turn Saved Utterance Text and Scores into Data Folds and Threshold Scores\n",
    "- This assumes the data will be used to train binary classifiers with K-Fold cross-validation where K is equal to the number of sessions and the the binary outcome variable is defined according to `outcome_cutoff`.\n",
    "- If desired, the code block combines a summary of the entire transcript with all utterances for a given participant using the sep token to separate the summary for the utterances and a special utterance seperator to seperate utterances."
   ]
  },
  {
   "cell_type": "code",
   "execution_count": null,
   "id": "10c398b7",
   "metadata": {},
   "outputs": [],
   "source": [
    "def create_folds(\n",
    "    num_sessions,\n",
    "    participant_fold_names,\n",
    "    X_fold_text,\n",
    "    y_fold_score,\n",
    "    add_summaries,\n",
    "    summaries,\n",
    "    sep_token, \n",
    "    utterance_seperator\n",
    "):\n",
    "\n",
    "    X_folds = {i: [] for i in range(num_sessions)}\n",
    "    y_folds = {i: [] for i in range(num_sessions)}\n",
    "    names = {i: [] for i in range(num_sessions)}\n",
    "\n",
    "    for record, text, score in zip(participant_fold_names, X_fold_text, y_fold_score):\n",
    "        if not text or text.strip() == \"\" or text == \"\\n\":\n",
    "            continue\n",
    "\n",
    "        session_number = record[0]\n",
    "        name = record[1]\n",
    "\n",
    "        binary_score = 1 if score >= outcome_cutoff else 0\n",
    "\n",
    "        if add_summaries:\n",
    "            summary = summaries[session_number]\n",
    "            sample_text = summary + sep_token + text.replace(sep_token, utterance_seperator)\n",
    "        else:\n",
    "            sample_text = text\n",
    "\n",
    "        X_folds[session_number].append(sample_text)\n",
    "        y_folds[session_number].append(binary_score)\n",
    "        names[session_number].append(name)\n",
    "        \n",
    "    return X_folds, y_folds, names"
   ]
  },
  {
   "cell_type": "code",
   "execution_count": null,
   "id": "1e5ca5d6",
   "metadata": {},
   "outputs": [],
   "source": [
    "X_folds_iter2, y_folds_iter2, names_iter2 = create_folds(\n",
    "    num_sessions=num_sessions_iter2,\n",
    "    participant_fold_names=participant_fold_names_iter2,\n",
    "    X_fold_text=X_fold_text_iter2,\n",
    "    y_fold_score=y_fold_score_iter2,\n",
    "    add_summaries=add_summaries,\n",
    "    summaries=summaries_iter2 if add_summaries else None,\n",
    "    sep_token=sep_token, \n",
    "    utterance_seperator=utterance_seperator\n",
    ")"
   ]
  },
  {
   "cell_type": "code",
   "execution_count": null,
   "id": "ffa363df",
   "metadata": {},
   "outputs": [],
   "source": [
    "X_folds_iter3, y_folds_iter3, names_iter3 = create_folds(\n",
    "    num_sessions=num_sessions_iter3,\n",
    "    participant_fold_names=participant_fold_names_iter3,\n",
    "    X_fold_text=X_fold_text_iter3,\n",
    "    y_fold_score=y_fold_score_iter3,\n",
    "    add_summaries=add_summaries,\n",
    "    summaries=summaries_iter3 if add_summaries else None,\n",
    "    sep_token=sep_token, \n",
    "    utterance_seperator=utterance_seperator\n",
    ")"
   ]
  },
  {
   "cell_type": "markdown",
   "id": "82776250",
   "metadata": {},
   "source": [
    "##### Merge Folds from all Iterations"
   ]
  },
  {
   "cell_type": "code",
   "execution_count": null,
   "id": "0d42f487",
   "metadata": {},
   "outputs": [],
   "source": [
    "def merge_folds(all_X_folds, all_y_folds, all_names):\n",
    "\n",
    "    merged_X_folds = {}\n",
    "    merged_y_folds = {}\n",
    "    merged_names = {}\n",
    "    \n",
    "    fold_idx = 0\n",
    "    for i in range(len(all_names)):\n",
    "        for xs, ys, names in zip(all_X_folds[i].values(), all_y_folds[i].values(), all_names[i].values()):\n",
    "            merged_X_folds[fold_idx] = xs\n",
    "            merged_y_folds[fold_idx] = ys\n",
    "            merged_names[fold_idx] = names\n",
    "            fold_idx += 1\n",
    "            \n",
    "    return merged_X_folds, merged_y_folds, merged_names\n",
    "\n",
    "X_folds, y_folds, names = merge_folds(\n",
    "    all_X_folds=[X_folds_iter2, X_folds_iter3],\n",
    "    all_y_folds=[y_folds_iter2, y_folds_iter3],\n",
    "    all_names=[names_iter2, names_iter3]\n",
    ")"
   ]
  },
  {
   "cell_type": "markdown",
   "id": "8d2e0234",
   "metadata": {},
   "source": [
    "##### Optionally Combine Folds \n",
    "If desired, K can be less than the number of sessions. Use `div_num_folds` to reduce the number of folds to `num_sessions` / `div_num_folds`."
   ]
  },
  {
   "cell_type": "code",
   "execution_count": null,
   "id": "6dc49978",
   "metadata": {},
   "outputs": [],
   "source": [
    "if div_num_folds > 0:\n",
    "    X_folds = {\n",
    "        fold: X_folds[i] + X_folds[i + 1]\n",
    "        for fold, i in enumerate(range(0, total_num_sessions, div_num_folds))\n",
    "    }\n",
    "    y_folds = {\n",
    "        fold: y_folds[i] + y_folds[i + 1]\n",
    "        for fold, i in enumerate(range(0, total_num_sessions, div_num_folds))\n",
    "    }\n",
    "    names = {\n",
    "        fold: names[i] + names[i + 1]\n",
    "        for fold, i in enumerate(range(0, total_num_sessions, div_num_folds))\n",
    "    }"
   ]
  },
  {
   "cell_type": "markdown",
   "id": "9e6a4827",
   "metadata": {},
   "source": [
    "##### Pickle the Data to Use for Modeling"
   ]
  },
  {
   "cell_type": "code",
   "execution_count": null,
   "id": "e681ed93",
   "metadata": {},
   "outputs": [],
   "source": [
    "if add_summaries:\n",
    "    with open(f\"data/{outcome}_Xwsum_folds.pkl\", \"wb\") as f:\n",
    "        pickle.dump(X_folds, f)\n",
    "else:\n",
    "    with open(f\"data/{outcome}_X_folds.pkl\", \"wb\") as f:\n",
    "        pickle.dump(X_folds, f)\n",
    "\n",
    "with open(f\"data/{outcome}_y_folds.pkl\", \"wb\") as f:\n",
    "    pickle.dump(y_folds, f)\n",
    "\n",
    "with open(f\"data/{outcome}_names.pkl\", \"wb\") as f:\n",
    "    pickle.dump(names, f)"
   ]
  },
  {
   "cell_type": "code",
   "execution_count": null,
   "id": "f1b1ebc5",
   "metadata": {},
   "outputs": [],
   "source": []
  }
 ],
 "metadata": {
  "kernelspec": {
   "display_name": "transcripts",
   "language": "python",
   "name": "transcripts"
  },
  "language_info": {
   "codemirror_mode": {
    "name": "ipython",
    "version": 3
   },
   "file_extension": ".py",
   "mimetype": "text/x-python",
   "name": "python",
   "nbconvert_exporter": "python",
   "pygments_lexer": "ipython3",
   "version": "3.8.18"
  }
 },
 "nbformat": 4,
 "nbformat_minor": 5
}
